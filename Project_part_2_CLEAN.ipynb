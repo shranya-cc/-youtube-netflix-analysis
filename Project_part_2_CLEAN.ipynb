{
 "cells": [
  {
   "cell_type": "markdown",
   "metadata": {
    "id": "uqRaJoTft9GO"
   },
   "source": [
    "* Netflix Analysis"
   ]
  },
  {
   "cell_type": "markdown",
   "metadata": {
    "id": "Ap2NT2qD8nkT"
   },
   "source": [
    "Checking for the columns in Netflix"
   ]
  },
  {
   "cell_type": "markdown",
   "metadata": {
    "id": "v07S1-jq-pNp"
   },
   "source": [
    "1. Popular Genres (listed_in) for Netflix"
   ]
  },
  {
   "cell_type": "code",
   "execution_count": null,
   "metadata": {
    "colab": {
     "base_uri": "https://localhost:8080/"
    },
    "id": "qEiA1DIZ-aYt",
    "outputId": "ea4aec59-63a4-45e8-e54e-c56d417f2611"
   },
   "outputs": [],
   "source": [
    "genre_counts = df_netflix['listed_in'].value_counts()\n",
    "#Counting shows by genre\n",
    "print(\"Top 10 Genres by Number of Shows:\") #Shows top 10 genres\n",
    "print(genre_counts.head(10))"
   ]
  },
  {
   "cell_type": "markdown",
   "metadata": {
    "id": "urpgYO05_d3j"
   },
   "source": [
    "* Visualising the Popular Genres"
   ]
  },
  {
   "cell_type": "code",
   "execution_count": null,
   "metadata": {
    "colab": {
     "base_uri": "https://localhost:8080/"
    },
    "id": "UInKHSCk_akA",
    "outputId": "3ca76442-ec86-4cf1-965a-f8e9670b7252"
   },
   "outputs": [],
   "source": [
    "!pip install squarify #Downloading squarify"
   ]
  },
  {
   "cell_type": "code",
   "execution_count": null,
   "metadata": {
    "colab": {
     "base_uri": "https://localhost:8080/",
     "height": 707
    },
    "id": "AwBYb1piuJKB",
    "outputId": "f4f52124-1b38-4b21-803d-be23ee06902e"
   },
   "outputs": [],
   "source": [
    "import squarify #Importing squarify for treemap\n",
    "import seaborn as sns\n",
    "import matplotlib.pyplot as plt\n",
    "from matplotlib.patches import Patch #Used to manually create legend patches\n",
    "\n",
    "top_genres = df_netflix['listed_in'].value_counts().head(10)\n",
    "plt.figure(figsize = (12,7)) #Making a new plot area that's 12 inches wide and 7 inches tall\n",
    "\n",
    "colors = sns.color_palette('tab20', len(top_genres))\n",
    "\n",
    "squarify.plot(sizes = top_genres.values, label = ['']*len(top_genres), alpha = 0.8, color = colors)\n",
    "#Making a treemap where each rectangle's size matches the genre's count, labeling it with the genre's name, coloring each rectangle differently using a palatte and,\n",
    "#Making them slightly transparent.\n",
    "\n",
    "plt.title('Top 10 Netflix Genres by Number of Shows(Treemap)', fontsize=16)\n",
    "#Title of the treemap\n",
    "plt.axis('off')\n",
    "\n",
    "# Creating custom legend with colors and genre names\n",
    "legend_labels = top_genres.index.tolist()\n",
    "legend_handles = [Patch(color=colors[i], label=legend_labels[i]) for i in range(len(legend_labels))]\n",
    "plt.legend(handles=legend_handles, bbox_to_anchor=(1.05, 1), loc='upper left', borderaxespad=0.)\n",
    "#Adds a separate legend box to the right of the chart\n",
    "\n",
    "plt.tight_layout()\n",
    "plt.show()\n"
   ]
  },
  {
   "cell_type": "markdown",
   "metadata": {
    "id": "8s272jKIEXF0"
   },
   "source": [
    "2. Releasing Years of Netflix Shows"
   ]
  },
  {
   "cell_type": "code",
   "execution_count": null,
   "metadata": {
    "colab": {
     "base_uri": "https://localhost:8080/",
     "height": 702
    },
    "id": "3IaN7ImMEh9k",
    "outputId": "db4197db-1ce8-4d09-b2ae-b2049f5431c6"
   },
   "outputs": [],
   "source": [
    "plt.figure(figsize=(14,6))\n",
    "\n",
    "#KDE(Kernel Density Estimate) plot\n",
    "sns.kdeplot(df_netflix['release_year'], fill = True, color = 'navy', alpha = 0.6, label = 'KDE')\n",
    "\n",
    "#Rug Plot(small ticks showing individual data points)\n",
    "sns.rugplot(df_netflix['release_year'], color = 'black')\n",
    "\n",
    "plt.title('Release Year Distribution with KDE and Rug Plot', fontsize = 16)\n",
    "plt.xlabel('Release Year')\n",
    "plt.ylabel('Density')\n",
    "plt.legend()\n",
    "plt.show()\n",
    "\n",
    "#Violin plot for distribution summary\n",
    "plt.figure(figsize=(10,5))\n",
    "sns.violinplot(x = df_netflix['release_year'], color = 'pink', inner = 'quartile')\n",
    "plt.title('Violin Plot of Release Years', fontsize = 16)\n",
    "plt.xlabel('Release Year')\n",
    "plt.show()\n"
   ]
  },
  {
   "cell_type": "markdown",
   "metadata": {
    "id": "TokT-mnFGywt"
   },
   "source": [
    "3. Ratings Distribution"
   ]
  },
  {
   "cell_type": "code",
   "execution_count": null,
   "metadata": {
    "colab": {
     "base_uri": "https://localhost:8080/",
     "height": 839
    },
    "id": "FZzQ6u5LG4hu",
    "outputId": "11953e23-8946-421a-fd34-ad8b32b8ebe6"
   },
   "outputs": [],
   "source": [
    "import pandas as pd\n",
    "import seaborn as sns\n",
    "import matplotlib.pyplot as plt\n",
    "\n",
    "#Bar plot with percentages on top\n",
    "plt.figure(figsize=(12,6))\n",
    "ax = sns.countplot(data = df_netflix, x = 'rating', order = df_netflix['rating'].value_counts().index, palette = 'coolwarm')\n",
    "\n",
    "#Calculating the percentages\n",
    "total = len(df_netflix)\n",
    "for p in ax.patches: #Patches means listing all the graphical elememts and ax is axes\n",
    "     percentage = '{:.1f}%'.format(100 * p.get_height()/total)\n",
    "     ax.annotate(percentage, (p.get_x() + p.get_width() / 2., p.get_height()),\n",
    "                 #Annotate means to add text label and to store the percentage\n",
    "            ha='center', va='center', fontsize=11, color='blue', xytext=(0,8),\n",
    "            textcoords='offset points')\n",
    "\n",
    "#Adding a title and axis labels\n",
    "plt.title('Netflix Ratings Distribution With Percentages', fontsize = 16)\n",
    "plt.xlabel('Rating')\n",
    "plt.ylabel('count')\n",
    "plt.xticks(rotation = 45)\n",
    "plt.show()\n",
    "\n",
    "#Pie chart grouped in small categories\n",
    "rating_counts = df_netflix['rating'].value_counts()\n",
    "threshold = 1  # 1% threshold\n",
    "total = rating_counts.sum()\n",
    "\n",
    "# Separating large and small slices\n",
    "large = rating_counts[rating_counts / total * 100 > threshold]\n",
    "small = rating_counts[rating_counts / total * 100 <= threshold]\n",
    "\n",
    "# Sum small slices into one \"Other\"\n",
    "if not small.empty:\n",
    "    large['Other'] = small.sum()\n",
    "\n",
    "#Plotting pie with large + other\n",
    "plt.figure(figsize=(14, 8))\n",
    "wedges, texts, autotexts = plt.pie(\n",
    "    large,\n",
    "    labels=None,\n",
    "    autopct='%1.1f%%',\n",
    "    startangle=140,\n",
    "    colors=sns.color_palette('coolwarm', len(large)),\n",
    "    pctdistance=1.0,\n",
    "    labeldistance=1.2,\n",
    "    wedgeprops={'edgecolor': 'white'},\n",
    "    explode=[0.05] * len(large)\n",
    ")\n",
    "\n",
    "plt.legend(\n",
    "    wedges, large.index, title=\"Ratings\",\n",
    "    loc=\"center left\", bbox_to_anchor=(1, 0.5),#bbox is bounding box to anchor\n",
    "    #bbox refers to the anchor points relative to the figure and loc species which point of the legend box.\n",
    "    bbox_transform=plt.gcf().transFigure #plt.gcf() is get current figure\n",
    ")\n",
    "plt.title('Ratings Proportion Pie Chart (Grouped Small Categories)', fontsize=16, pad=20)\n",
    "plt.axis('equal')\n",
    "plt.tight_layout()\n",
    "plt.show()\n",
    "\n"
   ]
  },
  {
   "cell_type": "code",
   "execution_count": null,
   "metadata": {
    "colab": {
     "base_uri": "https://localhost:8080/",
     "height": 461
    },
    "id": "mozDSKTnZLIq",
    "outputId": "52b960c9-faef-4f35-aa2f-2d333d17ebe5"
   },
   "outputs": [],
   "source": [
    "#Bar plot with percentages on top\n",
    "plt.figure(figsize=(12,6))\n",
    "ax = sns.countplot(data = df_netflix, x = 'rating', order = df_netflix['rating'].value_counts().index, palette = 'coolwarm')\n",
    "\n",
    "#Calculates the percentage each rating category contributes to the total\n",
    "#Adds these percentages labels above each bar for better understanding\n",
    "#Formula followed :- percentage = (count(count of items)/total(total no of items)*100)\n",
    "total = len(df_netflix)\n",
    "for p in ax.patches:\n",
    "    percentage = '{:.1f}%'.format(100 * p.get_height() / total)\n",
    "    ax.annotate(percentage, (p.get_x() + p.get_width() / 2., p.get_height()),\n",
    "                ha='center', va='center', fontsize=11, color='blue', xytext=(0, 8),\n",
    "                textcoords='offset points')\n"
   ]
  },
  {
   "cell_type": "markdown",
   "metadata": {
    "id": "i0J8ke0vbICn"
   },
   "source": [
    "4. Duration vs Rating Analysis"
   ]
  },
  {
   "cell_type": "code",
   "execution_count": null,
   "metadata": {
    "colab": {
     "base_uri": "https://localhost:8080/",
     "height": 515
    },
    "id": "awJJbt1lvIck",
    "outputId": "2bcea6e2-14f4-446e-c4a9-5b50903f1339"
   },
   "outputs": [],
   "source": [
    "import matplotlib.pyplot as plt\n",
    "import seaborn as sns\n",
    "import pandas as pd\n",
    "import warnings\n",
    "\n",
    "warnings.filterwarnings('ignore')\n",
    "df_movies = df_netflix[df_netflix['type'] == 'Movie'].copy()\n",
    "#Filtering to keep movies only\n",
    "\n",
    "df_movies['duration_minutes'] = df_movies['duration'].str.extract('(\\d+)').astype(float)\n",
    "#Extracting numeric duration from 'duration' column\n",
    "\n",
    "# Keeping top 6 ratings only, rest grouped into 'Other'\n",
    "top_ratings = df_movies['rating'].value_counts().nlargest(6).index\n",
    "df_movies['rating'] = df_movies['rating'].apply(lambda x: x if x in top_ratings else 'Other')\n",
    "\n",
    "plt.figure(figsize=(16, 6))\n",
    "#size of the figure\n",
    "\n",
    "#Boxplot\n",
    "plt.subplot(1, 3, 1)\n",
    "sns.boxplot(data = df_movies, x = 'rating', y = 'duration_minutes', palette = 'viridis')\n",
    "plt.title('Boxplot: Duration vs Rating', fontsize = 14)\n",
    "\n",
    "#Stripplot\n",
    "plt.subplot(1, 3, 2)\n",
    "sns.stripplot(data = df_movies, x = 'rating', y = 'duration_minutes', palette = 'coolwarm', alpha = 0.6, jitter = True)\n",
    "plt.title('Stripplot: Duration vs Rating', fontsize = 14)\n",
    "\n",
    "#Swarmplot\n",
    "plt.subplot(1, 3 ,3)\n",
    "sns.swarmplot(data = df_movies, x = 'rating', y = 'duration_minutes', palette = 'Spectral', size = 3)\n",
    "plt.title('Swarmplot: Duration vs Rating', fontsize = 14)\n",
    "\n",
    "plt.xticks(rotation = 45)\n",
    "plt.tight_layout(rect = [0, 0.05, 1, 1])  # extra bottom space for labels\n",
    "plt.show()\n"
   ]
  },
  {
   "cell_type": "markdown",
   "metadata": {
    "id": "2h6DeUg9t1ov"
   },
   "source": [
    "* YouTube Analysis"
   ]
  },
  {
   "cell_type": "markdown",
   "metadata": {
    "id": "AA_KT0V6uGdq"
   },
   "source": [
    "1. Trend Analysis"
   ]
  },
  {
   "cell_type": "code",
   "execution_count": null,
   "metadata": {
    "colab": {
     "base_uri": "https://localhost:8080/",
     "height": 572
    },
    "id": "3QMSodn6AYmM",
    "outputId": "0d0ec796-fb46-454f-af24-a0e28597a856"
   },
   "outputs": [],
   "source": [
    "import pandas as pd\n",
    "import matplotlib.pyplot as plt\n",
    "from mpl_toolkits.mplot3d import Axes3D\n",
    "import numpy as np\n",
    "from matplotlib.offsetbox import AnchoredText\n",
    "#AnchoredText for dense graphs\n",
    "\n",
    "\n",
    "# Converting publish_time to datetime\n",
    "df_youtube['publish_time'] = pd.to_datetime(df_youtube['publish_time'])\n",
    "\n",
    "# Creating year-month period column\n",
    "df_youtube['year_month'] = df_youtube['publish_time'].dt.to_period('M')\n",
    "\n",
    "# Category mapping dict(as per the dataset)\n",
    "category_mapping = {\n",
    "    1: \"Film & Animation\",\n",
    "    2: \"Autos & Vehicles\",\n",
    "    10: \"Music\",\n",
    "    15: \"Pets & Animals\",\n",
    "    17: \"Sports\",\n",
    "    18: \"Short Movies\",\n",
    "    19: \"Travel & Events\",\n",
    "    20: \"Gaming\",\n",
    "    22: \"People & Blogs\",\n",
    "    23: \"Comedy\",\n",
    "    24: \"Entertainment\",\n",
    "    25: \"News & Politics\",\n",
    "    26: \"Howto & Style\",\n",
    "    27: \"Education\",\n",
    "    28: \"Science & Technology\",\n",
    "    29: \"Nonprofits & Activism\",\n",
    "\n",
    "}\n",
    "\n",
    "# Mapping category_id to category names\n",
    "df_youtube['category'] = df_youtube['category_id'].map(category_mapping)\n",
    "\n",
    "# Group by (grouping) category and year_month, count videos\n",
    "grouped = df_youtube.groupby(['category', 'year_month']).size().reset_index(name='video_counts')\n",
    "\n",
    "# Pivot table: rows=category, columns=year_month, values=video_counts\n",
    "pivot_table = grouped.pivot(index='category', columns='year_month', values='video_counts').fillna(0)\n",
    "\n",
    "categories = pivot_table.index.tolist()\n",
    "months = pivot_table.columns.astype(str).tolist()\n",
    "#It creates a list of strings representing all the months (year-months) from pivot table columns\n",
    "\n",
    "cat_pos = np.arange(len(categories)) #y-axis\n",
    "month_pos = np.arange(len(months)) #x-axis\n",
    "\n",
    "# Create mesh grid for bars\n",
    "x_pos, y_pos = np.meshgrid(month_pos, cat_pos)\n",
    "x_pos = x_pos.flatten()\n",
    "y_pos = y_pos.flatten()\n",
    "z_pos = np.zeros_like(x_pos)\n",
    "\n",
    "#dx and dy represents width and depth respectively\n",
    "dx = dy = 0.8\n",
    "dz = pivot_table.values.flatten()\n",
    "#dz is a 2D NumPy of the data\n",
    "\n",
    "# Plot setup\n",
    "fig = plt.figure(figsize=(20, 12))\n",
    "ax = fig.add_subplot(111, projection='3d')\n",
    "\n",
    "# 3D bar plot\n",
    "ax.bar3d(x_pos, y_pos, z_pos, dx, dy, dz, shade=True)\n",
    "\n",
    "# Setting numeric ticks to avoid overlapping\n",
    "ax.set_xticks(month_pos[::6])  # Showing every 6th month tick\n",
    "ax.set_xticklabels([str(i+1) for i in month_pos[::6]], rotation=90, fontsize=10)\n",
    "ax.set_yticks(cat_pos[::3])  # Showing every 3rd category tick\n",
    "ax.set_yticklabels([str(i+1) for i in cat_pos[::3]], fontsize=10)\n",
    "\n",
    "ax.set_xlabel('Month (see legend)')\n",
    "ax.set_ylabel('Category (see legend)')\n",
    "ax.set_zlabel('Number of Videos')\n",
    "\n",
    "plt.title('Trending Video Categories Over Time (3D Bar Plot)', fontsize=16)\n",
    "\n",
    "# Adding category legend (index : name)\n",
    "category_text = \"\\n\".join([f\"{i+1}. {cat}\" for i, cat in enumerate(categories)])\n",
    "anchored_cat = AnchoredText(category_text, loc='center left', prop=dict(size=10), frameon=True, pad=0.5)\n",
    "anchored_cat.patch.set_boxstyle(\"round,pad=0.5,rounding_size=0.5\")\n",
    "ax.add_artist(anchored_cat)\n",
    "\n",
    "# Adding month legend at bottom right outside plot\n",
    "month_text = \"\\n\".join([f\"{i+1}. {m}\" for i, m in enumerate(months[::6])])\n",
    "# Placing as a text box below plot\n",
    "plt.gcf().text(0.8, 0.1, \"Months:\\n\" + month_text, fontsize=10, bbox=dict(facecolor='white', edgecolor='black', boxstyle='round,pad=0.5'))\n",
    "\n",
    "plt.tight_layout()\n",
    "plt.show()\n"
   ]
  },
  {
   "cell_type": "code",
   "execution_count": null,
   "metadata": {
    "colab": {
     "base_uri": "https://localhost:8080/"
    },
    "id": "_WUWTMfUDPuG",
    "outputId": "a0f0a354-0865-41c3-bbf1-1fcc168de73f"
   },
   "outputs": [],
   "source": [
    "#cat_pos refers to the position of the category in y-axis\n",
    "#month_pos refers to the position of the month_pos in x-axis\n",
    "cat_pos = np.arange(len(categories))\n",
    "month_pos = np.arange(len(months))\n",
    "\n",
    "#Using slicing on the month_pos array, so it selects every 6th element from month_pos\n",
    "ax.set_xticks(month_pos[::6])\n",
    "ax.set_xticklabels([str(i+1) for i in month_pos[::6]], rotation=90, fontsize=10)\n",
    "#This is a list where we use for loop, i from the sliced array\n",
    "#Adds 1 to it (i+1)\n",
    "#Converts that number to a string(str(...)).\n",
    "ax.set_yticks(cat_pos[::3])\n",
    "ax.set_yticklabels([str(i+1) for i in cat_pos[::3]], fontsize=10)\n",
    "#The same happens here just that it happens with y-axis\n",
    "\n",
    "#This is a list comprehension that loops over all categories with their indexes i\n",
    "#For each category it creates a string\n",
    "#i+1 is used to start numbering from 1 to 0\n",
    "category_text = \"\\n\".join([f\"{i+1}. {cat}\" for i, cat in enumerate(categories)])\n",
    "anchored_cat = AnchoredText(category_text, loc='center left', prop=dict(size=10), frameon=True, pad=0.5)\n",
    "#Creates a floating box of text(AnchoredText),containing the category_text\n",
    "anchored_cat.patch.set_boxstyle(\"round,pad=0.5,rounding_size=0.5\")\n",
    "#Styles the box with rounded corners and some padding for aesthetics.\n",
    "ax.add_artist(anchored_cat)\n",
    "#Adds this anchored text box as an artist (an element) to the plot."
   ]
  },
  {
   "cell_type": "markdown",
   "metadata": {
    "id": "YRq4LzrPIarO"
   },
   "source": [
    "2. Correlation And Relationships"
   ]
  },
  {
   "cell_type": "markdown",
   "metadata": {
    "id": "adfmbJ3RDqQl"
   },
   "source": [
    "### ***Variables are connected to each other***"
   ]
  },
  {
   "cell_type": "code",
   "execution_count": null,
   "metadata": {
    "colab": {
     "base_uri": "https://localhost:8080/",
     "height": 1000
    },
    "id": "m7nqwyS5Oww-",
    "outputId": "239a6230-47fc-41f6-cf3e-81a13cfdfe61"
   },
   "outputs": [],
   "source": [
    "import pandas as pd\n",
    "import matplotlib.pyplot as plt\n",
    "from mpl_toolkits.mplot3d import Axes3D\n",
    "import numpy as np\n",
    "\n",
    "# Correlation Matrix :- measure the strength of relationships between numeric columns.\n",
    "numeric_cols = ['views', 'likes', 'dislikes', 'comment_count']\n",
    "correlation_matrix = df_youtube[numeric_cols].corr()\n",
    "\n",
    "# Print the matrix for visibility\n",
    "corr_matrix = df_youtube[numeric_cols].corr()\n",
    "print('Correlation Matrix:\\n', corr_matrix)\n",
    "\n",
    "# 3D Bar Plot for Correlation Matrix\n",
    "fig = plt.figure(figsize=(10, 8))\n",
    "ax = fig.add_subplot(111, projection='3d')\n",
    "\n",
    "#Define x and y axis labels based on the column names\n",
    "x_labels = numeric_cols\n",
    "y_labels = numeric_cols\n",
    "\n",
    "#Positioning :- Creating index positions for x and y axes\n",
    "x_pos = np.arange(len(x_labels))\n",
    "y_pos = np.arange(len(y_labels))\n",
    "\n",
    "#Create 2D grid positions for bars\n",
    "x_pos, y_pos = np.meshgrid(x_pos, y_pos)\n",
    "x_pos = x_pos.flatten()\n",
    "y_pos = y_pos.flatten()\n",
    "z_pos = np.zeros_like(x_pos)\n",
    "dx = dy = 0.5\n",
    "dz = corr_matrix.values.flatten() #All bars start from 0 on z-axis\n",
    "\n",
    "#3D Bar plot with light pink bars to show correlation strength\n",
    "ax.bar3d(x_pos, y_pos, z_pos, dx, dy, dz, shade=True, color='#FFB6C1')\n",
    "\n",
    "#Set axis labels and ticks\n",
    "ax.set_xticks(np.arange(len(x_labels)))\n",
    "ax.set_xticklabels(x_labels, rotation=45, ha='right')\n",
    "ax.set_yticks(np.arange(len(y_labels)))\n",
    "ax.set_yticklabels(y_labels)\n",
    "ax.set_zlim(-1, 1) #Correlation values range betwwn -1 and 1\n",
    "ax.set_zlabel('Correlation Coefficient')\n",
    "\n",
    "plt.title('Correlation Matrix of YouTube Metrics (3D Bar Plot)')\n",
    "plt.show()\n",
    "\n",
    "# 3D Scatter Plot for Relationship Analysis between views, likes, and comments\n",
    "fig = plt.figure(figsize=(12, 8))\n",
    "ax = fig.add_subplot(111, projection='3d')\n",
    "\n",
    "#Extract values for plotting\n",
    "views = df_youtube['views']\n",
    "likes = df_youtube['likes']\n",
    "comments = df_youtube['comment_count']\n",
    "\n",
    "#Aesthetic Improvements\n",
    "colors = plt.cm.viridis(views / views.max())   # Normalizing for coloring\n",
    "sizes = 10 * (likes / likes.max())             # Size based on likes\n",
    "\n",
    "#Scatter plot\n",
    "scatter = ax.scatter(\n",
    "    views, likes, comments,\n",
    "    c = views,\n",
    "    cmap = 'viridis',\n",
    "    s=sizes,\n",
    "    alpha=0.4\n",
    ")\n",
    "\n",
    "#Setting axis labels\n",
    "ax.set_xlabel('Views')\n",
    "ax.set_ylabel('Likes')\n",
    "ax.set_zlabel('Comment Count')\n",
    "plt.title('3D Scatter Plot: Views vs Likes vs Comment Count')\n",
    "\n",
    "#Color bar to show color scale based on views\n",
    "cbar = plt.colorbar(scatter, pad=0.1)\n",
    "cbar.set_label('Views')\n",
    "\n",
    "plt.show()\n"
   ]
  },
  {
   "cell_type": "markdown",
   "metadata": {
    "id": "Qg8f8VWqEHFp"
   },
   "source": [
    "3. Distribution Analysis"
   ]
  },
  {
   "cell_type": "markdown",
   "metadata": {
    "id": "um4NUhbsEKQc"
   },
   "source": [
    "***Deepening the understanding of the datasets***"
   ]
  },
  {
   "cell_type": "code",
   "execution_count": null,
   "metadata": {
    "colab": {
     "base_uri": "https://localhost:8080/",
     "height": 386
    },
    "id": "bl_OYoqb7nFO",
    "outputId": "71e98b08-a852-4dfe-9964-1f807e027c08"
   },
   "outputs": [],
   "source": [
    "import numpy as np\n",
    "import pandas as pd\n",
    "import matplotlib.pyplot as plt\n",
    "from scipy.stats import binned_statistic_2d\n",
    "#Library prepares 2D data using statistics from 3D points\n",
    "\n",
    "#Using two variables\n",
    "x = df_youtube['views']\n",
    "y = df_youtube['likes']\n",
    "\n",
    "#Using a metric in each bin\n",
    "z = df_youtube['comment_count']\n",
    "\n",
    "#Defining the bins\n",
    "x_bins = np.linspace(x.min(), x.max(), 50)\n",
    "y_bins = np.linspace(y.min(), y.max(), 50)\n",
    "\n",
    "#Computing binned statsitic (mean comment count per bin)\n",
    "statistic, x_edge, y_edge, binnumber = binned_statistic_2d(x, y, z, statistic = 'mean', bins = [x_bins, y_bins])\n",
    "\n",
    "#Computing binned statistic ( mean comment count per bin)\n",
    "x, y = np.meshgrid((x_edge[:-1] + x_edge[1:])/2,(y_edge[:-1] + y_edge[1:]) / 2)\n",
    "\n",
    "fig = plt.figure(figsize = (14,8))\n",
    "fig.tight_layout(pad=3.0) #Slightly adjusting the subplot to prevent crowding\n",
    "\n",
    "#3D Surface Plot\n",
    "ax1 = fig.add_subplot(121, projection = '3d')\n",
    "surf = ax1.plot_surface(X, Y, statistic.T, cmap='cividis', edgecolor='none')\n",
    "ax1.set_xlabel('views')\n",
    "ax1.set_ylabel('likes')\n",
    "# Surface plot color bar with better placement\n",
    "cbar1 = fig.colorbar(surf, ax=ax1, shrink=0.5, aspect=10, pad=0.1)\n",
    "cbar1.set_label('Average Comment Count', labelpad=15)  # Added padding to move label away\n",
    "ax1.set_title('3D Surface Plot: AVg Comments vs Views and Likes')\n",
    "fig.colorbar(surf, shrink = 0.5, aspect = 5)\n",
    "\n",
    "#Contour Plot\n",
    "ax2 = fig.add_subplot(122)\n",
    "contour = ax2.contourf(x, y, statistic.T, cmap='cubehelix')\n",
    "ax2.set_xlabel('views')\n",
    "ax2.set_ylabel('likes')\n",
    "ax2.set_title('Contour Plot: Avg comments Density')\n",
    "fig.colorbar(contour, ax = ax2)\n",
    "\n",
    "plt.tight_layout()\n",
    "plt.show()"
   ]
  },
  {
   "cell_type": "code",
   "execution_count": null,
   "metadata": {
    "id": "LJZ938rTOPFh"
   },
   "outputs": [],
   "source": [
    "from scipy.stats import binned_statistic_2d\n",
    "x = df_youtube['views']\n",
    "y = df_youtube['likes']\n",
    "z = df_youtube['comment_count']\n",
    "x_bins = np.linspace(x.min(), x.max(), 50)\n",
    "y_bins = np.linspace(y.min(), y.max(), 50)\n",
    "#It divides the 2D plane (x vs y) in grid-like bins,\n",
    "#It then calculates the statistic values\n",
    "statistic, x_edge, y_edge, binnumber = binned_statistic_2d(x, y, z, statistic = 'mean', bins = [x_bins, y_bins])\n",
    "#Computes the average of each pair of edges\n",
    "#Which gives the midpoint of the bins\n",
    "#slicing the NumPy arrays x_edge and y_edge\n",
    "x, y = np.meshgrid((x_edge[:-1] + x_edge[1:])/2,(y_edge[:-1] + y_edge[1:]) / 2)"
   ]
  },
  {
   "cell_type": "markdown",
   "metadata": {
    "id": "dInS-tvEc3EQ"
   },
   "source": [
    "4. Category-wise Analysis"
   ]
  },
  {
   "cell_type": "markdown",
   "metadata": {
    "id": "WpZq1IrMuA3D"
   },
   "source": [
    "\n",
    "\n",
    "> * Video Count Per Category\n",
    "\n"
   ]
  },
  {
   "cell_type": "code",
   "execution_count": null,
   "metadata": {
    "colab": {
     "base_uri": "https://localhost:8080/"
    },
    "id": "NWFfwXQWu7oI",
    "outputId": "840fff78-45bb-45e3-b945-a84b6881d83c"
   },
   "outputs": [],
   "source": [
    "print(df.columns)\n"
   ]
  },
  {
   "cell_type": "code",
   "execution_count": null,
   "metadata": {
    "colab": {
     "base_uri": "https://localhost:8080/",
     "height": 1000
    },
    "id": "FYHC3We3KSz9",
    "outputId": "c7e63685-8860-4991-d125-daaec590e2f5"
   },
   "outputs": [],
   "source": [
    "import plotly.express as px\n",
    "import pandas as pd\n",
    "\n",
    "\n",
    "# Data frame being created\n",
    "data = pd.DataFrame({\n",
    "    'category': ['A', 'B', 'C', 'A', 'B', 'C', 'A'],\n",
    "    'video_count': [10, 20, 30, 5, 15, 25, 10]\n",
    "})\n",
    "\n",
    "# Creating the treemap\n",
    "fig = px.treemap(data,\n",
    "                 path = ['category'],\n",
    "                 values = 'video_count',\n",
    "                 color = 'video_count',\n",
    "                 color_continuous_scale = 'Viridis',\n",
    "                 title = 'Treemap of Video Count per Category')\n",
    "\n",
    "fig.show()\n",
    "\n",
    "fig.show(renderer = 'colab')\n",
    "\n",
    "\n"
   ]
  },
  {
   "cell_type": "markdown",
   "metadata": {
    "id": "0LZFxfqTOYda"
   },
   "source": [
    " * Average Views / Likes / Comments per Category"
   ]
  },
  {
   "cell_type": "code",
   "execution_count": null,
   "metadata": {
    "colab": {
     "base_uri": "https://localhost:8080/",
     "height": 542
    },
    "id": "bQuS_Bu2uCHd",
    "outputId": "f884a27b-8abb-4d4a-d307-810f058e0b00"
   },
   "outputs": [],
   "source": [
    "import numpy as np\n",
    "import pandas as pd\n",
    "import plotly.express as px\n",
    "\n",
    "# Firstly we create avg_metrics\n",
    "avg_metrics = df_merged.groupby('category_title')[['views', 'likes', 'comment_count']].mean().reset_index()\n",
    "\n",
    "# Spreading out points\n",
    "avg_metrics['x'] = range(len(avg_metrics))\n",
    "avg_metrics['y'] = np.random.rand(len(avg_metrics)) * 30\n",
    "avg_metrics['z'] = np.random.rand(len(avg_metrics)) * 30\n",
    "\n",
    "# Creating 3D bubble chart\n",
    "fig = px.scatter_3d(\n",
    "    avg_metrics,\n",
    "    x ='x',\n",
    "    y ='y',\n",
    "    z ='z',\n",
    "    color = 'category_title',\n",
    "    size = 'views',\n",
    "    hover_name = 'category_title',\n",
    "    size_max = 40,\n",
    "    title = '3D Bubble Chart - Avg Views per Category'\n",
    ")\n",
    "\n",
    "fig.update_layout(\n",
    "    scene = dict(\n",
    "        xaxis = dict(title='Category Index', showticklabels=False),\n",
    "        yaxis = dict(title='Y Axis'),\n",
    "        zaxis = dict(title='Z Axis')\n",
    "    ),\n",
    "    margin = dict(l = 0, r = 0, b = 0, t = 40)\n",
    ")\n",
    "\n",
    "fig.show()\n",
    "\n"
   ]
  },
  {
   "cell_type": "code",
   "execution_count": null,
   "metadata": {
    "colab": {
     "base_uri": "https://localhost:8080/",
     "height": 74
    },
    "id": "uBUg_y4bK6lz",
    "outputId": "0cb21959-a0d2-4f24-d5cd-fb7c0cef26bb"
   },
   "outputs": [],
   "source": [
    "from google.colab import files\n",
    "uploaded = files.upload()"
   ]
  },
  {
   "cell_type": "code",
   "execution_count": null,
   "metadata": {
    "id": "pTH-gXAbMW-L"
   },
   "outputs": [],
   "source": [
    "import pandas as pd\n",
    "\n",
    "df_merged = pd.read_csv('USvideos.csv')"
   ]
  },
  {
   "cell_type": "code",
   "execution_count": null,
   "metadata": {
    "id": "iDC1wxMsOMFW"
   },
   "outputs": [],
   "source": [
    "#These lines are used to artificially generate x, y, z coordinates for plotting\n",
    "avg_metrics['x'] = range(len(avg_metrics))\n",
    "#It assigns a unique index to each row on the X-axis to spread them out clearly\n",
    "avg_metrics['y'] = np.random.rand(len(avg_metrics)) * 30\n",
    "#It gives random Y-axis positions to avoid bubb;e overlap and improve visibility\n",
    "avg_metrics['z'] = np.random.rand(len(avg_metrics)) * 30\n",
    "#Same logic but for Z-axis"
   ]
  },
  {
   "cell_type": "markdown",
   "metadata": {
    "id": "YjV4MXJpSiqW"
   },
   "source": [
    "* Median LIkes/Comments/Views"
   ]
  },
  {
   "cell_type": "code",
   "execution_count": null,
   "metadata": {
    "colab": {
     "base_uri": "https://localhost:8080/",
     "height": 542
    },
    "id": "Bj3LHqHYPyZv",
    "outputId": "f1066e28-e0e8-4f07-d3b7-32aef648f78d"
   },
   "outputs": [],
   "source": [
    "import numpy as np\n",
    "import pandas as pd\n",
    "import plotly.graph_objects as go\n",
    "\n",
    "\n",
    "\n",
    "#median_stats DataFrame\n",
    "median_stats = pd.DataFrame({\n",
    "    'category':['Gaming', 'Music', 'Education', 'Comedy'],\n",
    "    'likes' : [5000, 3000, 4500, 2000],\n",
    "    'comments' : [800, 500, 700, 300],\n",
    "    'views' : [100000, 750000, 90000, 60000]\n",
    "})\n",
    "\n",
    "#Manual min-max normalisation function\n",
    "def min_max_normalize(series):\n",
    "  return(series - series.min()) / (series.max() - series.min())\n",
    "\n",
    "#Normalizing columns manually\n",
    "median_stats['likes_norm'] = min_max_normalize(median_stats['likes'])\n",
    "median_stats['comments_norm'] = min_max_normalize(median_stats['comments'])\n",
    "median_stats['views_norm'] = min_max_normalize(median_stats['views'])\n",
    "\n",
    "#Creating a list of column names\n",
    "metrics = ['likes_norm', 'comments_norm', 'views_norm']\n",
    "\n",
    "#Defining axes directions\n",
    "angles = np.linspace(0, 2 * np.pi, len(metrics), endpoint = False)\n",
    "axis_vectors = np.array([\n",
    "    [np.cos(a), np.sin(a), 0] for a in angles\n",
    "])\n",
    "\n",
    "#Creates a new/empty plotly figurw\n",
    "fig = go.Figure()\n",
    "\n",
    "\n",
    "#For each category:\n",
    "#Extracting normalised metric values(likes, comments, views)\n",
    "#Scaling each axis vector by the corresponding value to get a 3D point\n",
    "#Forms a triangle (polygon) in 3D space using these points\n",
    "#Adding the first point at the end to close the loop\n",
    "for idx, row in median_stats.iterrows():\n",
    "  category = row['category']\n",
    "  values = row[metrics].values\n",
    "  points = axis_vectors.T * values\n",
    "  points = points.T\n",
    "  points = np.vstack([points, points[0]])\n",
    "\n",
    "#Adding the actual 3D shape(polygon) for each category\n",
    "  fig.add_trace(go.Scatter3d(\n",
    "      x = points[:, 0],\n",
    "      y = points[:, 1],\n",
    "      z = points[:, 2],\n",
    "      mode = 'lines+markers',\n",
    "      name = category,\n",
    "      marker = dict(size = 5),\n",
    "      line = dict(width = 2)\n",
    "))\n",
    "#Draws the 3 main axes to visually represent each metrics\n",
    "for i, vec in enumerate(axis_vectors):\n",
    "  fig.add_trace(go.Scatter3d(\n",
    "      x = [0, vec[0]],\n",
    "      y = [0, vec[1]],\n",
    "      z = [0, vec[2]],\n",
    "      mode = 'lines',\n",
    "      line = dict(color = 'black', dash = 'dash'),\n",
    "      showlegend = False\n",
    "  ))\n",
    "\n",
    "#Labelling each axis\n",
    "axis_labels = ['Likes','Comments','Views']\n",
    "for i, vec in enumerate(axis_vectors):\n",
    "  fig.add_trace(go.Scatter3d(\n",
    "      x = [vec[0]*1.1],\n",
    "      y = [vec[1]*1.1],\n",
    "      z = [vec[2]*1.1],\n",
    "      mode = 'text',\n",
    "      text = [axis_labels[i]],\n",
    "      showlegend = False\n",
    "  ))\n",
    "#Updating layout\n",
    "fig.update_layout(\n",
    "    title = '3D Radial Plot of Median Likes, Comments, Views per Category',\n",
    "    scene = dict(\n",
    "        xaxis = dict(title = 'x', range=[-1.2, 1.2]),\n",
    "        yaxis = dict(title = 'y', range=[-1.2, 1.2]),\n",
    "        zaxis = dict(title = 'z', range=[-1.2, 1.2]),\n",
    "        aspectmode = 'cube'\n",
    "    ),\n",
    "\n",
    "    legend = dict(x = 0.8, y = 0.9)\n",
    ")\n",
    "\n",
    "fig.show()"
   ]
  },
  {
   "cell_type": "code",
   "execution_count": null,
   "metadata": {
    "id": "iOOJVAy3aWnV"
   },
   "outputs": [],
   "source": [
    "#Creating median_stats as a pandas dataframe\n",
    "#Each has a category, likes, comments, views\n",
    "median_stats = pd.DataFrame({\n",
    "    'category':['Gaming', 'Music', 'Education', 'Comedy'],\n",
    "    'likes' : [5000, 3000, 4500, 2000],\n",
    "    'comments' : [800, 500, 700, 300],\n",
    "    'views' : [100000, 750000, 90000, 60000]\n",
    "})\n",
    "#We are defining min max normalisation\n",
    "#Normalising a numeric Pandas series to the range[0,1] using Min-Max scaling\n",
    "#Formula: (value- min)/(max - min)\n",
    "def min_max_normalize(series):\n",
    "  return(series - series.min()) / (series.max() - series.min())\n",
    "#For fair and balanced comparison we are using min max normalisation\n",
    "median_stats['likes_norm'] = min_max_normalize(median_stats['likes'])\n",
    "median_stats['comments_norm'] = min_max_normalize(median_stats['comments'])\n",
    "median_stats['views_norm'] = min_max_normalize(median_stats['views'])\n",
    "\n",
    "metrics = ['likes_norm', 'comments_norm', 'views_norm']\n",
    "\n",
    "#Calculating equally spaced angles around a circle for each metric axis\n",
    "#Creating a 3D unit vector in the XY plane pointing in those directions (z = 0)\n",
    "#These vectors define the axes for the radial plot in 3D space\n",
    "angles = np.linspace(0, 2 * np.pi, len(metrics), endpoint = False)\n",
    "axis_vectors = np.array([\n",
    "    [np.cos(a), np.sin(a), 0] for a in angles\n",
    "])"
   ]
  },
  {
   "cell_type": "markdown",
   "metadata": {
    "id": "9wOzmqwbkwIr"
   },
   "source": [
    "* Engagement Rate Per Category"
   ]
  },
  {
   "cell_type": "code",
   "execution_count": null,
   "metadata": {
    "colab": {
     "base_uri": "https://localhost:8080/",
     "height": 542
    },
    "id": "rhisTRlEdykd",
    "outputId": "e4b32edb-578b-4b56-aa37-a787ef959634"
   },
   "outputs": [],
   "source": [
    "import pandas as pd\n",
    "import numpy as np\n",
    "import plotly.graph_objects as go\n",
    "\n",
    "\n",
    "#Creating the median_stats DataFrame\n",
    "median_stats = pd.DataFrame({\n",
    "    'category': ['Gaming','Music', 'Education', 'Comedy'],\n",
    "    'likes': [5000, 3000, 4500, 2000],\n",
    "    'comments': [800, 500, 700, 300],\n",
    "    'views': [100000, 750000, 90000, 60000]\n",
    "})\n",
    "#Calculating the engagement rate for each category\n",
    "#It follows the formula engagememt rate = (likes+comments)/views\n",
    "median_stats['engagement_rate'] = (median_stats['likes'] + median_stats['comments']) / median_stats['views']\n",
    "\n",
    "#Converting the categories and engagement_rates column into a python list\n",
    "categories = median_stats['category'].tolist()\n",
    "engagement_rates = median_stats['engagement_rate'].tolist()\n",
    "\n",
    "n = len(categories)\n",
    "similarity = [[0]*n for _ in range(n)]\n",
    "#It creates a 2D list of n rows and columns\n",
    "\n",
    "#Calculating the max difference\n",
    "max_diff = max(engagement_rates) - min(engagement_rates)\n",
    "\n",
    "#This fills similarity matrix with values between 0 and 1, representing how similar two categories can be\n",
    "for i in range(n):\n",
    "  for j in range(n):\n",
    "      diff = abs(engagement_rates[i] - engagement_rates[j])\n",
    "      similarity[i][j] = 1 - (diff/max_diff)\n",
    "      #Closer the engagement rate higher the similarity score\n",
    "\n",
    "threshold = 0.5 #Cutoff value for similarity in a chord diagram\n",
    "sources = [] #An empty list to store source node\n",
    "targets = [] #An empty list to store target node\n",
    "values = [] #An empty list to store strength or weight\n",
    "\n",
    "#It builds three parallel lists which defines all categories and connections\n",
    "for i in range(n):\n",
    "   for j in range(n):\n",
    "     if i != j and similarity[i][j] > threshold:\n",
    "       sources.append(i)\n",
    "       targets.append(j)\n",
    "       values.append(similarity[i][j])\n",
    "\n",
    "#Configuring how nodes of the sankey might look\n",
    "fig = go.Figure(data=[go.Sankey(\n",
    "    node = dict(\n",
    "        pad = 15,\n",
    "        thickness = 20,\n",
    "        line = dict(color = 'black', width = 0.5),\n",
    "        label = categories,\n",
    "        color = '#AB63FA'\n",
    "    ),\n",
    "\n",
    "#This block defines the connections between nodes in Sankey diagram\n",
    "      link=dict(\n",
    "        source=sources,\n",
    "        target=targets,\n",
    "        value=values,\n",
    "        color=\"rgba(255, 165, 0, 0.6)\"\n",
    "    )\n",
    ")])\n",
    "\n",
    "fig.update_layout(title_text = 'Circular Sankey Plot as Chord Diagram Substitute for Engagement Rate Similarity',\n",
    "                  font_size = 10)\n",
    "fig.show()"
   ]
  },
  {
   "cell_type": "code",
   "execution_count": null,
   "metadata": {
    "id": "v6BOPCOomMfj"
   },
   "outputs": [],
   "source": [
    "#A Sankey is a type of diagram that shows the flow of quantities between different nodes or stages,\n",
    "#Nodes represent entities\n",
    "#Links connects the nodes\n",
    "#The thickness of each link is proportional\n",
    "#Performing matrix with values 0 and 1 and finding out the absolute difference\n",
    "for i in range(n):\n",
    "  for j in range(n):\n",
    "      diff = abs(engagement_rates[i] - engagement_rates[j])\n",
    "      similarity[i][j] = 1 - (diff/max_diff)\n",
    "#Loop of i through each n category\n",
    "#Loop of j through each i category\n",
    "for i in range(n):\n",
    "   for j in range(n):\n",
    "\n",
    "    #Making sure we are not comparing a category with itself\n",
    "     if i != j and similarity[i][j] > threshold:\n",
    "      #Adds index i to the sources list\n",
    "       sources.append(i)\n",
    "       #Adds index j to the sources list\n",
    "       targets.append(j)\n",
    "       #Adds the similarity between i and j\n",
    "       values.append(similarity[i][j])"
   ]
  },
  {
   "cell_type": "markdown",
   "metadata": {
    "id": "JoYW9_YxNGMl"
   },
   "source": [
    "* Trends Over Time Per Category"
   ]
  },
  {
   "cell_type": "code",
   "execution_count": null,
   "metadata": {},
   "outputs": [],
   "source": [
    "import pandas as pd\n",
    "\n",
    "df = pd.read_csv(\"C:/Users/KIIT0001/Downloads/USvideos.csv\")\n",
    "df.head()\n"
   ]
  },
  {
   "cell_type": "code",
   "execution_count": null,
   "metadata": {},
   "outputs": [],
   "source": []
  },
  {
   "cell_type": "code",
   "execution_count": null,
   "metadata": {
    "id": "gGv7SNGs2UH8"
   },
   "outputs": [],
   "source": [
    "import pandas as pd\n",
    "\n",
    "df = pd.read_csv('USvideos.csv')"
   ]
  },
  {
   "cell_type": "code",
   "execution_count": null,
   "metadata": {
    "colab": {
     "base_uri": "https://localhost:8080/"
    },
    "id": "AzvQ0pnq4xsB",
    "outputId": "6aaa2907-cbb0-4c1a-b7dd-49eef31ff275"
   },
   "outputs": [],
   "source": [
    "print(df.columns)\n"
   ]
  },
  {
   "cell_type": "code",
   "execution_count": null,
   "metadata": {
    "colab": {
     "base_uri": "https://localhost:8080/"
    },
    "id": "PtkCLROO5gpw",
    "outputId": "db8347cd-5666-4f8a-a8a2-5f34729a3eb3"
   },
   "outputs": [],
   "source": [
    "print(df.columns.tolist())"
   ]
  },
  {
   "cell_type": "code",
   "execution_count": null,
   "metadata": {
    "id": "vlFw1-bGoBeN"
   },
   "outputs": [],
   "source": [
    "category_mapping = {\n",
    "    1: \"Film & Animation\",\n",
    "    2: \"Autos & Vehicles\",\n",
    "    10: \"Music\",\n",
    "    15: \"Pets & Animals\",\n",
    "    17: \"Sports\",\n",
    "    18: \"Short Movies\",\n",
    "    19: \"Travel & Events\",\n",
    "    20: \"Gaming\",\n",
    "    21: \"Videoblogging\",\n",
    "    22: \"People & Blogs\",\n",
    "    23: \"Comedy\",\n",
    "    24: \"Entertainment\",\n",
    "    25: \"News & Politics\",\n",
    "    26: \"Howto & Style\",\n",
    "    27: \"Education\",\n",
    "    28: \"Science & Technology\",\n",
    "    29: \"Nonprofits & Activism\"\n",
    "}\n"
   ]
  },
  {
   "cell_type": "code",
   "execution_count": null,
   "metadata": {
    "colab": {
     "base_uri": "https://localhost:8080/"
    },
    "id": "1DpwPULgoTVP",
    "outputId": "0104e193-4d1f-43dd-cb63-e5d8cd9b758b"
   },
   "outputs": [],
   "source": [
    "import pandas as pd\n",
    "import plotly.graph_objects as go\n",
    "\n",
    "#Creating category mapping\n",
    "category_mapping = {\n",
    "    1: \"Film & Animation\",\n",
    "    2: \"Autos & Vehicles\",\n",
    "    10: \"Music\",\n",
    "    15: \"Pets & Animals\",\n",
    "    17: \"Sports\",\n",
    "    18: \"Short Movies\",\n",
    "    19: \"Travel & Events\",\n",
    "    20: \"Gaming\",\n",
    "    21: \"Videoblogging\",\n",
    "    22: \"People & Blogs\",\n",
    "    23: \"Comedy\",\n",
    "    24: \"Entertainment\",\n",
    "    25: \"News & Politics\",\n",
    "    26: \"Howto & Style\",\n",
    "    27: \"Education\",\n",
    "    28: \"Science & Technology\",\n",
    "    29: \"Nonprofits & Activism\"\n",
    "}\n",
    "\n",
    "#Mapping category_id to actual category names\n",
    "df['category'] = df['category_id'].map(category_mapping)\n",
    "\n",
    "#Checking if succeeded\n",
    "print(\"Unique categories after mapping:\", df['category'].dropna().unique())\n",
    "\n",
    "#Coverting trend_date column\n",
    "df['trending_date'] = pd.to_datetime(df['trending_date'], format='%y.%d.%m', errors='coerce')\n",
    "\n",
    "#Grouping and Pivot\n",
    "grouped = df.groupby(['trending_date', 'category'])['views'].mean().reset_index()\n",
    "\n",
    "pivot = grouped.pivot(index='category', columns='trending_date', values='views').fillna(0)\n",
    "\n",
    "#Preparing the plot\n",
    "y_categories = pivot.index.tolist()\n",
    "x_dates = pivot.columns.tolist()\n",
    "z_values = pivot.values\n"
   ]
  },
  {
   "cell_type": "code",
   "execution_count": null,
   "metadata": {
    "colab": {
     "base_uri": "https://localhost:8080/",
     "height": 542
    },
    "id": "j24G9Bw3nvN1",
    "outputId": "141000cc-9064-43f4-cac1-219f9181d739"
   },
   "outputs": [],
   "source": [
    "import pandas as pd\n",
    "import plotly.graph_objects as go\n",
    "\n",
    "\n",
    "#Converting trending_date to datetime\n",
    "df['trending_date'] = pd.to_datetime(df['trending_date'], format='%y.%d.%m', errors='coerce')\n",
    "\n",
    "#Group by trending_date, category and views\n",
    "grouped = df.groupby(['trending_date', 'category'])['views'].mean().reset_index()\n",
    "\n",
    "#Pivoting to get the table\n",
    "pivot = grouped.pivot(index='category', columns='trending_date', values='views').fillna(0)\n",
    "\n",
    "#Defining the plotly inputs\n",
    "y_categories = pivot.index.tolist()          # Listing of categories\n",
    "x_dates = pivot.columns.tolist()             # Listing of dates\n",
    "z_values = pivot.values                      #2D array of shape (n_categories, n_dates)\n",
    "\n",
    "#Starting the plot\n",
    "fig = go.Figure()\n",
    "\n",
    "for idx, cat in enumerate(y_categories):\n",
    "    y = z_values[idx]\n",
    "\n",
    "    #Ribbon thickness\n",
    "    thickness = y * 0.1\n",
    "    upper = y + thickness\n",
    "    lower = y - thickness\n",
    "\n",
    "    #Upper bound (transparent)\n",
    "    fig.add_trace(go.Scatter(\n",
    "        x=x_dates,\n",
    "        y=upper,\n",
    "        mode='lines',\n",
    "        line=dict(width=0),\n",
    "        showlegend=False,\n",
    "        hoverinfo='skip'\n",
    "    ))\n",
    "\n",
    "    #Lower bound (filled to upper)\n",
    "    fig.add_trace(go.Scatter(\n",
    "        x=x_dates,\n",
    "        y=lower,\n",
    "        mode='lines',\n",
    "        fill='tonexty',\n",
    "        fillcolor='rgba(0,100,200,0.3)',  # You can customize color per category\n",
    "        line=dict(width=0),\n",
    "        name=f'Category {cat}'\n",
    "    ))\n",
    "\n",
    "# Layout\n",
    "fig.update_layout(\n",
    "    title=\"Ribbon-like Area Plot of Views Over Time by Category\",\n",
    "    xaxis_title=\"Trending Date\",\n",
    "    yaxis_title=\"Average Views\",\n",
    "    hovermode='x unified'\n",
    ")\n",
    "\n",
    "fig.show()\n"
   ]
  },
  {
   "cell_type": "markdown",
   "metadata": {
    "id": "bdTsDKCm43Wk"
   },
   "source": [
    "* Category Share of Total Engagement"
   ]
  },
  {
   "cell_type": "code",
   "execution_count": null,
   "metadata": {
    "id": "exE0y5cYmp0M"
   },
   "outputs": [],
   "source": [
    "import pandas as pd\n",
    "\n",
    "youtube_data = pd.read_csv('USvideos.csv')\n"
   ]
  },
  {
   "cell_type": "code",
   "execution_count": null,
   "metadata": {
    "colab": {
     "base_uri": "https://localhost:8080/"
    },
    "id": "2ZKzQ8Dnm0LK",
    "outputId": "7131af0c-c09b-43b5-8acb-1f6d75621575"
   },
   "outputs": [],
   "source": [
    "print(youtube_data.columns)\n"
   ]
  },
  {
   "cell_type": "code",
   "execution_count": null,
   "metadata": {
    "colab": {
     "base_uri": "https://localhost:8080/",
     "height": 542
    },
    "id": "vQ-VVlNvnH6r",
    "outputId": "7c3c33a9-fcff-49b3-9c2f-0f4acee000ba"
   },
   "outputs": [],
   "source": [
    "import pandas as pd\n",
    "import networkx as nx\n",
    "import plotly.graph_objects as go\n",
    "import numpy as np\n",
    "\n",
    "\n",
    "#Mapping category_id to category_title\n",
    "category_map = {\n",
    "    1: 'Film & Animation',\n",
    "    2: 'Autos & Vehicles',\n",
    "    10: 'Music',\n",
    "    15: 'Pets & Animals',\n",
    "    17: 'Sports',\n",
    "    18: 'Short Movies',\n",
    "    19: 'Travel & Events',\n",
    "    20: 'Gaming',\n",
    "    21: 'Videoblogging',\n",
    "    22: 'People & Blogs',\n",
    "    23: 'Comedy',\n",
    "    24: 'Entertainment',\n",
    "    25: 'News & Politics',\n",
    "    26: 'Howto & Style',\n",
    "    27: 'Education',\n",
    "    28: 'Science & Technology',\n",
    "    29: 'Nonprofits & Activism',\n",
    "    30: 'Movies',\n",
    "    31: 'Anime/Animation',\n",
    "    32: 'Action/Adventure',\n",
    "    33: 'Classics',\n",
    "    34: 'Comedy',\n",
    "    35: 'Documentary',\n",
    "    36: 'Drama',\n",
    "    37: 'Family',\n",
    "    38: 'Foreign',\n",
    "    39: 'Horror',\n",
    "    40: 'Sci-Fi/Fantasy',\n",
    "    41: 'Thriller',\n",
    "    42: 'Shorts',\n",
    "    43: 'Shows',\n",
    "    44: 'Trailers'\n",
    "}\n",
    "\n",
    "youtube_data['category_title'] = youtube_data['category_id'].map(category_map)\n",
    "\n",
    "#Aggregate total likes\n",
    "engagement_data = youtube_data.groupby('category_title')['likes'].sum().reset_index()\n",
    "engagement_data.rename(columns={'likes': 'engagement'}, inplace=True)\n",
    "\n",
    "#Extracting categories and engagement lists\n",
    "categories = engagement_data['category_title'].tolist()\n",
    "engagement_values = engagement_data['engagement'].tolist()\n",
    "\n",
    "#Limiting nodes to top 8 categories by engagement for clarity\n",
    "top_n = 8\n",
    "top_indices = np.argsort(engagement_values)[-top_n:]\n",
    "categories = [categories[i] for i in top_indices]\n",
    "engagement_values = [engagement_values[i] for i in top_indices]\n",
    "\n",
    "#Creating the graph\n",
    "G = nx.Graph()\n",
    "\n",
    "for i, cat in enumerate(categories):\n",
    "    G.add_node(cat, engagement=engagement_values[i])\n",
    "\n",
    "#Threshold for edges\n",
    "threshold = 1e7\n",
    "\n",
    "for i in range(len(categories)):\n",
    "    for j in range(i + 1, len(categories)):\n",
    "        diff = abs(engagement_values[i] - engagement_values[j])\n",
    "        if diff < threshold:\n",
    "            weight = 1 / (diff + 1)\n",
    "            G.add_edge(categories[i], categories[j], weight=weight)\n",
    "\n",
    "#Using Kamada-Kawai layout for better spacing (3D)\n",
    "pos = nx.kamada_kawai_layout(G, dim=3)\n",
    "\n",
    "node_x = [pos[node][0] for node in G.nodes()]\n",
    "node_y = [pos[node][1] for node in G.nodes()]\n",
    "node_z = [pos[node][2] for node in G.nodes()]\n",
    "\n",
    "#Scaling node sizes between min and max sizes\n",
    "min_size = 5\n",
    "max_size = 20\n",
    "eng_min = min(engagement_values)\n",
    "eng_max = max(engagement_values)\n",
    "node_sizes = [min_size + (max_size - min_size) * (val - eng_min) / (eng_max - eng_min) for val in engagement_values]\n",
    "\n",
    "#Preparing hover text (no permanent labels)\n",
    "hover_texts = [f\"{cat}<br>Engagement: {val:,}\" for cat, val in zip(categories, engagement_values)]\n",
    "\n",
    "#Node traces (markers only, with hover info)\n",
    "node_trace = go.Scatter3d(\n",
    "    x=node_x,\n",
    "    y=node_y,\n",
    "    z=node_z,\n",
    "    mode='markers',\n",
    "    text=hover_texts,\n",
    "    hoverinfo='text',\n",
    "    marker=dict(\n",
    "        size=node_sizes,\n",
    "        color=engagement_values,\n",
    "        colorscale='Viridis',\n",
    "        colorbar=dict(title='Engagement'),\n",
    "        line=dict(width=1, color='DarkSlateGrey')\n",
    "    )\n",
    ")\n",
    "\n",
    "#Edge traces\n",
    "edge_x, edge_y, edge_z = [], [], []\n",
    "for edge in G.edges():\n",
    "    x0, y0, z0 = pos[edge[0]]\n",
    "    x1, y1, z1 = pos[edge[1]]\n",
    "    edge_x.extend([x0, x1, None])\n",
    "    edge_y.extend([y0, y1, None])\n",
    "    edge_z.extend([z0, z1, None])\n",
    "\n",
    "edge_trace = go.Scatter3d(\n",
    "    x=edge_x,\n",
    "    y=edge_y,\n",
    "    z=edge_z,\n",
    "    mode='lines',\n",
    "    line=dict(color='gray', width=1),\n",
    "    hoverinfo='none'\n",
    ")\n",
    "\n",
    "#Plotting the figure\n",
    "fig = go.Figure(data=[edge_trace, node_trace])\n",
    "fig.update_layout(\n",
    "    title='3D Network Graph of Top YouTube Categories by Engagement',\n",
    "    annotations=[dict(\n",
    "        text=\"Rotate and zoom for better view. Hover on nodes for details.\",\n",
    "        showarrow=False,\n",
    "        xref=\"paper\", yref=\"paper\",\n",
    "        x=0, y=0,\n",
    "        xanchor='left', yanchor='bottom',\n",
    "        font=dict(size=12, color='gray')\n",
    "    )],\n",
    "    showlegend=False,\n",
    "    margin=dict(l=0, r=0, b=0, t=60),\n",
    "    scene=dict(\n",
    "        xaxis=dict(showbackground=False),\n",
    "        yaxis=dict(showbackground=False),\n",
    "        zaxis=dict(showbackground=False),\n",
    "    )\n",
    ")\n",
    "\n",
    "fig.show()\n"
   ]
  },
  {
   "cell_type": "code",
   "execution_count": null,
   "metadata": {
    "id": "oetDhrulnk5B"
   },
   "outputs": [],
   "source": [
    "#Kamada kawai is used whenever a network graph is clustered together\n",
    "#Threshold shall be 1e7 if the clustering is too much\n",
    "#If the data points are large in numbers the nodes shall be limited"
   ]
  },
  {
   "cell_type": "markdown",
   "metadata": {
    "id": "9W9xhxBA5j33"
   },
   "source": [
    "* Category Popularity Over Time"
   ]
  },
  {
   "cell_type": "code",
   "execution_count": null,
   "metadata": {
    "colab": {
     "base_uri": "https://localhost:8080/",
     "height": 74
    },
    "id": "YTzq6rTSsYib",
    "outputId": "080143cf-bb64-4f11-cf6e-7fe9af3dec3b"
   },
   "outputs": [],
   "source": [
    "from google.colab import files\n",
    "uploaded = files.upload()\n"
   ]
  },
  {
   "cell_type": "code",
   "execution_count": null,
   "metadata": {
    "colab": {
     "base_uri": "https://localhost:8080/",
     "height": 74
    },
    "id": "WeFehA6pXC3x",
    "outputId": "35e450ef-ddf1-4306-cb71-0c41237cb5ea"
   },
   "outputs": [],
   "source": [
    "from google.colab import files\n",
    "uploaded = files.upload()"
   ]
  },
  {
   "cell_type": "code",
   "execution_count": null,
   "metadata": {
    "colab": {
     "base_uri": "https://localhost:8080/",
     "height": 559
    },
    "id": "uxHlbRMkowPb",
    "outputId": "e2fe1699-ed7b-426a-a932-51e8ed64f4c1"
   },
   "outputs": [],
   "source": [
    "import pandas as pd\n",
    "import plotly.graph_objects as go\n",
    "import numpy as np\n",
    "import json\n",
    "\n",
    "\n",
    "#Loading YouTube CSV and JSON mapping\n",
    "youtube_data = pd.read_csv('USvideos.csv')\n",
    "\n",
    "with open('US_category_id.json') as f:\n",
    "    category_data = json.load(f)\n",
    "\n",
    "#Creating a mapping from category_id to title\n",
    "id_title_map = {}\n",
    "for item in category_data['items']:\n",
    "    id_title_map[int(item['id'])] = item['snippet']['title']\n",
    "\n",
    "#Mapping category_id to category_title\n",
    "youtube_data['category_title'] = youtube_data['category_id'].map(id_title_map)\n",
    "\n",
    "#Defining df_merged with only the necessary columns\n",
    "df_merged = youtube_data[['trending_date', 'likes', 'comment_count', 'views', 'category_title']].copy()\n",
    "\n",
    "#Converting trending_date and create engagement\n",
    "df_merged['trending_date'] = pd.to_datetime(df_merged['trending_date'], format='%y.%m.%d', errors='coerce')\n",
    "df_merged['engagement'] = df_merged['likes'] + df_merged['comment_count']\n",
    "metric = 'views'\n",
    "\n",
    "#Grouping and Pivot\n",
    "grouped = df_merged.groupby(['category_title', 'trending_date'])[metric].sum().reset_index()\n",
    "pivot = grouped.pivot(index='category_title', columns='trending_date', values=metric).fillna(0)\n",
    "\n",
    "#Axis setup\n",
    "z_data = pivot.values\n",
    "x_labels = pivot.columns.strftime('%b-%d')\n",
    "y_labels = pivot.index.tolist()\n",
    "\n",
    "#Category name cleaning and mapping\n",
    "y_labels = [cat if len(cat) <= 10 else '\\n'.join(cat.split()) for cat in pivot.index]\n",
    "category_map = {\n",
    "    'Autos & Vehicles': 'Autos',\n",
    "    'Science & Technology': 'Sci-Tech',\n",
    "    'Howto & Style': 'Howto',\n",
    "    'People & Blogs': 'Blogs',\n",
    "    'News & Politics': 'News',\n",
    "    'Education': 'Edu',\n",
    "    'Film & Animation': 'Film',\n",
    "    'Sports': 'Sports',\n",
    "}\n",
    "y_labels = [category_map.get(cat, cat) for cat in pivot.index]\n",
    "\n",
    "x_data = np.arange(len(x_labels))\n",
    "y_data = np.arange(len(y_labels))\n",
    "\n",
    "#Plotting the 3D Surface\n",
    "fig = go.Figure(data=[go.Surface(\n",
    "    z=z_data,\n",
    "    x=x_data,\n",
    "    y=y_data,\n",
    "    colorscale=[\n",
    "        [0.0, '#AEC6CF'],\n",
    "        [0.2, '#FFB347'],\n",
    "        [0.4, '#B39EB5'],\n",
    "        [0.6, '#77DD77'],\n",
    "        [0.8, '#FF6961'],\n",
    "        [1.0, '#FFD700']\n",
    "    ],\n",
    "    hoverinfo='x+y+z'\n",
    ")])\n",
    "#Calculating tick steps for cleaner labels\n",
    "x_tick_step = max(1, len(x_data) // 6)\n",
    "y_tick_step = max(1, len(y_data) // 6)\n",
    "\n",
    "#Figure Layout for xaxis\n",
    "fig.update_layout(\n",
    "    title = 'YouTube Category Popularity Over Time',\n",
    "    scene = dict(\n",
    "        xaxis= dict(\n",
    "            title = 'Date',\n",
    "            tickmode = 'array',\n",
    "            tickvals = x_data[::x_tick_step],\n",
    "            ticktext = x_labels[::x_tick_step],\n",
    "            tickangle = 45,\n",
    "            tickfont = dict(size = 8)\n",
    "        ),\n",
    "        #Figure layout for yaxis\n",
    "        yaxis = dict(\n",
    "            title = 'Category',\n",
    "            tickfont = dict(size = 9),  #Slightly smaller font for clarity\n",
    "            tickmode = 'array',\n",
    "            tickvals = y_data[::y_tick_step],\n",
    "            ticktext = [y_labels[i] for i in range(0, len(y_labels), y_tick_step)]\n",
    "        ),\n",
    "        zaxis = dict(title = metric.capitalize())\n",
    "    ),\n",
    "    scene_camera = dict(eye = dict(x = 1.7, y = 2.0, z = 0.7)),\n",
    "    margin = dict(l = 0, r = 0, t = 40, b = 0),\n",
    ")\n",
    "\n",
    "fig.show()\n",
    "\n",
    "\n"
   ]
  }
 ],
 "metadata": {
  "colab": {
   "provenance": []
  },
  "kernelspec": {
   "display_name": "Python 3 (ipykernel)",
   "language": "python",
   "name": "python3"
  },
  "language_info": {
   "codemirror_mode": {
    "name": "ipython",
    "version": 3
   },
   "file_extension": ".py",
   "mimetype": "text/x-python",
   "name": "python",
   "nbconvert_exporter": "python",
   "pygments_lexer": "ipython3",
   "version": "3.13.3"
  }
 },
 "nbformat": 4,
 "nbformat_minor": 4
}
