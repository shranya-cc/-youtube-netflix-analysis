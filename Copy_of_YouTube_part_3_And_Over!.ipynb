{
  "cells": [
    {
      "cell_type": "markdown",
      "metadata": {
        "id": "His6vw6G37Vp"
      },
      "source": [
        "***A little bit of Intro Before we start***"
      ]
    },
    {
      "cell_type": "markdown",
      "metadata": {
        "id": "SvdK2qgB6KNw"
      },
      "source": [
        "Welcome to the final phase of this comprehensive data visualization project. In this stage, we integrate advanced visual techniques and analytical methods to transform complex datasets into clear, actionable insights. You’ll encounter everything from interactive 3D bubble charts and dynamic NetworkX visualizations to AI-driven image labeling and high-impact KPI dashboards—each designed to illuminate underlying patterns and trends with precision and aesthetic clarity.\n",
        "\n",
        "Our journey culminates with specialized charts—donut charts that break down category engagement, Sankey and chord diagrams that map flows and connections, and animated line charts that reveal quarterly emotional trends over time. Complementing these visuals are carefully crafted annotations, highlights, and a concise mini-documentary segment that guides you through key findings with professional polish.\n",
        "\n",
        "By blending data science rigor with thoughtful design, this project not only showcases technical proficiency but also tells a compelling story. Let’s dive in and explore the insights that can drive better decision-making and strategic impact."
      ]
    },
    {
      "cell_type": "markdown",
      "metadata": {
        "id": "OB2vryzwv7fy"
      },
      "source": [
        "1. ***Inside YouTube: A Director's Cut on Trends, Engagement, and Data Stories 🎥***"
      ]
    },
    {
      "cell_type": "markdown",
      "metadata": {
        "id": "qsiplths0OMk"
      },
      "source": [
        "## 📊 KPIs: Numbers That Matter\n"
      ]
    },
    {
      "cell_type": "code",
      "execution_count": null,
      "metadata": {
        "colab": {
          "base_uri": "https://localhost:8080/",
          "height": 542
        },
        "id": "-olBtbGwV_kY",
        "outputId": "395a6ee6-2d4e-454b-891c-6f8befa1e241"
      },
      "outputs": [],
      "source": [
        "import pandas as pd\n",
        "import plotly.graph_objects as go\n",
        "\n",
        "#Loaded dataset\n",
        "youtube_df = pd.read_csv('USvideos.csv')\n",
        "\n",
        "#️Calculating KPIs (store both raw and formatted version)\n",
        "metrics = {\n",
        "    \"Total Videos\": {\n",
        "        \"raw\": len(youtube_df),\n",
        "        \"formatted\": f\"{len(youtube_df):,}\"\n",
        "    },\n",
        "    \"Total Views\": {\n",
        "        \"raw\": youtube_df['views'].sum(),\n",
        "        \"formatted\": f\"{youtube_df['views'].sum():,}\"\n",
        "    },\n",
        "    \"Total Likes\": {\n",
        "        \"raw\": youtube_df['likes'].sum(),\n",
        "        \"formatted\": f\"{youtube_df['likes'].sum():,}\"\n",
        "    },\n",
        "    \"Total Comments\": {\n",
        "        \"raw\": youtube_df['comment_count'].sum(),\n",
        "        \"formatted\": f\"{youtube_df['comment_count'].sum():,}\"\n",
        "    },\n",
        "    \"Likes per 100 Views\": {\n",
        "        \"raw\": (youtube_df['likes'].sum() / youtube_df['views'].sum()) * 100,\n",
        "        \"formatted\": f\"{(youtube_df['likes'].sum() / youtube_df['views'].sum()) * 100:.2f}\"\n",
        "    },\n",
        "    \"Comments per 100 Views\": {\n",
        "        \"raw\": (youtube_df['comment_count'].sum() / youtube_df['views'].sum()) * 100,\n",
        "        \"formatted\": f\"{(youtube_df['comment_count'].sum() / youtube_df['views'].sum()) * 100:.2f}\"\n",
        "    }\n",
        "}\n",
        "\n",
        "#️Creating KPI Cards\n",
        "fig = go.Figure()\n",
        "\n",
        "for i, (kpi, values) in enumerate(metrics.items()):\n",
        "    fig.add_trace(go.Indicator(\n",
        "        mode = \"number\",\n",
        "        value = values[\"raw\"],\n",
        "        number = {\"font\": {\"size\": 36}},\n",
        "        title = {\n",
        "            \"text\": f\"<b>{kpi}</b><br><span style='font-size:0.7em'>{values['formatted']}</span>\"\n",
        "        },\n",
        "        domain = {\"row\": i // 3, \"column\": i % 3}\n",
        "    ))\n",
        "\n",
        "fig.update_layout(\n",
        "    grid = {\"rows\": 2, \"columns\": 3, \"pattern\": \"independent\"},\n",
        "    template = \"plotly_dark\",\n",
        "    title = {\n",
        "        \"text\": \"YouTube Director's Cut: Key Engagement Metrics\",\n",
        "        \"x\": 0.5,\n",
        "        \"xanchor\": \"center\",\n",
        "        \"font\": {\"size\": 24}\n",
        "    },\n",
        "    margin = dict(t = 100, b = 20)\n",
        ")\n",
        "\n",
        "fig.show()\n"
      ]
    },
    {
      "cell_type": "markdown",
      "metadata": {
        "id": "FHBB5B-Avwy5"
      },
      "source": [
        "## 🔗 NetworkX Graph: Creator Connections\n"
      ]
    },
    {
      "cell_type": "code",
      "execution_count": null,
      "metadata": {
        "colab": {
          "base_uri": "https://localhost:8080/",
          "height": 500
        },
        "id": "6DLPeYp1iwvp",
        "outputId": "97c7fff2-47dd-4455-c9c4-c453b6885c46"
      },
      "outputs": [],
      "source": [
        "import warnings\n",
        "warnings.filterwarnings('ignore')\n",
        "\n",
        "import pandas as pd\n",
        "import networkx as nx\n",
        "import matplotlib.pyplot as plt\n",
        "from collections import Counter\n",
        "import matplotlib.cm as cm\n",
        "import numpy as np\n",
        "\n",
        "#️Loading and cleaning the dataset\n",
        "youtube_df = pd.read_csv('USvideos.csv')\n",
        "youtube_df = youtube_df.dropna(subset = ['tags'])\n",
        "\n",
        "#️Getting top 30 tags by frequency\n",
        "tag_counter = Counter()\n",
        "for tag_str in youtube_df['tags']:\n",
        "    tags = [tag.strip() for tag in tag_str.split('|')]\n",
        "    tag_counter.update(tags)\n",
        "\n",
        "top_tags = set([tag for tag, count in tag_counter.most_common(30)])\n",
        "\n",
        "#️Building graph with only top tags\n",
        "G = nx.Graph()\n",
        "for tag_str in youtube_df['tags']:\n",
        "    tags = [tag.strip() for tag in tag_str.split('|') if tag.strip() in top_tags]\n",
        "    for i in range(len(tags)):\n",
        "        for j in range(i + 1, len(tags)):\n",
        "            if G.has_edge(tags[i], tags[j]):\n",
        "                G[tags[i]][tags[j]]['weight'] += 1\n",
        "            else:\n",
        "                G.add_edge(tags[i], tags[j], weight = 1)\n",
        "\n",
        "#️Removing isolated nodes\n",
        "G.remove_nodes_from(list(nx.isolates(G)))\n",
        "\n",
        "#️DErawing graph with custom visuals\n",
        "plt.figure(figsize = (16, 12))\n",
        "pos = nx.spring_layout(G, k = 0.5, seed = 42)\n",
        "\n",
        "#️Node sizes by tag frequency\n",
        "node_sizes = [tag_counter[node] * 20 for node in G.nodes()]\n",
        "\n",
        "#️Node colors by degree\n",
        "degrees = dict(G.degree())\n",
        "colors = [degrees[node] for node in G.nodes()]\n",
        "cmap = cm.get_cmap('plasma')\n",
        "\n",
        "#️Drawing elements\n",
        "nx.draw_networkx_nodes(G, pos, node_size = node_sizes, node_color = colors, cmap = cmap, alpha = 0.9)\n",
        "nx.draw_networkx_edges(G, pos, width = 1.0, alpha = 0.3)\n",
        "nx.draw_networkx_labels(G, pos, font_size = 9)\n",
        "\n",
        "plt.title(\" YouTube Tag Network (Top 30 Tags)\", fontsize = 18, fontweight = 'bold')\n",
        "plt.axis('off')\n",
        "plt.tight_layout()\n",
        "plt.show()\n"
      ]
    },
    {
      "cell_type": "markdown",
      "metadata": {
        "id": "pivWBtwcvs0i"
      },
      "source": [
        "## 🌡️ Heatmap: Relationship Intensity\n",
        "\n"
      ]
    },
    {
      "cell_type": "code",
      "execution_count": null,
      "metadata": {
        "id": "XNdT9_Y6mqMu"
      },
      "outputs": [],
      "source": [
        "category_mapping = {\n",
        "    1: 'Film & Animation',\n",
        "    2: 'Autos & Vehicles',\n",
        "    10: 'Music',\n",
        "    #Keeping it less for clarity\n",
        "}\n",
        "\n",
        "youtube_df['category'] = youtube_df['category_id'].map(category_mapping)\n"
      ]
    },
    {
      "cell_type": "code",
      "execution_count": null,
      "metadata": {
        "id": "ohSzqZc-m0fI"
      },
      "outputs": [],
      "source": [
        "youtube_df['publish_time'] = pd.to_datetime(youtube_df['publish_time'])\n",
        "youtube_df['year'] = youtube_df['publish_time'].dt.year\n"
      ]
    },
    {
      "cell_type": "code",
      "execution_count": null,
      "metadata": {
        "id": "Mpc1WOnwoMFF"
      },
      "outputs": [],
      "source": [
        "top_categories = youtube_df.groupby('category')['views'].sum().nlargest(6).index\n",
        "filtered_df = youtube_df[youtube_df['category'].isin(top_categories)]\n",
        "\n",
        "recent_years = sorted(youtube_df['year'].unique())[-4:]\n",
        "filtered_df = filtered_df[filtered_df['year'].isin(recent_years)]\n",
        "\n",
        "heatmap_data = filtered_df.groupby(['category', 'year'])['views'].sum().unstack(fill_value=0)\n"
      ]
    },
    {
      "cell_type": "code",
      "execution_count": null,
      "metadata": {
        "colab": {
          "base_uri": "https://localhost:8080/",
          "height": 517
        },
        "id": "7aeR8jWGoN3J",
        "outputId": "39aee41f-bdbc-4374-bfe5-9cf703ce2c9f"
      },
      "outputs": [],
      "source": [
        "import plotly.express as px\n",
        "\n",
        "fig = px.imshow(\n",
        "    heatmap_data,\n",
        "    labels=dict(x=\"Year\", y=\"Category\", color=\"Total Views\"),\n",
        "    x=heatmap_data.columns.astype(str),\n",
        "    y=heatmap_data.index,\n",
        "    color_continuous_scale='YlGnBu',\n",
        "    text_auto=True\n",
        ")\n",
        "\n",
        "fig.update_layout(\n",
        "    title='Total Views by Top 6 Categories and Recent Years',\n",
        "    template='plotly_dark',\n",
        "    height=500,\n",
        "    margin=dict(l=80, r=50, t=50, b=80)\n",
        ")\n",
        "\n",
        "fig.show()\n"
      ]
    },
    {
      "cell_type": "markdown",
      "metadata": {
        "id": "R8qlObpUvniP"
      },
      "source": [
        "## 📖 Emoji Storytelling: A Data Drama\n"
      ]
    },
    {
      "cell_type": "markdown",
      "metadata": {
        "id": "lJALebM5wScp"
      },
      "source": [
        "🧠 Inside YouTube: A Director's Cut on Trends, Engagement, and Data Stories\n",
        "(Emoji Storytelling Panel)\n",
        "\n",
        "🎬 Category Showdown: Who’s Ruling the Stage?\n",
        "🥇 Entertainment takes the crown with billions of views 👑🎭\n",
        "\n",
        "🎵 Music stays timeless and powerful with ultra-high engagement 🎧💖\n",
        "\n",
        "🎮 Gaming continues to level up — explosive growth in recent years 🚀🕹️\n",
        "\n",
        "📚 Education rises quietly, delivering value 📈🧠\n",
        "\n",
        "😂 Comedy keeps us laughing and clicking 😂🔥\n",
        "\n",
        "❤️ Audience Engagement Pulse\n",
        "💬 Videos with meaningful comments spark conversation & loyalty 🔄🗣️\n",
        "\n",
        "👍 High like-to-view ratio? That’s content people truly love ❤️👏\n",
        "\n",
        "🔁 Reactions go viral when comments + likes + shares = BOOM 💥🌍\n",
        "\n",
        "🧩 Tag Tactics: Secrets Behind Smart Creators\n",
        "🏷️ Repeating tags = stronger networks = more reach 🤝📡\n",
        "\n",
        "🕸️ Top tags like music, vlog, funny form clusters 🔗🎶😂\n",
        "\n",
        "🎯 Using 4–6 focused tags = better discoverability 🎯⚙️\n",
        "\n",
        "🌐 The World Watches Together\n",
        "🌍 Multi-language or global-tagged videos draw wider audiences 🗺️📈\n",
        "\n",
        "🎌 Korean pop? Indian vlogs? Global love pouring in 💖🌏\n",
        "\n",
        "🧑‍🤝‍🧑 Cultural trends spread fast — creators ride the wave 🏄‍♂️🎤🎥\n",
        "\n",
        "⏱️ Time + Consistency = Growth\n",
        "🔁 Regular posting creates trust & habit with viewers ⏰💡\n",
        "\n",
        "📅 Creators uploading weekly gain more loyal subs over time 📊❤️\n",
        "\n",
        "🎯 Story Wrap-Up\n",
        "YouTube isn’t just a video platform — it’s a playground of patterns, people, and powerful stories.\n",
        "From viral rockets 🚀 to slow-burn educators 📚, the secret sauce is in data + creativity.\n",
        "So next time you click ❤️ or 💬 — you’re shaping the trends too!"
      ]
    },
    {
      "cell_type": "markdown",
      "metadata": {
        "id": "2DPTmzhfwet5"
      },
      "source": [
        "2. ***YouTube Rewind 2.0: A Data-Driven Dive into Views, Voices & Viral Vibes 🔥***"
      ]
    },
    {
      "cell_type": "markdown",
      "metadata": {
        "id": "BCimD3Fy0vEX"
      },
      "source": [
        "## 🏁 Bar Chart Race: And They're Off!\n"
      ]
    },
    {
      "cell_type": "code",
      "execution_count": null,
      "metadata": {
        "id": "yszCt-Tok1ac"
      },
      "outputs": [],
      "source": [
        "#Extracting year from publish_time\n",
        "youtube_df['publish_time'] = pd.to_datetime(youtube_df['publish_time'], errors='coerce')\n",
        "youtube_df['year'] = youtube_df['publish_time'].dt.year\n",
        "\n",
        "#Category mapping\n",
        "category_map = {\n",
        "    1: \"Film & Animation\", 2: \"Autos & Vehicles\", 10: \"Music\", 15: \"Pets & Animals\",\n",
        "    17: \"Sports\", 18: \"Short Movies\", 19: \"Travel & Events\", 20: \"Gaming\",\n",
        "    22: \"People & Blogs\", 23: \"Comedy\", 24: \"Entertainment\", 25: \"News & Politics\",\n",
        "    26: \"Howto & Style\", 27: \"Education\", 28: \"Science & Technology\", 29: \"Nonprofits & Activism\"\n",
        "}\n",
        "youtube_df['category'] = youtube_df['category_id'].map(category_map)\n"
      ]
    },
    {
      "cell_type": "code",
      "execution_count": null,
      "metadata": {
        "id": "kN_Ruvbck_Os"
      },
      "outputs": [],
      "source": [
        "#Aggregate total views per year and category\n",
        "df = youtube_df.groupby(['year', 'category'])['views'].sum().reset_index()\n",
        "\n",
        "#Filtering the top 6 categories overall\n",
        "top_categories = df.groupby('category')['views'].sum().nlargest(6).index\n",
        "df = df[df['category'].isin(top_categories)]\n",
        "\n",
        "# Creating grid of all years x top categories\n",
        "years = sorted(df['year'].unique())\n",
        "full_index = pd.MultiIndex.from_product([years, top_categories], names=['year', 'category'])\n",
        "\n",
        "#Filling missing columns\n",
        "df = df.set_index(['year', 'category']).reindex(full_index, fill_value=0).reset_index()\n",
        "\n",
        "#Sorting for animation\n",
        "df = df.sort_values(by=['year', 'views'], ascending=[True, False])\n"
      ]
    },
    {
      "cell_type": "code",
      "execution_count": null,
      "metadata": {
        "colab": {
          "base_uri": "https://localhost:8080/",
          "height": 617
        },
        "id": "L47zo7WElB4c",
        "outputId": "d8c3e50b-6ea9-4674-d0c9-6ec3e8220531"
      },
      "outputs": [],
      "source": [
        "import plotly.express as px\n",
        "\n",
        "fig = px.bar(\n",
        "    df,\n",
        "    x = 'views',\n",
        "    y = 'category',\n",
        "    color = 'category',\n",
        "    animation_frame = 'year',\n",
        "    orientation = 'h',\n",
        "    text = 'views',\n",
        "    range_x = [0, df['views'].max() * 1.1],\n",
        "    title = 'YouTube Category Growth Over Time (Views)'\n",
        ")\n",
        "\n",
        "fig.update_layout(\n",
        "    template = 'plotly_dark',\n",
        "    showlegend = False,\n",
        "    height = 600\n",
        ")\n",
        "\n",
        "fig.update_traces(texttemplate = '%{text:.2s}', textposition = 'outside')\n",
        "\n",
        "fig.show()\n"
      ]
    },
    {
      "cell_type": "markdown",
      "metadata": {
        "id": "9Rm4XqikmtPC"
      },
      "source": [
        "## 📈 Line Chart Animation: Trends Over Time\n"
      ]
    },
    {
      "cell_type": "code",
      "execution_count": null,
      "metadata": {
        "id": "yNMJWoIzoZll"
      },
      "outputs": [],
      "source": [
        "#Extracting year from publish_time\n",
        "youtube_df['publish_time'] = pd.to_datetime(youtube_df['publish_time'], errors='coerce')\n",
        "youtube_df['year'] = youtube_df['publish_time'].dt.year\n",
        "\n",
        "#Category mapping\n",
        "category_map = {\n",
        "    1: \"Film & Animation\", 2: \"Autos & Vehicles\", 10: \"Music\", 15: \"Pets & Animals\",\n",
        "    17: \"Sports\", 18: \"Short Movies\", 19: \"Travel & Events\", 20: \"Gaming\",\n",
        "    22: \"People & Blogs\", 23: \"Comedy\", 24: \"Entertainment\", 25: \"News & Politics\",\n",
        "    26: \"Howto & Style\", 27: \"Education\", 28: \"Science & Technology\", 29: \"Nonprofits & Activism\"\n",
        "}\n",
        "youtube_df['category'] = youtube_df['category_id'].map(category_map)"
      ]
    },
    {
      "cell_type": "code",
      "execution_count": null,
      "metadata": {
        "id": "76CHKhJJogam"
      },
      "outputs": [],
      "source": [
        "import numpy as np\n",
        "\n",
        "years = sorted(df['year'].unique())\n",
        "categories = df['category'].unique()\n",
        "\n",
        "full_index = pd.MultiIndex.from_product([categories, years], names = ['category', 'year'])\n",
        "df_full = df.set_index(['category', 'year']).reindex(full_index).reset_index()\n",
        "\n",
        "#Filling missing values\n",
        "df_full['views'] = df_full['views'].fillna(0)\n"
      ]
    },
    {
      "cell_type": "code",
      "execution_count": null,
      "metadata": {
        "id": "fgOyMSqFojL5"
      },
      "outputs": [],
      "source": [
        "#Frames for animation\n",
        "frames = []\n",
        "for frame_year in years:\n",
        "    frame_data = df_full[df_full['year'] <= frame_year].copy()\n",
        "    frame_data['frame'] = frame_year\n",
        "    frames.append(frame_data)\n",
        "\n",
        "df_anim = pd.concat(frames)\n"
      ]
    },
    {
      "cell_type": "code",
      "execution_count": null,
      "metadata": {
        "colab": {
          "base_uri": "https://localhost:8080/",
          "height": 617
        },
        "id": "4FiJvvsSomD5",
        "outputId": "b34e4335-1cd2-4fec-c4b4-ec03b898f71c"
      },
      "outputs": [],
      "source": [
        "import plotly.express as px\n",
        "\n",
        "fig = px.line(\n",
        "    df_anim,\n",
        "    x = 'year',\n",
        "    y = 'views',\n",
        "    color = 'category',\n",
        "    line_group = 'category',\n",
        "    animation_frame = 'frame',\n",
        "    animation_group = 'category',\n",
        "    markers = True,\n",
        "    title = 'YouTube Category Views: Cumulative Trend Animation'\n",
        ")\n",
        "\n",
        "fig.update_layout(template = 'plotly_dark', xaxis = dict(tickmode = 'linear'), height = 600)\n",
        "fig.show()\n"
      ]
    },
    {
      "cell_type": "markdown",
      "metadata": {
        "id": "3-Tc6XkGpWo3"
      },
      "source": [
        "## 🔥 Viral Video Highlights: The Showstoppers\n"
      ]
    },
    {
      "cell_type": "code",
      "execution_count": null,
      "metadata": {
        "id": "1lh4WdGPptHl"
      },
      "outputs": [],
      "source": [
        "top_5_viral = youtube_df.sort_values('views', ascending = False).head(5)"
      ]
    },
    {
      "cell_type": "code",
      "execution_count": null,
      "metadata": {
        "colab": {
          "base_uri": "https://localhost:8080/",
          "height": 400
        },
        "id": "YSaoA7GEp043",
        "outputId": "f2d8160c-e48a-4217-bba3-660faed451ed"
      },
      "outputs": [],
      "source": [
        "from IPython.display import display, HTML\n",
        "\n",
        "for idx, row in top_5_viral.iterrows():\n",
        "  html = f\"\"\"\n",
        "  <div style=\"border:2px solid #fff; padding:10px; margin:10px; background:#111; color:#eee; width:350px;\">\n",
        "  <h3>{row['title']}</h3>\n",
        "  <img src = \"{row['thumbnail_link']}\" width = \"320px\" style = \"border-radius:10px;\"><br>\n",
        "  <b>Views:</b> {row['views']:,} &nbsp; <b>Likes:</b> {row['likes']:,}<br>\n",
        "  <i>Channel: {row['channel_title']}</i>\n",
        "\n",
        " </div>\n",
        " \"\"\"\n",
        "display(HTML(html))\n",
        "\n"
      ]
    },
    {
      "cell_type": "markdown",
      "metadata": {
        "id": "YBHTZ4jDGo3C"
      },
      "source": [
        "*Videos*"
      ]
    },
    {
      "cell_type": "code",
      "execution_count": null,
      "metadata": {
        "id": "golJqwwTraAC"
      },
      "outputs": [],
      "source": [
        "top_viral = youtube_df.sort_values('views', ascending=False).head(5)\n"
      ]
    },
    {
      "cell_type": "code",
      "execution_count": null,
      "metadata": {
        "colab": {
          "base_uri": "https://localhost:8080/",
          "height": 1000
        },
        "id": "7_SblUYSsM8Q",
        "outputId": "a5bc7efc-afe7-4adb-8ae6-97409e924890"
      },
      "outputs": [],
      "source": [
        "from IPython.display import display, HTML\n",
        "\n",
        "top_5_viral = youtube_df.sort_values('views', ascending=False).head(5)\n",
        "\n",
        "for idx, row in top_5_viral.iterrows():\n",
        "    video_id = row['video_id']\n",
        "    title = row['title']\n",
        "    thumbnail = row['thumbnail_link']\n",
        "    channel = row['channel_title']\n",
        "    views = row['views']\n",
        "    likes = row['likes']\n",
        "\n",
        "#Doing some html based research\n",
        "    html = f\"\"\"\n",
        "    <div style=\"background-color:#111; border-radius:10px; padding:15px; margin:10px; color:#eee; width:400px;\">\n",
        "        <a href=\"https://www.youtube.com/watch?v={video_id}\" target=\"_blank\">\n",
        "            <img src=\"{thumbnail}\" width=\"360px\" style=\"border-radius:10px;\"><br>\n",
        "        </a>\n",
        "        <h3 style=\"margin-top:10px;\">{title}</h3>\n",
        "        <b>Views:</b> {views:,} &nbsp;|&nbsp; <b>Likes:</b> {likes:,}<br>\n",
        "        <i>Channel:</i> {channel}\n",
        "    </div>\n",
        "    \"\"\"\n",
        "    display(HTML(html))\n"
      ]
    },
    {
      "cell_type": "markdown",
      "metadata": {
        "id": "hHLoYytTGrUm"
      },
      "source": [
        "## 🎞️ GIFs: Motion in the Metrics\n"
      ]
    },
    {
      "cell_type": "code",
      "execution_count": null,
      "metadata": {
        "id": "FA7a2fAC_NQk"
      },
      "outputs": [],
      "source": [
        "import pandas as pd\n",
        "\n",
        "#Loading the dataset\n",
        "youtube_df = pd.read_csv('USvideos.csv')\n",
        "\n",
        "#Cleaning or converting necessary columns\n",
        "youtube_df['views'] = pd.to_numeric(youtube_df['views'], errors='coerce')\n",
        "youtube_df['likes'] = pd.to_numeric(youtube_df['likes'], errors='coerce')\n",
        "\n",
        "#Readding for clarification\n",
        "youtube_df['video_id'] = youtube_df['thumbnail_link'].str.extract(r'vi/([^/]+)/')\n"
      ]
    },
    {
      "cell_type": "code",
      "execution_count": null,
      "metadata": {
        "colab": {
          "base_uri": "https://localhost:8080/",
          "height": 498
        },
        "id": "PBgwyDRY-jtO",
        "outputId": "eae67caa-2059-4f89-a316-8b2590ebb588"
      },
      "outputs": [],
      "source": [
        "from IPython.display import display, HTML\n",
        "\n",
        "top_viral = youtube_df[youtube_df['views'] > 0].sort_values('views', ascending=False).head(5)\n",
        "\n",
        "# In case thumbnail_link is missing or broken\n",
        "youtube_df['thumbnail_link'] = youtube_df['video_id'].apply(lambda vid: f\"https://img.youtube.com/vi/{vid}/0.jpg\")\n",
        "\n",
        "html_code = \"\"\"\n",
        "<style>\n",
        ".carousel-container {\n",
        "  display: flex;\n",
        "  overflow-x: auto;\n",
        "  scroll-behavior: smooth;\n",
        "  padding: 20px;\n",
        "  background: #000;\n",
        "}\n",
        ".viral-card {\n",
        "  flex: 0 0 auto;\n",
        "  margin-right: 20px;\n",
        "  padding: 15px;\n",
        "  background-color: #111;\n",
        "  color: #eee;\n",
        "  border-radius: 12px;\n",
        "  width: 350px;\n",
        "  animation: pulse 4s infinite;\n",
        "  position: relative;\n",
        "  text-align: center;\n",
        "}\n",
        ".viral-card:hover {\n",
        "  transform: scale(1.05);\n",
        "  background-color: #222;\n",
        "  box-shadow: 0 0 15px #ff4;\n",
        "}\n",
        ".viral-thumb {\n",
        "  border-radius: 10px;\n",
        "  width: 100%;\n",
        "}\n",
        ".floating-emojis {\n",
        "  position: absolute;\n",
        "  top: -10px;\n",
        "  right: 10px;\n",
        "  font-size: 24px;\n",
        "  animation: float-emoji 3s infinite;\n",
        "}\n",
        ".quote {\n",
        "  font-style: italic;\n",
        "  font-size: 0.9rem;\n",
        "  margin-top: 8px;\n",
        "  color: #ccc;\n",
        "}\n",
        "@keyframes float-emoji {\n",
        "  0% { transform: translateY(0); opacity: 0.8; }\n",
        "  50% { transform: translateY(-15px); opacity: 1; }\n",
        "  100% { transform: translateY(0); opacity: 0.8; }\n",
        "}\n",
        "@keyframes pulse {\n",
        "  0% { transform: scale(1); box-shadow: 0 0 5px #ff5; }\n",
        "  50% { transform: scale(1.03); box-shadow: 0 0 25px #f06; }\n",
        "  100% { transform: scale(1); box-shadow: 0 0 5px #ff5; }\n",
        "}\n",
        "</style>\n",
        "<div class=\"carousel-container\">\n",
        "\"\"\"\n",
        "\n",
        "\n",
        "\n",
        "#Sample viral quotes\n",
        "viral_quotes = [\n",
        "    \"This broke the internet! 💥\",\n",
        "    \"One word: ICONIC 🔥\",\n",
        "    \"How did this go so viral?! 🤯\",\n",
        "    \"Everyone was talking about it 🎤\",\n",
        "    \"A moment in YouTube history 📺\"\n",
        "]\n",
        "\n",
        "#Floating emoji sets\n",
        "emoji_sets = [\n",
        "    \"🔥💥\", \"😂📈\", \"🎉❤️\", \"😱🔥\", \"🤩🎬\"\n",
        "]\n",
        "\n",
        "for i, (_, row) in enumerate(top_viral.iterrows()):\n",
        "    quote = viral_quotes[i % len(viral_quotes)]\n",
        "    emojis = emoji_sets[i % len(emoji_sets)]\n",
        "    html_code += f\"\"\"\n",
        "    <div class=\"viral-card\">\n",
        "        <div class=\"floating-emojis\">{emojis}</div>\n",
        "        <a href=\"https://www.youtube.com/watch?v={row['video_id']}\" target=\"_blank\">\n",
        "            <img src=\"{row['thumbnail_link']}\" class=\"viral-thumb\"><br>\n",
        "        </a>\n",
        "        <h3>{row['title']}</h3>\n",
        "        <p><b>Views:</b> {row['views']:,} &nbsp; <b>Likes:</b> {row['likes']:,}</p>\n",
        "        <p><i>Channel: {row['channel_title']}</i></p>\n",
        "        <div class=\"quote\">“{quote}”</div>\n",
        "    </div>\n",
        "    \"\"\"\n",
        "\n",
        "html_code += \"</div>\"\n",
        "\n",
        "#Displaying the result\n",
        "display(HTML(html_code))\n"
      ]
    },
    {
      "cell_type": "markdown",
      "metadata": {
        "id": "oFRtt62uGfLt"
      },
      "source": [
        "## 💬 Sentiment Exploration: What the Comments Say\n"
      ]
    },
    {
      "cell_type": "code",
      "execution_count": null,
      "metadata": {
        "colab": {
          "base_uri": "https://localhost:8080/"
        },
        "id": "wRU3STMmER7H",
        "outputId": "a7d0ba6d-b39e-49f2-f515-c93c6da118df"
      },
      "outputs": [],
      "source": [
        "import pandas as pd\n",
        "import nltk\n",
        "from nltk.sentiment.vader import SentimentIntensityAnalyzer\n",
        "\n",
        "nltk.download('vader_lexicon')\n",
        "\n",
        "youtube_df = pd.read_csv('USvideos.csv')  #Loading original data\n",
        "\n",
        "sia = SentimentIntensityAnalyzer()\n",
        "\n",
        "youtube_df['sentiment_scores'] = youtube_df['title'].apply(lambda x: sia.polarity_scores(x))\n",
        "youtube_df['sentiment_compound'] = youtube_df['sentiment_scores'].apply(lambda d: d['compound'])\n",
        "\n",
        "def sentiment_label(score):\n",
        "    if score >= 0.05:\n",
        "        return 'Positive'\n",
        "    elif score <= -0.05:\n",
        "        return 'Negative'\n",
        "    else:\n",
        "        return 'Neutral'\n",
        "\n",
        "youtube_df['sentiment_label'] = youtube_df['sentiment_compound'].apply(sentiment_label)\n",
        "\n",
        "print(youtube_df[['title', 'sentiment_compound', 'sentiment_label']].head())\n"
      ]
    },
    {
      "cell_type": "code",
      "execution_count": null,
      "metadata": {
        "id": "niMMPeuWE6cX"
      },
      "outputs": [],
      "source": [
        "from nltk.sentiment import SentimentIntensityAnalyzer\n",
        "\n",
        "sia = SentimentIntensityAnalyzer()\n",
        "\n",
        "def get_vader_tone(text):\n",
        "    scores = sia.polarity_scores(text)\n",
        "    return scores  #dict with pos, neu, neg, compound\n",
        "\n",
        "youtube_df['vader_scores'] = youtube_df['title'].apply(get_vader_tone)\n"
      ]
    },
    {
      "cell_type": "code",
      "execution_count": null,
      "metadata": {
        "colab": {
          "base_uri": "https://localhost:8080/"
        },
        "id": "XkYyWzH8E-Xw",
        "outputId": "70ee3110-84c8-483a-db8f-192cc188158c"
      },
      "outputs": [],
      "source": [
        "print(youtube_df[['title', 'vader_scores']].head())\n"
      ]
    },
    {
      "cell_type": "code",
      "execution_count": null,
      "metadata": {
        "colab": {
          "base_uri": "https://localhost:8080/"
        },
        "id": "PQWQjpUBFNT0",
        "outputId": "c04843ec-1d28-4917-e879-c4673803cefa"
      },
      "outputs": [],
      "source": [
        "vader_df = youtube_df['vader_scores'].apply(pd.Series)\n",
        "youtube_df = pd.concat([youtube_df, vader_df], axis=1)\n",
        "\n",
        "#Checking the updated DataFrame\n",
        "print(youtube_df[['title', 'neg', 'neu', 'pos', 'compound']].head())\n"
      ]
    },
    {
      "cell_type": "markdown",
      "metadata": {
        "id": "DGVfLdE6GG2W"
      },
      "source": [
        "3.  ***Streaming the Stream: Unmasking YouTube Engagement & Growth Dynamics 📊***"
      ]
    },
    {
      "cell_type": "markdown",
      "metadata": {
        "id": "o6k6_GIQ1RIr"
      },
      "source": [
        "## 🌈🖌️ A Creative Canvas: Artistic Visualization"
      ]
    },
    {
      "cell_type": "code",
      "execution_count": null,
      "metadata": {
        "id": "WKze-OQCG9D1"
      },
      "outputs": [],
      "source": [
        "import pandas as pd\n",
        "\n",
        "youtube_df['likes-to-views'] = youtube_df['likes'] / youtube_df['views']\n",
        "youtube_df['comments_to_views'] = youtube_df['comment_count'] / youtube_df['views']\n",
        "\n",
        "youtube_df.fillna(0, inplace = True)\n",
        "youtube_df.replace([float('inf'),  -float('inf')], 0, inplace = True)"
      ]
    },
    {
      "cell_type": "code",
      "execution_count": null,
      "metadata": {
        "colab": {
          "base_uri": "https://localhost:8080/",
          "height": 617
        },
        "id": "3MJ-NV5CHp3U",
        "outputId": "ccf7dc58-70e7-44c8-8f08-69e60f829066"
      },
      "outputs": [],
      "source": [
        "import plotly.express as px\n",
        "\n",
        "top_categories = youtube_df.groupby('category_id')['views'].sum().nlargest(10).index\n",
        "filtered_df = youtube_df[youtube_df['category_id'].isin(top_categories)]\n",
        "\n",
        "fig = px.scatter(filtered_df,\n",
        "                 x = 'views',\n",
        "                 y = 'likes',\n",
        "                 color = 'category_id',\n",
        "                 size = 'comment_count',\n",
        "                 hover_data = ['title', 'channel_title'],\n",
        "                 title = 'YouTube Engagement')\n",
        "fig.update_layout(\n",
        "    template = 'plotly_dark',\n",
        "    height = 600,\n",
        "    margin = dict(l = 80, r = 50, t = 50, b = 80)\n",
        ")\n",
        "fig.show()"
      ]
    },
    {
      "cell_type": "markdown",
      "metadata": {
        "id": "CwsfriSOVE7l"
      },
      "source": [
        "## 🔊📝 Vocal Vibes: Voice-to-Text Polarity"
      ]
    },
    {
      "cell_type": "code",
      "execution_count": null,
      "metadata": {
        "colab": {
          "base_uri": "https://localhost:8080/"
        },
        "id": "OD9UXJ5XQKBN",
        "outputId": "8a0a6e4d-a8c8-479c-9d99-3b32822a5b5b"
      },
      "outputs": [],
      "source": [
        "from gtts import gTTS\n",
        "\n",
        "text = \"It starts with a click. A spark. A single video, launched into the vast unknown. Then—something shifts. Views multiply, emotions ripple, a conversation begins. But what lies beneath that moment when a video becomes a movement? In this segment, we unravel the hidden dynamics of YouTube’s most explosive content — not just the numbers, but the story behind the surge. This isn’t just virality. It’s digital resonance.\"\n",
        "tts = gTTS(text = text, lang = 'en')\n",
        "\n",
        "tts.save('output.mp3')\n",
        "print(\"Saved as output.mp3\")"
      ]
    },
    {
      "cell_type": "code",
      "execution_count": null,
      "metadata": {
        "colab": {
          "base_uri": "https://localhost:8080/"
        },
        "id": "nEAstt54QVsq",
        "outputId": "d066ddb7-bc3e-46a3-9bde-2222100f942e"
      },
      "outputs": [],
      "source": [
        "!ls\n"
      ]
    },
    {
      "cell_type": "code",
      "execution_count": null,
      "metadata": {
        "colab": {
          "base_uri": "https://localhost:8080/",
          "height": 75
        },
        "id": "7EV9aQIYQZbD",
        "outputId": "db3c4d5b-a9ea-421f-9a60-ca2d63f9f91b"
      },
      "outputs": [],
      "source": [
        "from IPython.display import Audio\n",
        "Audio(\"output.mp3\")"
      ]
    },
    {
      "cell_type": "code",
      "execution_count": null,
      "metadata": {
        "colab": {
          "base_uri": "https://localhost:8080/"
        },
        "id": "YLHCXwYSREKZ",
        "outputId": "d953e7ab-cb80-4c3e-8651-cf41feefb075"
      },
      "outputs": [],
      "source": [
        "import whisper\n",
        "\n",
        "model = whisper.load_model('base')\n",
        "\n",
        "result = model.transcribe('output.mp3')\n",
        "\n",
        "transcript = result['text']\n",
        "print('Transcript:\\n', transcript)"
      ]
    },
    {
      "cell_type": "code",
      "execution_count": null,
      "metadata": {
        "colab": {
          "base_uri": "https://localhost:8080/"
        },
        "id": "nneShxEpicz9",
        "outputId": "87c7a212-774c-44d0-887e-abc1a4f8c494"
      },
      "outputs": [],
      "source": [
        "import nltk\n",
        "nltk.download('brown')\n",
        "nltk.download('punkt')"
      ]
    },
    {
      "cell_type": "code",
      "execution_count": null,
      "metadata": {
        "colab": {
          "base_uri": "https://localhost:8080/"
        },
        "id": "wyQDij2Fijo1",
        "outputId": "7e239d1a-2703-4613-85ad-d6e5ec8a424a"
      },
      "outputs": [],
      "source": [
        "from textblob import TextBlob\n",
        "\n",
        "transcript = \"\"\"It starts with a click, a spark, a single video, launched into the vast unknown.\n",
        "Then, something shifts, views multiply, emotions ripple, a conversation begins.\n",
        "But what lies beneath that moment when a video becomes a movement?\n",
        "In this segment, we unravel the hidden dynamics of YouTube's most explosive content.\n",
        "Not just the numbers, but the story behind the search. This isn't just virality. It's digital resonance.\n",
        "\"\"\"\n",
        "blob = TextBlob(transcript)\n",
        "\n",
        "print('polarity', blob.sentiment.polarity)\n",
        "print('subjectivity', blob.sentiment.subjectivity)"
      ]
    },
    {
      "cell_type": "code",
      "execution_count": null,
      "metadata": {
        "colab": {
          "base_uri": "https://localhost:8080/",
          "height": 542
        },
        "id": "IbGg4nZwjSgl",
        "outputId": "51f4d3c9-f0cf-4b3d-ccef-074c9801971f"
      },
      "outputs": [],
      "source": [
        "import plotly.graph_objects as go\n",
        "\n",
        "fig = go.Figure(go.Indicator(\n",
        "    mode = 'gauge+number',\n",
        "    value = blob.sentiment.polarity,\n",
        "    title = {'text': 'Tone Polarity','font': {'color': 'white'}},\n",
        "    gauge = {'axis' : { 'range':[-1, 1]},\n",
        "             'bar' : {'color': 'darkred' if blob.sentiment.polarity < 0 else 'green'},\n",
        "                  'bgcolor': 'black',\n",
        "        'bordercolor': 'white',\n",
        "        'borderwidth': 2\n",
        "    }\n",
        "))\n",
        "\n",
        "\n",
        "\n",
        "fig.update_layout(\n",
        "    paper_bgcolor = 'black',\n",
        "    font = {'color': 'white'}\n",
        ")\n",
        "fig.show()"
      ]
    },
    {
      "cell_type": "code",
      "execution_count": null,
      "metadata": {
        "colab": {
          "base_uri": "https://localhost:8080/"
        },
        "id": "TKuWe-m0lprg",
        "outputId": "f35f05b1-7ddd-4b08-8fe5-300040cd342b"
      },
      "outputs": [],
      "source": [
        "from gtts import gTTS\n",
        "\n",
        "paragraphs = [ \"\"\" “Welcome to our first clip: the Engagement Surge. In this segment, we spotlight the videos that saw views climb like wildfire—driven by shareable moments, community buzz, and perfectly timed uploads. We’ll unpack the metrics behind each spike—when comments flooded in, likes skyrocketed, and watch time hit record highs. Strap in, because this is how YouTube engagement truly ignites.” \"\"\"\n",
        "\n",
        "]\n",
        "\n",
        "for i, text in enumerate(paragraphs, start = 1):\n",
        "  tts = gTTS(text = text, lang = 'en')\n",
        "  filename = f\"video{i}.mp3\"\n",
        "  tts.save(filename)\n",
        "  print(f\"Saved {filename}\")\n"
      ]
    },
    {
      "cell_type": "code",
      "execution_count": null,
      "metadata": {
        "colab": {
          "base_uri": "https://localhost:8080/"
        },
        "id": "oY65wbwtnKKm",
        "outputId": "4782ae7b-cd60-430b-a846-55e08459f112"
      },
      "outputs": [],
      "source": [
        "import whisper\n",
        "\n",
        "model = whisper.load_model('base')\n",
        "\n",
        "result = model.transcribe('video1.mp3')\n",
        "\n",
        "transcript = result['text']\n",
        "print('Transcript:\\n', transcript)"
      ]
    },
    {
      "cell_type": "code",
      "execution_count": null,
      "metadata": {
        "id": "sXhiHIfIn2Se"
      },
      "outputs": [],
      "source": [
        "with open(\"video1_transcript.txt\", \"w\") as f:\n",
        "    f.write(transcript)\n"
      ]
    },
    {
      "cell_type": "code",
      "execution_count": null,
      "metadata": {
        "colab": {
          "base_uri": "https://localhost:8080/"
        },
        "id": "GC3-VNiBn3Pt",
        "outputId": "630e45ea-0dd3-4b9c-9a36-f938875c0619"
      },
      "outputs": [],
      "source": [
        "from textblob import TextBlob\n",
        "\n",
        "blob = TextBlob(transcript)\n",
        "print(\"Polarity:\", blob.sentiment.polarity)\n",
        "print(\"Subjectivity:\", blob.sentiment.subjectivity)\n"
      ]
    },
    {
      "cell_type": "code",
      "execution_count": null,
      "metadata": {
        "colab": {
          "base_uri": "https://localhost:8080/"
        },
        "id": "dp1QJFBVoM1Z",
        "outputId": "2ada6948-f5f5-40ef-9f2f-5dc7f1e79a29"
      },
      "outputs": [],
      "source": [
        "import whisper\n",
        "\n",
        "model = whisper.load_model(\"base\")\n",
        "result = model.transcribe(\"video1.mp3\")\n",
        "\n",
        "transcript1 = result['text']\n",
        "print(\"Transcript for video1.mp3:\\n\", transcript1)\n"
      ]
    },
    {
      "cell_type": "code",
      "execution_count": null,
      "metadata": {
        "id": "7Yfhj7i_oXF0"
      },
      "outputs": [],
      "source": [
        "with open('video1_transcript.txt', 'w') as f:\n",
        "  f.write(transcript1)"
      ]
    },
    {
      "cell_type": "code",
      "execution_count": null,
      "metadata": {
        "colab": {
          "base_uri": "https://localhost:8080/"
        },
        "id": "r5WgPE2MonNO",
        "outputId": "87fa564f-134e-4af2-e95d-2def4d401d08"
      },
      "outputs": [],
      "source": [
        "from textblob import TextBlob\n",
        "\n",
        "blob1 = TextBlob(transcript1)\n",
        "\n",
        "print('Polarity', blob1.sentiment.polarity)\n",
        "print('Subjectivity', blob1.sentiment.subjectivity)\n"
      ]
    },
    {
      "cell_type": "code",
      "execution_count": null,
      "metadata": {
        "colab": {
          "base_uri": "https://localhost:8080/",
          "height": 542
        },
        "id": "wAEXcqj6rE2_",
        "outputId": "14712e05-f7e0-4960-b44a-8e1223119c64"
      },
      "outputs": [],
      "source": [
        "import plotly.graph_objects as go\n",
        "\n",
        "fig = go.Figure(go.Indicator(\n",
        "    mode = 'gauge+number',\n",
        "    value = blob1.sentiment.polarity,\n",
        "    title = {'text': 'Tone Polarity'},\n",
        "    gauge={\n",
        "        'axis': {'range': [-1, 1]},\n",
        "        'bar': {'color': 'darkred' if blob1.sentiment.polarity < 0 else 'green'}\n",
        "    }\n",
        "))\n",
        "fig.update_layout(paper_bgcolor = \"black\", font = {'color': \"white\"})\n",
        "fig.show()\n"
      ]
    },
    {
      "cell_type": "markdown",
      "metadata": {
        "id": "VoADNO3DVfh-"
      },
      "source": [
        "4. ***The YouTube Playbook: Animated Insights & Hidden Patterns of Content Power 📘***"
      ]
    },
    {
      "cell_type": "markdown",
      "metadata": {
        "id": "SrltBMGrnQ_E"
      },
      "source": [
        "## 🟠✨ Interactive 3D Bubble Chart with Floating Emojis  "
      ]
    },
    {
      "cell_type": "code",
      "execution_count": null,
      "metadata": {
        "colab": {
          "base_uri": "https://localhost:8080/"
        },
        "id": "GnrFXRTrVzGK",
        "outputId": "8d9eeeb0-68ff-4bfa-eeec-6e40fe4027b4"
      },
      "outputs": [],
      "source": [
        "import re\n",
        "from collections import Counter\n",
        "import pandas as pd\n",
        "\n",
        "transcripts = [\n",
        "    \"Wow 😂 this video is amazing! Love it ❤️\",\n",
        "    \"Fail 😞 didn't expect that... lol\",\n",
        "    \"So funny 😂😂 loved it!\",\n",
        "]\n",
        "reaction_keywords = ['wow', 'amazing', 'love', 'fail', 'lol', 'funny', 'wow']\n",
        "\n",
        "emoji_pattern = re.compile(\"[\"\n",
        "                          u\"\\U0001F600-\\U0001F64F\"\n",
        "                           u\"\\U0001F300-\\U0001F5FF\"\n",
        "                           u\"\\U0001F680-\\U0001F6FF\"\n",
        "                           u\"\\U0001F1E0-\\U0001F1FF\"\n",
        "\n",
        "\"]+\", flags = re.UNICODE)\n",
        "\n",
        "all_emojis = []\n",
        "all_reactions = []\n",
        "\n",
        "for text in transcripts:\n",
        "\n",
        "  emojis = emoji_pattern.findall(text)\n",
        "  all_emojis.extend(emojis)\n",
        "\n",
        "emoji_counts = Counter(all_emojis)\n",
        "reaction_counts = Counter(all_reactions)\n",
        "\n",
        "print(\"Emoji Counts:\")\n",
        "print(emoji_counts)\n",
        "\n",
        "print(\"Reaction Keyword Counts:\")\n",
        "print(reaction_counts)\n",
        "\n",
        "emoji_df = pd.DataFrame(emoji_counts.items(), columns = ['Emoji', 'Count'])\n",
        "reaction_df = pd.DataFrame(reaction_counts.items(), columns = ['Reaction', 'Count'])\n",
        "\n",
        "print(\"Emoji DataFrame:\")\n",
        "print(emoji_df)\n",
        "\n",
        "print(\"Reaction DataFrame\")\n",
        "print(reaction_df)"
      ]
    },
    {
      "cell_type": "code",
      "execution_count": null,
      "metadata": {
        "colab": {
          "base_uri": "https://localhost:8080/",
          "height": 542
        },
        "id": "86WBoMI9c-qk",
        "outputId": "506be075-a3fe-4f89-8a8e-9679939591e0"
      },
      "outputs": [],
      "source": [
        "import plotly.graph_objects as go\n",
        "import numpy as np\n",
        "import random\n",
        "\n",
        "#Emoji list\n",
        "emojis = ['🔥', '😂', '💡', '❤️', '🎬', '📈', '🤯', '🎉', '📢', '👁️‍🗨️']\n",
        "n = len(emojis)\n",
        "\n",
        "#Random 3D positions\n",
        "x = np.random.rand(n)\n",
        "y = np.random.rand(n)\n",
        "z = np.random.rand(n)\n",
        "\n",
        "#Random sizes\n",
        "sizes = np.random.randint(25, 50, size = n)\n",
        "\n",
        "#Colors for each emoji\n",
        "colors = ['red', 'orange', 'yellow', 'green', 'cyan', 'magenta', 'blue', 'deeppink', 'gold', 'violet']\n",
        "\n",
        "#Creating the bubble chart\n",
        "fig = go.Figure()\n",
        "\n",
        "for i in range(n):\n",
        "    fig.add_trace(go.Scatter3d(\n",
        "        x = [x[i]],\n",
        "        y = [y[i]],\n",
        "        z = [z[i]],\n",
        "        mode = 'text',\n",
        "        text = [emojis[i]],\n",
        "        textfont = dict(size = sizes[i], color = colors[i]),\n",
        "        hoverinfo = 'text'\n",
        "    ))\n",
        "\n",
        "fig.update_layout(\n",
        "    scene=dict(\n",
        "        xaxis = dict(title = 'Engagement', titlefont = dict(color = 'white'), tickfont = dict(color = 'white'), showbackground = False),\n",
        "        yaxis = dict(title = 'Tone', titlefont = dict(color = 'white'), tickfont = dict(color = 'white'), showbackground = False),\n",
        "        zaxis = dict(title = 'Virality', titlefont = dict(color = 'white'), tickfont = dict(color = 'white'), showbackground = False),\n",
        "    ),\n",
        "    paper_bgcolor = 'black',\n",
        "    plot_bgcolor = 'black',\n",
        "    margin = dict(l = 0, r = 0, t = 0, b = 0)\n",
        ")\n",
        "\n",
        "fig.show()\n"
      ]
    },
    {
      "cell_type": "markdown",
      "metadata": {
        "id": "0N5bMeJ7nacm"
      },
      "source": [
        "## ✨🎬 Engaging Text Animations for Enhanced Storytelling  "
      ]
    },
    {
      "cell_type": "code",
      "execution_count": null,
      "metadata": {
        "colab": {
          "base_uri": "https://localhost:8080/",
          "height": 542
        },
        "id": "W1kHD9H3kQ6L",
        "outputId": "144fb458-dfb6-499b-ccdc-e07745e87bda"
      },
      "outputs": [],
      "source": [
        "from wordcloud import WordCloud\n",
        "import numpy as np\n",
        "import plotly.graph_objects as go\n",
        "\n",
        "texts = [\n",
        "    \"\"\"\n",
        "    It starts with a click, a spark, a single video, launched into the vast unknown.\n",
        "    Then, something shifts, views multiply, emotions ripple, a conversation begins.\n",
        "    \"\"\",\n",
        "    \"\"\"\n",
        "    From the shadows of the internet, creators emerge with stories untold.\n",
        "    Their voices rise, narratives intertwine, shaping the culture of the digital age.\n",
        "    \"\"\",\n",
        "    \"\"\"\n",
        "    Engagement explodes, communities form, trends accelerate, and the world watches.\n",
        "    This is not just content; it is the pulse of a generation connected through screens.\n",
        "    \"\"\"\n",
        "]\n",
        "\n",
        "#Images of the text\n",
        "imgs = []\n",
        "for t in texts:\n",
        "    wc = WordCloud(width = 400, height = 200, background_color = 'black', colormap = 'viridis').generate(t)\n",
        "    img = np.array(wc.to_image())\n",
        "    if img.dtype != 'uint8':\n",
        "        img = img.astype('uint8')\n",
        "    imgs.append(img)\n",
        "\n",
        "fig = go.Figure(\n",
        "    frames = [go.Frame(data = [go.Image(z = img)]) for img in imgs]\n",
        ")\n",
        "\n",
        "#Showing the first image initially\n",
        "fig.add_trace(go.Image(z = imgs[0]))\n",
        "\n",
        "fig.update_layout(\n",
        "    paper_bgcolor = 'black',\n",
        "    plot_bgcolor = 'black',\n",
        "    updatemenus = [dict(\n",
        "        type = \"buttons\",\n",
        "        buttons = [\n",
        "            dict(\n",
        "                label = \"Play\",\n",
        "                method = \"animate\",\n",
        "                args = [None, {\"frame\": {\"duration\": 1000, \"redraw\": True}, \"fromcurrent\": True, \"transition\": {\"duration\": 500}}]\n",
        "            ),\n",
        "            dict(\n",
        "                label = \"Pause\",\n",
        "                method = \"animate\",\n",
        "                args = [[None], {\"frame\": {\"duration\": 0, \"redraw\": False}, \"mode\": \"immediate\", \"transition\": {\"duration\": 0}}]\n",
        "            )\n",
        "        ],\n",
        "        direction = \"left\",\n",
        "        pad = {\"r\": 10, \"t\": 10},\n",
        "        showactive = True,\n",
        "        x = 0.1,\n",
        "        y = 0,\n",
        "        xanchor = \"right\",\n",
        "        yanchor = \"top\",\n",
        "        bgcolor = 'black',\n",
        "        bordercolor = 'white',\n",
        "        borderwidth = 1,\n",
        "        font = dict(color = 'white')\n",
        "    )],\n",
        "    font = dict(color = 'white')\n",
        ")\n",
        "\n",
        "fig.show()\n"
      ]
    },
    {
      "cell_type": "markdown",
      "metadata": {
        "id": "8u_3P7xWnf_E"
      },
      "source": [
        "## 🌐🔗 NetworkX Graph for Deeper Relationship Insights"
      ]
    },
    {
      "cell_type": "code",
      "execution_count": null,
      "metadata": {
        "colab": {
          "base_uri": "https://localhost:8080/",
          "height": 571
        },
        "id": "mpMFoRen5t50",
        "outputId": "32d6f7e1-d9fd-470e-8f7a-620a13824f09"
      },
      "outputs": [],
      "source": [
        "import networkx as nx\n",
        "import matplotlib.pyplot as plt\n",
        "from collections import Counter\n",
        "import re\n",
        "\n",
        "#Sample video texts\n",
        "video_texts = [\n",
        "    \"It starts with a click, a spark, a single video, launched into the vast unknown. Then, something shifts, views multiply, emotions ripple, a conversation begins.\",\n",
        "    \"From the shadows of the internet, creators emerge with stories untold. Their voices rise, narratives intertwine, shaping the culture of the digital age.\",\n",
        "    \"Engagement explodes, communities form, trends accelerate, and the world watches. This is not just content; it is the pulse of a generation connected through screens.\"\n",
        "]\n",
        "\n",
        "theme_keywords = ['click', 'spark', 'video', 'views', 'emotions', 'conversation',\n",
        "                  'shadows', 'creators', 'stories', 'voices', 'narratives',\n",
        "                  'engagement', 'communities', 'trends', 'content', 'generation']\n",
        "\n",
        "def extract_themes(text, keywords):\n",
        "    words = re.findall(r'\\b\\w+\\b', text.lower())\n",
        "    return [word for word in words if word in keywords]\n",
        "\n",
        "co_occurrence = Counter()\n",
        "for text in video_texts:\n",
        "    themes_in_text = extract_themes(text, theme_keywords)\n",
        "    for i in range(len(themes_in_text)):\n",
        "        for j in range(i+1, len(themes_in_text)):\n",
        "            pair = tuple(sorted([themes_in_text[i], themes_in_text[j]]))\n",
        "            co_occurrence[pair] += 1\n",
        "\n",
        "top_edges = co_occurrence.most_common(10)\n",
        "\n",
        "G = nx.Graph()\n",
        "for (node1, node2), weight in top_edges:\n",
        "    G.add_edge(node1, node2, weight=weight)\n",
        "\n",
        "nodes = set()\n",
        "for (n1, n2), _ in top_edges:\n",
        "    nodes.add(n1)\n",
        "    nodes.add(n2)\n",
        "\n",
        "G.add_nodes_from(nodes)\n",
        "\n",
        "fig, ax = plt.subplots(figsize = (12,10))\n",
        "\n",
        "\n",
        "fig.patch.set_facecolor('black')\n",
        "ax.set_facecolor('black')\n",
        "\n",
        "pos = nx.kamada_kawai_layout(G)\n",
        "\n",
        "node_sizes = [300 + 500*G.degree(n) for n in G.nodes()]\n",
        "edge_widths = [G[u][v]['weight'] * 3 for u,v in G.edges()]\n",
        "\n",
        "nx.draw_networkx_nodes(G, pos, ax = ax, node_color = 'deepskyblue', node_size = node_sizes, alpha = 0.8)\n",
        "nx.draw_networkx_edges(G, pos, ax = ax, width = edge_widths, edge_color='gray', alpha = 0.6)\n",
        "nx.draw_networkx_labels(G, pos, ax = ax, font_color = 'white', font_size = 14, font_weight = 'bold')\n",
        "\n",
        "ax.set_title(\"Top Themes Co-occurrence Network (Dark Background)\", fontsize = 18, color = 'white')\n",
        "ax.axis('off')\n",
        "\n",
        "plt.show()\n"
      ]
    },
    {
      "cell_type": "markdown",
      "metadata": {
        "id": "w0nbiEJunvkf"
      },
      "source": [
        "## 🎞️🕸️ Animated NetworkX Visualizations to Bring Data to Life"
      ]
    },
    {
      "cell_type": "code",
      "execution_count": null,
      "metadata": {
        "colab": {
          "base_uri": "https://localhost:8080/",
          "height": 789
        },
        "id": "VCptdRrI9k38",
        "outputId": "79918b59-46a3-4226-dc48-9cb97f2e78d0"
      },
      "outputs": [],
      "source": [
        "import matplotlib.pyplot as plt\n",
        "import networkx as nx\n",
        "import numpy as np\n",
        "from matplotlib.animation import FuncAnimation\n",
        "from IPython.display import HTML\n",
        "\n",
        "#Creating a small theme network graph\n",
        "G = nx.Graph()\n",
        "edges = [\n",
        "    ('Virality', 'Emotion'),\n",
        "    ('Emotion', 'Engagement'),\n",
        "    ('Engagement', 'Trend'),\n",
        "    ('Trend', 'Reach'),\n",
        "    ('Reach', 'Virality')\n",
        "]\n",
        "G.add_edges_from(edges)\n",
        "\n",
        "#Positioning\n",
        "pos = nx.spring_layout(G, seed = 42)\n",
        "\n",
        "#Setting up the figure\n",
        "fig, ax = plt.subplots(figsize=(8, 6))\n",
        "plt.style.use('dark_background')\n",
        "plt.close()\n",
        "\n",
        "#Base node size\n",
        "base_size = 800\n",
        "\n",
        "def update(frame):\n",
        "    ax.clear()\n",
        "    ax.set_axis_off()\n",
        "\n",
        "    #Create pulsing effect\n",
        "    pulse = 1 + 0.25 * np.sin(frame / 5)\n",
        "    node_sizes = [base_size * pulse for _ in G.nodes()]\n",
        "\n",
        "    #Draw graph\n",
        "    nx.draw_networkx_edges(G, pos, ax = ax, edge_color = 'white', width = 2)\n",
        "    nx.draw_networkx_nodes(G, pos, ax = ax, node_color = 'deepskyblue', node_size = node_sizes, alpha = 0.9)\n",
        "    nx.draw_networkx_labels(G, pos, ax = ax, font_color = 'white', font_size = 12)\n",
        "\n",
        "    ax.set_title(\"📈 Animated Pulse Network: Content Themes\", fontsize=16, color = 'white')\n",
        "\n",
        "#Animation\n",
        "ani = FuncAnimation(fig, update, frames = 60, interval = 100)\n",
        "\n",
        "#Display in Colab\n",
        "HTML(ani.to_jshtml())\n"
      ]
    },
    {
      "cell_type": "markdown",
      "metadata": {
        "id": "UpEGkAB1n1XM"
      },
      "source": [
        "## 📈🔮 Intuitive Forecasting Graph for Future Trends  "
      ]
    },
    {
      "cell_type": "code",
      "execution_count": null,
      "metadata": {
        "id": "cnw6sy7yCLOD"
      },
      "outputs": [],
      "source": [
        "df['date'] = pd.to_datetime(df['date'])\n"
      ]
    },
    {
      "cell_type": "code",
      "execution_count": null,
      "metadata": {
        "id": "ijDRcuq8CO9V"
      },
      "outputs": [],
      "source": [
        "df_prophet = df.groupby('date')['views'].sum().reset_index()\n",
        "\n",
        "df_prophet.rename(columns = {'date': 'ds', 'views': 'y'}, inplace = True)"
      ]
    },
    {
      "cell_type": "code",
      "execution_count": null,
      "metadata": {
        "colab": {
          "base_uri": "https://localhost:8080/",
          "height": 627
        },
        "id": "69skJW7oCibm",
        "outputId": "8b7dac83-78d5-4426-8c70-ebcb25170c85"
      },
      "outputs": [],
      "source": [
        "from prophet import Prophet\n",
        "\n",
        "model = Prophet()\n",
        "model.fit(df_prophet)\n",
        "\n",
        "future = model.make_future_dataframe(periods=30)\n",
        "forecast = model.predict(future)\n",
        "\n",
        "model.plot(forecast)\n"
      ]
    },
    {
      "cell_type": "markdown",
      "metadata": {
        "id": "3GklmGpXPwlN"
      },
      "source": [
        "5. ***YouTube Analytics 360: Category Wars, Viewer Trends & Visual Stories 🌍***"
      ]
    },
    {
      "cell_type": "markdown",
      "metadata": {
        "id": "1qI1Tp-22lYu"
      },
      "source": [
        "## 🍩📊 Donut Chart Visualization of Category Share Engagement"
      ]
    },
    {
      "cell_type": "code",
      "execution_count": null,
      "metadata": {
        "id": "PqzPG56MRsDM"
      },
      "outputs": [],
      "source": [
        "import numpy as np\n",
        "\n",
        "categories = ['Music', 'Gaming', 'News', 'Education', 'Entertainment']\n",
        "df['category'] = np.random.choice(categories, size=len(df))\n"
      ]
    },
    {
      "cell_type": "code",
      "execution_count": null,
      "metadata": {
        "colab": {
          "base_uri": "https://localhost:8080/",
          "height": 542
        },
        "id": "TJESZ0ZxP1kd",
        "outputId": "7b3181ff-a3bc-49ef-961e-b590ed9a7285"
      },
      "outputs": [],
      "source": [
        "import plotly.express as px\n",
        "\n",
        "if 'likes' not in df.columns:\n",
        "  df['likes'] = df['views']\n",
        "\n",
        "df['engagement'] = df['views'] + df['likes']\n",
        "engagement_df = df.groupby('category')[['views', 'likes', 'engagement']].sum().reset_index()\n",
        "\n",
        "fig = px.pie(engagement_df, values = 'engagement', names = 'category',\n",
        "             title = 'Category SHare of Engagement', hole = 0.5,\n",
        "             color_discrete_sequence = px.colors.qualitative.Set3)\n",
        "\n",
        "fig.update_layout(\n",
        "    paper_bgcolor = 'black',\n",
        "    plot_bgcolor = 'black',\n",
        "    font = dict(color = 'white'),\n",
        "    title_font = dict(size = 20, color = 'white', family = 'Arial')\n",
        ")\n",
        "\n",
        "fig.update_traces(textinfo = 'percent+label')\n",
        "fig.show()"
      ]
    },
    {
      "cell_type": "markdown",
      "metadata": {
        "id": "6migMK2zoIRG"
      },
      "source": [
        "## 🔥📈 Heatmap for Visualizing Data Density  "
      ]
    },
    {
      "cell_type": "code",
      "execution_count": null,
      "metadata": {
        "colab": {
          "base_uri": "https://localhost:8080/",
          "height": 542
        },
        "id": "uvhaB7o4TTIb",
        "outputId": "51a0c550-b0a4-4de0-b91e-f196482fed0d"
      },
      "outputs": [],
      "source": [
        "import pandas as pd\n",
        "\n",
        "df['date'] = pd.to_datetime(df['date'])\n",
        "\n",
        "heatmap_data = df.groupby([df['date'].dt.to_period('M').astype(str), 'category'])['views'].sum().reset_index()\n",
        "heatmap_pivot = heatmap_data.pivot(index = 'category', columns = 'date', values = 'views').fillna(0)\n",
        "\n",
        "import plotly.graph_objects as go\n",
        "\n",
        "fig = go.Figure(data = go.Heatmap(\n",
        "    z = heatmap_pivot.values,\n",
        "    x = heatmap_pivot.columns,\n",
        "    y = heatmap_pivot.index,\n",
        "    colorscale = 'YlOrRd'\n",
        "\n",
        "))\n",
        "\n",
        "fig.update_layout(title='Category Popularity Over Time (Views)', xaxis_title='Month', yaxis_title='Category', paper_bgcolor = 'black', plot_bgcolor = 'black', title_font = dict(size = 20, color = 'white', family = 'Arial'))\n",
        "fig.show()"
      ]
    },
    {
      "cell_type": "markdown",
      "metadata": {
        "id": "kMJp_mXZoL_Y"
      },
      "source": [
        "## 🎞️✨ Dynamic Animated Visuals to Captivate  "
      ]
    },
    {
      "cell_type": "code",
      "execution_count": null,
      "metadata": {
        "colab": {
          "base_uri": "https://localhost:8080/",
          "height": 542
        },
        "id": "9a3wB6FSc_xD",
        "outputId": "8dc108f2-fd13-4c97-931c-52f2c21e483f"
      },
      "outputs": [],
      "source": [
        "import plotly.express as px\n",
        "\n",
        "fig = px.bar(\n",
        "    df_anim,\n",
        "    x = 'category',\n",
        "    y = 'value',\n",
        "    color = 'category',\n",
        "    animation_frame = 'metric',\n",
        "    range_y = [0, df_anim['value'].max() * 1.1],\n",
        "    title = 'Category Engagement: Views vs Likes vs Total Engagement',\n",
        "    color_discrete_sequence=px.colors.qualitative.Bold\n",
        ")\n",
        "\n",
        "fig.update_layout(\n",
        "    plot_bgcolor = 'black',\n",
        "    paper_bgcolor = 'black',\n",
        "    font_color = 'white',\n",
        "    xaxis_title = 'Category',\n",
        "    yaxis_title = 'Count'\n",
        ")\n",
        "\n",
        "fig.update_traces(texttemplate = '%{y:.0f}', textposition = 'outside')\n",
        "fig.show()\n"
      ]
    },
    {
      "cell_type": "markdown",
      "metadata": {
        "id": "rFQwEObvoQMV"
      },
      "source": [
        "## 🎯📊 Key Performance Indicators (KPIs) at a Glance  "
      ]
    },
    {
      "cell_type": "code",
      "execution_count": null,
      "metadata": {
        "colab": {
          "base_uri": "https://localhost:8080/"
        },
        "id": "T-HH7msIdKZp",
        "outputId": "82dc3ec0-5ab7-409a-b626-089e39ce6701"
      },
      "outputs": [],
      "source": [
        "df['engagement'] = df['views'] + df['likes']\n",
        "\n",
        "agg = df.groupby('category').agg(\n",
        "    total_views = ('views', 'sum'),\n",
        "    total_likes = ('likes', 'sum'),\n",
        "    total_engagement = ('engagement', 'sum'),\n",
        "    video_count = ('category', 'count')\n",
        ").reset_index()\n",
        "\n",
        "top_views = agg.loc[agg['total_views'].idxmax()]\n",
        "top_likes = agg.loc[agg['total_likes'].idxmax()]\n",
        "top_engagement = agg.loc[agg['total_engagement'].idxmax()]\n",
        "\n",
        "avg_views_top_cat = df[df['category'] == top_views['category']]['views'].mean()\n",
        "\n",
        "print(f\" Top category by Views: {top_views['category']} with {top_views['total_views']:,} views\")\n",
        "print(f\" Top category by Likes: {top_likes['category']} with {top_likes['total_likes']:,} likes\")\n",
        "print(f\" Top category by Engagement: {top_engagement['category']} with {top_engagement['total_engagement']:,} total engagement\")\n",
        "print(f\" Average Views per Video in '{top_views['category']}': {avg_views_top_cat:,.0f}\")\n",
        "print(f\" Total Videos in '{top_views['category']}': {top_views['video_count']}\")"
      ]
    },
    {
      "cell_type": "code",
      "execution_count": null,
      "metadata": {
        "colab": {
          "base_uri": "https://localhost:8080/",
          "height": 1000
        },
        "id": "iASB6XvbqBI7",
        "outputId": "03fa169c-1899-4cfa-d78d-2a10b5a27b4e"
      },
      "outputs": [],
      "source": [
        "import pandas as pd\n",
        "\n",
        "from google.colab import files\n",
        "uploaded = files.upload()\n",
        "\n",
        "df = pd.read_csv('USvideos.csv')\n",
        "\n",
        "#Testing it\n",
        "print(\"🔥 DATAFRAME LOADED 🔥\\n\")\n",
        "print(df.head())\n",
        "print(\"\\n📦 COLUMNS:\\n\", df.columns)\n"
      ]
    },
    {
      "cell_type": "code",
      "execution_count": null,
      "metadata": {
        "colab": {
          "base_uri": "https://localhost:8080/",
          "height": 290
        },
        "id": "ODYe9GwXrWsv",
        "outputId": "eaa17287-7ccf-4f91-f2ab-763ded32513f"
      },
      "outputs": [],
      "source": [
        "from IPython.display import display, Markdown\n",
        "\n",
        "#Calculate KPIs\n",
        "total_views = df['views'].sum()\n",
        "total_likes = df['likes'].sum()\n",
        "avg_views = df['views'].mean()\n",
        "top_channel = df.groupby('channel_title')['views'].sum().idxmax()\n",
        "\n",
        "#Displaying KPIs as markdown cards\n",
        "display(Markdown(f\"\"\"\n",
        "<style>\n",
        ".kpi {{\n",
        "  background-color: #121212;\n",
        "  color: white;\n",
        "  border-radius: 10px;\n",
        "  padding: 15px;\n",
        "  margin: 10px;\n",
        "  font-family: Arial, sans-serif;\n",
        "  width: 250px;\n",
        "  display: inline-block;\n",
        "  text-align: center;\n",
        "  box-shadow: 0 0 10px #00ccff;\n",
        "}}\n",
        ".kpi h2 {{\n",
        "  margin: 0;\n",
        "  font-size: 30px;\n",
        "}}\n",
        ".kpi p {{\n",
        "  margin: 5px 0 0;\n",
        "  font-size: 14px;\n",
        "  color: #66ccff;\n",
        "}}\n",
        "</style>\n",
        "\n",
        "<div class=\"kpi\">\n",
        "  <h2>{total_views:,}</h2>\n",
        "  <p>Total Views</p>\n",
        "</div>\n",
        "\n",
        "<div class=\"kpi\">\n",
        "  <h2>{total_likes:,}</h2>\n",
        "  <p>Total Likes</p>\n",
        "</div>\n",
        "\n",
        "<div class=\"kpi\">\n",
        "  <h2>{avg_views:,.0f}</h2>\n",
        "  <p>Average Views per Video</p>\n",
        "</div>\n",
        "\n",
        "<div class=\"kpi\">\n",
        "  <h2>{top_channel}</h2>\n",
        "  <p>Top Channel by Views</p>\n",
        "</div>\n",
        "\"\"\"))\n"
      ]
    },
    {
      "cell_type": "markdown",
      "metadata": {
        "id": "Wwmr_IGAvyo4"
      },
      "source": [
        "6. ***YouTube’s Untold Story: Visual Explorations of What Makes Content Win 📽️***"
      ]
    },
    {
      "cell_type": "markdown",
      "metadata": {
        "id": "Lgm7jZqi2_cr"
      },
      "source": [
        "## 📈💖 Quarterly Emotional Trend (Line Chart)  "
      ]
    },
    {
      "cell_type": "code",
      "execution_count": null,
      "metadata": {
        "colab": {
          "base_uri": "https://localhost:8080/"
        },
        "id": "VmOU0oOBtQTw",
        "outputId": "adfc8da4-dd70-4aa7-cba3-44fe6a6b68e9"
      },
      "outputs": [],
      "source": [
        "import pandas as pd\n",
        "from collections import Counter\n",
        "import emoji\n",
        "\n",
        "def extract_emojis(text):\n",
        "  return [char for char in text if char in emoji.EMOJI_DATA]\n",
        "\n",
        "emoji_emotion_map = {\n",
        "    '😂': 'Joy', '😢': 'Sadness', '😭': 'Sadness', '😍': 'Love', '😡': 'Anger',\n",
        "    '🔥': 'Excitement', '💀': 'Shock', '🤔': 'Thinking', '😱': 'Surprise',\n",
        "    '😎': 'Cool', '👍': 'Approval', '👎': 'Disapproval', '🎉': 'Celebration'\n",
        "}\n",
        "\n",
        "emotion_over_time = []\n",
        "\n",
        "for index, row in df.iterrows():\n",
        "    combined_text = str(row['title']) + \" \" + str(row['tags'])\n",
        "    emojis_found = extract_emojis(combined_text)\n",
        "    mapped_emotions = [emoji_emotion_map[e] for e in emojis_found if e in emoji_emotion_map]\n",
        "\n",
        "    for emotion in mapped_emotions:\n",
        "        emotion_over_time.append({\n",
        "            'trending_date': row['trending_date'],\n",
        "            'emotion': emotion\n",
        "        })\n",
        "\n",
        "\n",
        "emotion_df = pd.DataFrame(emotion_over_time)\n",
        "emotion_df['trending_date'] = pd.to_datetime(emotion_df['trending_date'], errors = 'coerce')\n",
        "emotion_df.dropna(inplace=True)\n"
      ]
    },
    {
      "cell_type": "code",
      "execution_count": null,
      "metadata": {
        "colab": {
          "base_uri": "https://localhost:8080/"
        },
        "id": "DhNUXlYR21vm",
        "outputId": "57d23e1c-8d03-4788-bfa1-1b991016ed4c"
      },
      "outputs": [],
      "source": [
        "emotion_df.set_index('trending_date', inplace=True)\n",
        "\n",
        "\n",
        "emotion_monthly = (\n",
        "    emotion_df.groupby('emotion')\n",
        "    .resample('M')\n",
        "    .size()\n",
        "    .reset_index(name='count')\n",
        ")"
      ]
    },
    {
      "cell_type": "code",
      "execution_count": null,
      "metadata": {
        "colab": {
          "base_uri": "https://localhost:8080/"
        },
        "id": "AEGlyW-t3FHe",
        "outputId": "9fc74c33-ee2a-40de-965a-6879128c2d44"
      },
      "outputs": [],
      "source": [
        "print(emotion_monthly.groupby('trending_date')['count'].sum().sort_values(ascending=False).head(10))\n"
      ]
    },
    {
      "cell_type": "code",
      "execution_count": null,
      "metadata": {
        "colab": {
          "base_uri": "https://localhost:8080/",
          "height": 542
        },
        "id": "-q4LvluD3J5X",
        "outputId": "e5249f64-a1fb-4762-b60f-303da282b23b"
      },
      "outputs": [],
      "source": [
        "emotion_quarterly = (\n",
        "    emotion_df.groupby('emotion')\n",
        "    .resample('QE')\n",
        "    .size()\n",
        "    .reset_index(name='count')\n",
        ")\n",
        "\n",
        "import plotly.express as px\n",
        "\n",
        "fig = px.line(\n",
        "    emotion_quarterly,\n",
        "    x = 'trending_date',\n",
        "    y = 'count',\n",
        "    color = 'emotion',\n",
        "    title = \"📆 Quarterly Emotional Trends in YouTube Titles & Tags\",\n",
        "    markers = True,\n",
        "    template = \"plotly_dark\"\n",
        ")\n",
        "\n",
        "fig.show()\n"
      ]
    },
    {
      "cell_type": "markdown",
      "metadata": {
        "id": "2HyMdWvG3EMo"
      },
      "source": [
        "## 🎞️📊 Animated Quarterly Emotional Trend  "
      ]
    },
    {
      "cell_type": "code",
      "execution_count": null,
      "metadata": {
        "id": "60b1xFeE3mB9"
      },
      "outputs": [],
      "source": [
        "emoji_map = {\n",
        "    'Joy': '😊',\n",
        "    'Love': '❤️',\n",
        "    'Surprise': '😲',\n",
        "    'Anger': '😠',\n",
        "    'Sadness': '😢',\n",
        "    'Cool': '😎',\n",
        "    'Excitement': '😃',\n",
        "    'Shock': '😱',\n",
        "    'Thinking': '🤔',\n",
        "    'Approval': '👍',\n",
        "    'Disapproval': '👎',\n",
        "    'Celebration': '🎉'\n",
        "}\n",
        "\n"
      ]
    },
    {
      "cell_type": "code",
      "execution_count": null,
      "metadata": {
        "id": "-CaWydG05A1J"
      },
      "outputs": [],
      "source": [
        "emotion_quarterly['emoji'] = emotion_quarterly['emotion'].map(emoji_map)\n"
      ]
    },
    {
      "cell_type": "code",
      "execution_count": null,
      "metadata": {
        "colab": {
          "base_uri": "https://localhost:8080/",
          "height": 542
        },
        "id": "w_hGMyMx3s39",
        "outputId": "42313bc3-3c36-49bc-8239-afee2f7f5800"
      },
      "outputs": [],
      "source": [
        "import plotly.express as px\n",
        "\n",
        "fig = px.scatter(\n",
        "    emotion_quarterly,\n",
        "    x = 'trending_date',\n",
        "    y = 'count',\n",
        "    animation_frame = emotion_quarterly['trending_date'].dt.strftime('%Y-Q%q'),\n",
        "    color = 'emotion',\n",
        "    text = 'emoji',\n",
        "    size = 'count',\n",
        "    title = 'Animated Quaterly Emotional Trends with Emojis',\n",
        "    template = 'plotly_dark'\n",
        ")\n",
        "\n",
        "\n",
        "fig.update_traces(\n",
        "    mode = 'markers+text',\n",
        "    textposition = 'middle center',\n",
        "    marker = dict(size = 20)\n",
        "\n",
        ")\n",
        "\n",
        "fig.update_layout(\n",
        "    xaxis_title = 'Date',\n",
        "    yaxis_title = 'Count',\n",
        "    legend_title = 'Emotion',\n",
        "    font = dict(size = 14)\n",
        ")\n",
        "\n",
        "fig.show()"
      ]
    },
    {
      "cell_type": "markdown",
      "metadata": {
        "id": "N7C9mZjuojFz"
      },
      "source": [
        "## 🔄🌊 Sankey Diagram for Flow Analysis"
      ]
    },
    {
      "cell_type": "code",
      "execution_count": null,
      "metadata": {
        "colab": {
          "base_uri": "https://localhost:8080/",
          "height": 542
        },
        "id": "9IkRsOlz-4zv",
        "outputId": "e2b83a39-e33d-421d-b631-192461fc1c23"
      },
      "outputs": [],
      "source": [
        "import plotly.graph_objects as go\n",
        "\n",
        "labels = ['Music', 'Gaming', 'Education', 'Likes', 'Comments']\n",
        "\n",
        "source = [0, 0, 1, 1, 2, 2]\n",
        "target = [3, 4, 3, 4, 3, 4]\n",
        "values = [3000, 1200, 2000, 800, 1500, 700]\n",
        "\n",
        "fig_sankey = go.Figure(data=[go.Sankey(\n",
        "    node = dict(\n",
        "        pad = 15,\n",
        "        thickness = 20,\n",
        "        line = dict(color = 'black', width = 0.5),\n",
        "        label = labels,\n",
        "        color = ['#636EFA', '#EF553B', '#00CC96', '#AB63FA', '#FFA15A']\n",
        "    ),\n",
        "    link = dict(\n",
        "        source = source,\n",
        "        target = target,\n",
        "        value = values\n",
        "    ))])\n",
        "\n",
        "fig_sankey.update_layout(\n",
        "    title_text = \"YouTube Viewer Flow and Engagement Paths\",\n",
        "    font_size = 12,\n",
        "    template = 'plotly_dark'\n",
        ")\n",
        "fig_sankey.show()\n"
      ]
    },
    {
      "cell_type": "markdown",
      "metadata": {
        "id": "hfE6Kmuiop9E"
      },
      "source": [
        "## 🎼🔗 Chord Diagram to Show Connection"
      ]
    },
    {
      "cell_type": "code",
      "execution_count": null,
      "metadata": {
        "colab": {
          "base_uri": "https://localhost:8080/",
          "height": 565
        },
        "id": "BBOQ5HAeCnyi",
        "outputId": "975b3cc1-0e34-460e-bfa2-915bafd70297"
      },
      "outputs": [],
      "source": [
        "import pandas as pd\n",
        "import matplotlib.pyplot as plt\n",
        "import numpy as np\n",
        "\n",
        "#Sample data\n",
        "data = {\n",
        "    'Category': ['Music', 'Gaming', 'Education'],\n",
        "    'Likes': [3000, 2000, 1500],\n",
        "    'Comments': [1200, 800, 700]\n",
        "}\n",
        "\n",
        "df = pd.DataFrame(data)\n",
        "\n",
        "num_vars = len(df)\n",
        "angles = np.linspace(0, 2 * np.pi, num_vars, endpoint=False).tolist()\n",
        "angles += angles[:1]\n",
        "\n",
        "#Values\n",
        "likes = df['Likes'].tolist()\n",
        "likes += likes[:1]\n",
        "comments = df['Comments'].tolist()\n",
        "comments += comments[:1]\n",
        "\n",
        "#Labels\n",
        "categories = df['Category'].tolist()\n",
        "categories += categories[:1]\n",
        "\n",
        "#Setup plot\n",
        "fig, ax = plt.subplots(figsize = (6, 6), subplot_kw = dict(polar = True))\n",
        "fig.patch.set_facecolor('black')\n",
        "ax.set_facecolor('#111111')\n",
        "\n",
        "#Plotting bars\n",
        "bars_likes = ax.bar(angles[:-1], likes[:-1], width = 0.3, color = '#636EFA', label = 'Likes', alpha = 0.8)\n",
        "bars_comments = ax.bar([a + 0.3 for a in angles[:-1]], comments[:-1], width  0.3, color = '#EF553B', label = 'Comments', alpha=0.8)\n",
        "\n",
        "#Setting category labels at angles\n",
        "ax.set_xticks(angles[:-1])\n",
        "ax.set_xticklabels(categories[:-1], color='white', fontsize=12)\n",
        "\n",
        "#Rotating each label outward\n",
        "for label, angle in zip(ax.get_xticklabels(), angles[:-1]):\n",
        "    angle_deg = np.degrees(angle)\n",
        "    if angle_deg >= 90 and angle_deg <= 270:\n",
        "        label.set_rotation(angle_deg + 180)\n",
        "        label.set_horizontalalignment('right')\n",
        "    else:\n",
        "        label.set_rotation(angle_deg)\n",
        "        label.set_horizontalalignment('left')\n",
        "\n",
        "#Removing radial labels\n",
        "ax.set_yticklabels([])\n",
        "\n",
        "#Style\n",
        "ax.grid(color = 'gray', linestyle = 'dotted', linewidth = 0.7)\n",
        "ax.spines['polar'].set_color('white')\n",
        "ax.set_title('Circular Engagement Chart', color = 'white', fontsize = 14, pad = 20)\n",
        "ax.legend(loc='upper right', bbox_to_anchor = (1.2, 1.1), facecolor =' black', edgecolor = 'white', labelcolor = 'white')\n",
        "\n",
        "plt.tight_layout()\n",
        "plt.show()\n"
      ]
    },
    {
      "cell_type": "markdown",
      "metadata": {
        "id": "lDFc1D_Fouvm"
      },
      "source": [
        "## ✨🌟 Highlight Specials  "
      ]
    },
    {
      "cell_type": "code",
      "execution_count": null,
      "metadata": {
        "colab": {
          "base_uri": "https://localhost:8080/",
          "height": 195
        },
        "id": "H4-5RGePEYW8",
        "outputId": "7eea5bc4-c246-44c2-ed38-12726356c913"
      },
      "outputs": [],
      "source": [
        "import pandas as pd\n",
        "\n",
        "highlight_data = {\n",
        "     'Title': ['Best Prank Ever', 'Emotional Reunion', 'Epic Fail Compilation'],\n",
        "    'Views': [12000000, 9400000, 8800000],\n",
        "    'Likes': [850000, 790000, 770000],\n",
        "    'Emotion': ['😂 Joy', '😭 Sadness', '🤯 Surprise'],\n",
        "    'Trending Date': ['2019-06-14', '2020-01-10', '2021-08-05'],\n",
        "    'Thumbnail': ['thumbs/prank.jpg', 'thumbs/reunion.jpg', 'thumbs/fail.jpg']\n",
        "\n",
        "}\n",
        "\n",
        "df_highlights = pd.DataFrame(highlight_data)\n",
        "df_highlights"
      ]
    },
    {
      "cell_type": "code",
      "execution_count": null,
      "metadata": {
        "colab": {
          "base_uri": "https://localhost:8080/",
          "height": 840
        },
        "id": "VMFwC8x2EsjY",
        "outputId": "dfe7d349-88a7-4bb5-b377-34696582d830"
      },
      "outputs": [],
      "source": [
        "from IPython.display import display, HTML\n",
        "\n",
        "df_highlights['Thumbnail'] = [\n",
        "  'https://images.unsplash.com/photo-1503023345310-bd7c1de61c7d?auto=format&fit=crop&w=400&q=80',\n",
        "  'https://images.unsplash.com/photo-1494790108377-be9c29b29330?auto=format&fit=crop&w=400&q=80',\n",
        "  'https://images.unsplash.com/photo-1511367461989-f85a21fda167?auto=format&fit=crop&w=400&q=80'\n",
        "]\n",
        "\n",
        "html_cards = \"\"\n",
        "\n",
        "for i, row in df_highlights.iterrows():\n",
        "  html_cards += f\"\"\"\n",
        "    <div style='\n",
        "        display: inline-block;\n",
        "        background-color: #1e1e1e;\n",
        "        color: white;\n",
        "        border-radius: 15px;\n",
        "        margin: 10px;\n",
        "        padding: 10px;\n",
        "        width: 250px;\n",
        "        font-family: Arial;\n",
        "        box-shadow: 0 0 15px #00ccff;\n",
        "        text-align: center;\n",
        "    '>\n",
        "        <img src='{row[\"Thumbnail\"]}' style='width: 100%; border-radius: 10px;'/>\n",
        "        <h3 style = 'margin: 10px 0 5px'>{row['Title']}</h3>\n",
        "        <p style='color: #66ccff; margin: 5px 0;'>{row[\"Trending Date\"]}</p>\n",
        "        <p style='margin: 5px 0;'>👁️ {row[\"Views\"]:,} | {row[\"Likes\"]:,}</p>\n",
        "        <p style='font-size: 18px;'>{row[\"Emotion\"]}</p>\n",
        "\n",
        "        </div>\n",
        "        \"\"\"\n",
        "\n",
        "display(HTML(f\"<div style='display: flex; flex-wrap: wrap;'>{html_cards}</div>\"))\n",
        "\n",
        "\n"
      ]
    },
    {
      "cell_type": "code",
      "execution_count": null,
      "metadata": {
        "colab": {
          "base_uri": "https://localhost:8080/",
          "height": 583
        },
        "id": "2MGnTaZ9I0a4",
        "outputId": "26ae7679-f20f-42e0-e5e6-6cc0ada45052"
      },
      "outputs": [],
      "source": [
        "from IPython.display import display, HTML\n",
        "\n",
        "#Sample data\n",
        "import pandas as pd\n",
        "df_highlights = pd.DataFrame({\n",
        "    'Title': ['Video 1', 'Video 2', 'Video 3'],\n",
        "    'Emotion': ['Joy', 'Love', 'Surprise'],\n",
        "    'Trending Date': ['2025-06-01', '2025-06-02', '2025-06-03'],\n",
        "    'Views': [10000, 20000, 15000],\n",
        "    'Likes': [500, 800, 600],\n",
        "    'Thumbnail': [\n",
        "    'https://images.unsplash.com/photo-1508214751196-bcfd4ca60f91?auto=format&fit=crop&w=500&q=80',\n",
        "    'https://images.unsplash.com/photo-1524504388940-b1c1722653e1?auto=format&fit=crop&w=500&q=80',\n",
        "    'https://images.unsplash.com/photo-1544005313-94ddf0286df2?auto=format&fit=crop&w=500&q=80'\n",
        "]\n",
        "\n",
        "})\n",
        "\n",
        "def get_emotion_color(emotion):\n",
        "    color_map = {\n",
        "        'Joy': '#FFD700',\n",
        "        'Love': '#FF69B4',\n",
        "        'Surprise': '#00FFFF',\n",
        "        'Anger': '#FF4500',\n",
        "        'Sadness': '#1E90FF',\n",
        "        'Fear': '#8A2BE2'\n",
        "    }\n",
        "    return color_map.get(emotion, '#CCCCCC')\n",
        "\n",
        "html_cards = \"\"\"\n",
        "<style>\n",
        ".card-container {\n",
        "    display: flex;\n",
        "    gap: 20px;\n",
        "    flex-wrap: wrap;\n",
        "}\n",
        ".card {\n",
        "    background: #222;\n",
        "    color: white;\n",
        "    border-radius: 10px;\n",
        "    padding: 10px;\n",
        "    width: 280px;\n",
        "    box-shadow: 0 0 10px #555;\n",
        "    position: relative;\n",
        "    transition: transform 0.3s ease;\n",
        "}\n",
        ".card:hover {\n",
        "    transform: scale(1.05);\n",
        "    box-shadow: 0 0 20px #fff;\n",
        "}\n",
        ".thumb {\n",
        "    width: 100%;\n",
        "    height: 160px;\n",
        "    object-fit: cover;\n",
        "    border-radius: 10px 10px 0 0;\n",
        "}\n",
        ".tooltip {\n",
        "    position: absolute;\n",
        "    top: 10px;\n",
        "    right: 10px;\n",
        "    background: rgba(255,255,255,0.2);\n",
        "    padding: 4px 8px;\n",
        "    font-size: 12px;\n",
        "    border-radius: 5px;\n",
        "    color: #eee;\n",
        "}\n",
        "</style>\n",
        "\n",
        "<div class=\"card-container\">\n",
        "\"\"\"\n",
        "\n",
        "for _, row in df_highlights.iterrows():\n",
        "    glow = get_emotion_color(row['Emotion'])\n",
        "    img_url = row.get('Thumbnail', 'https://img.youtube.com/vi/dQw4w9WgXcQ/hqdefault.jpg')\n",
        "    html_cards += f\"\"\"\n",
        "    <div class='card' style='box-shadow: 0 0 15px {glow};'>\n",
        "        <div class='tooltip'>Trending on {row['Trending Date']}</div>\n",
        "        <img src='{img_url}' class='thumb' />\n",
        "        <h3>{row['Title']}</h3>\n",
        "        <p style='color: {glow}; font-weight: bold;'>🎭 {row['Emotion']}</p>\n",
        "        <p>👁️ {row[\"Views\"]:,} | ❤️ {row[\"Likes\"]:,}</p>\n",
        "    </div>\n",
        "    \"\"\"\n",
        "\n",
        "html_cards += \"</div>\"\n",
        "\n",
        "display(HTML(html_cards))\n"
      ]
    },
    {
      "cell_type": "markdown",
      "metadata": {
        "id": "ESgKVad9LqOK"
      },
      "source": [
        "7. ***YouTube’s Untold Story: Visual Explorations of What Makes Content Win\n",
        "GIFs and short video clips to spice up visuals***"
      ]
    },
    {
      "cell_type": "markdown",
      "metadata": {
        "id": "mbm2hI_Q3oOI"
      },
      "source": [
        "\n",
        "## 📝✨ Informative Annotations for Clarity  "
      ]
    },
    {
      "cell_type": "code",
      "execution_count": null,
      "metadata": {
        "colab": {
          "base_uri": "https://localhost:8080/",
          "height": 542
        },
        "id": "rN3nEzjaMb7F",
        "outputId": "efc8cb2f-08bf-43ce-d91e-cb22117800fe"
      },
      "outputs": [],
      "source": [
        "import plotly.express as px\n",
        "import pandas as pd\n",
        "\n",
        "df = pd.DataFrame({\n",
        "    'x': [1, 2, 3, 4, 5],\n",
        "    'y': [10, 11, 12, 13, 14],\n",
        "    'label': ['A', 'B', 'C', 'D', 'E'],\n",
        "    'info': ['Info A', 'Info B', 'Info C', 'Info D', 'Info E']\n",
        "})\n",
        "\n",
        "fig = px.scatter(df, x = 'x', y = 'y', text = 'label', hover_name = 'label', hover_data = ['info'])\n",
        "\n",
        "#Dark mode background\n",
        "fig.update_layout(\n",
        "    plot_bgcolor = 'black',  #plot area\n",
        "    paper_bgcolor = 'black',\n",
        "    font=dict(color = 'white'),  #default text color\n",
        ")\n",
        "\n",
        "#Annotations styled for dark bg\n",
        "annotations = [\n",
        "    dict(\n",
        "        x = 3, y = 12,\n",
        "        xref = 'x', yref = 'y',\n",
        "        text = \"✨ Key Point C: This spike is interesting!\",\n",
        "        showarrow = True,\n",
        "        arrowhead = 3,\n",
        "        arrowsize = 2,\n",
        "        arrowwidth = 2,\n",
        "        arrowcolor = 'cyan',\n",
        "        bgcolor = '#222222',  #Dark grey bg\n",
        "        bordercolor = 'cyan',\n",
        "        borderwidth = 2,\n",
        "        borderpad = 4,\n",
        "        font = dict(size = 14, color = 'cyan'),\n",
        "        ax = 0,\n",
        "        ay = -60\n",
        "    ),\n",
        "    dict(\n",
        "        x = 5, y = 14,\n",
        "        xref = 'x', yref = 'y',\n",
        "        text = \"🔥 Peak at E\",\n",
        "        showarrow = True,\n",
        "        arrowhead = 2,\n",
        "        arrowsize = 1.5,\n",
        "        arrowwidth = 2,\n",
        "        arrowcolor = 'magenta',\n",
        "        bgcolor = '#222222',\n",
        "        bordercolor = 'magenta',\n",
        "        borderwidth = 1,\n",
        "        borderpad = 3,\n",
        "        font = dict(size=12, color = 'magenta'),\n",
        "        ax = 20,\n",
        "        ay = -40\n",
        "    )\n",
        "]\n",
        "\n",
        "fig.update_layout(annotations=annotations)\n",
        "fig.show()\n"
      ]
    },
    {
      "cell_type": "markdown",
      "metadata": {
        "id": "QOpKklIVpExd"
      },
      "source": [
        "## 🎨🔥 Stylish Highlights to Grab Attention  "
      ]
    },
    {
      "cell_type": "code",
      "execution_count": null,
      "metadata": {
        "colab": {
          "base_uri": "https://localhost:8080/",
          "height": 829
        },
        "id": "X1zagLU7N6Al",
        "outputId": "f77b10c7-fc75-49bc-ff75-107b9da6e85f"
      },
      "outputs": [],
      "source": [
        "from IPython.display import display, HTML\n",
        "import pandas as pd\n",
        "\n",
        "df_highlights = pd.DataFrame({\n",
        "    'Title': ['Video 1', 'Video 2', 'Video 3'],\n",
        "    'Emotion': ['Joy', 'Love', 'Surprise'],\n",
        "    'Trending Date': ['2025-06-01', '2025-06-02', '2025-06-03'],\n",
        "    'Views': [10000, 20000, 15000],\n",
        "    'Likes': [500, 800, 600],\n",
        "    'Thumbnail': [\n",
        "        'https://upload.wikimedia.org/wikipedia/commons/thumb/4/47/PNG_transparency_demonstration_1.png/300px-PNG_transparency_demonstration_1.png',\n",
        "        'https://upload.wikimedia.org/wikipedia/commons/thumb/4/47/PNG_transparency_demonstration_1.png/300px-PNG_transparency_demonstration_1.png',\n",
        "        'https://upload.wikimedia.org/wikipedia/commons/thumb/5/56/Donald_Trump_official_portrait.jpg/300px-Donald_Trump_official_portrait.jpg'\n",
        "\n",
        "\n",
        "\n",
        "\n",
        "    ]\n",
        "})\n",
        "\n",
        "html_cards = \"\"\n",
        "\n",
        "for _, row in df_highlights.iterrows():\n",
        "    html_cards += f\"\"\"\n",
        "    <div style='\n",
        "        display: inline-block;\n",
        "        background-color: #1e1e1e;\n",
        "        color: white;\n",
        "        border-radius: 15px;\n",
        "        margin: 10px;\n",
        "        padding: 10px;\n",
        "        width: 250px;\n",
        "        font-family: Arial;\n",
        "        box-shadow: 0 0 15px #00ccff;\n",
        "        text-align: center;\n",
        "    '>\n",
        "        <img src=\"{row['Thumbnail']}\" style='width: 100%; border-radius: 10px;'/>\n",
        "        <h3 style='margin: 10px 0 5px'>{row['Title']}</h3>\n",
        "        <p style='color: #66ccff; margin: 5px 0;'>{row['Trending Date']}</p>\n",
        "        <p style='margin: 5px 0;'>👁️ {row['Views']:,} | ❤️ {row['Likes']:,}</p>\n",
        "        <p style='font-size: 18px;'>{row['Emotion']}</p>\n",
        "    </div>\n",
        "    \"\"\"\n",
        "\n",
        "display(HTML(f\"<div style='display: flex; flex-wrap: wrap;'>{html_cards}</div>\"))\n"
      ]
    },
    {
      "cell_type": "markdown",
      "metadata": {
        "id": "q6f4wrMQpN8j"
      },
      "source": [
        "## 🤖🖼️ AI-Generated Image Labelling Magic"
      ]
    },
    {
      "cell_type": "code",
      "execution_count": null,
      "metadata": {
        "colab": {
          "base_uri": "https://localhost:8080/",
          "height": 1000
        },
        "id": "9w7PvYGGNGPh",
        "outputId": "9118ff4b-9d51-4fd2-c7b6-1b8134cc0a9f"
      },
      "outputs": [],
      "source": [
        "import base64\n",
        "\n",
        "image_path = \"viral_pulse.png\"\n",
        "\n",
        "#Reading the image and encoding it\n",
        "with open(image_path, \"rb\") as f:\n",
        "    image_bytes = f.read()\n",
        "encoded_image = base64.b64encode(image_bytes).decode()\n",
        "\n",
        "#Preparing the HTML with embedded image (base64)\n",
        "html = f\"\"\"\n",
        "<div style=\"\n",
        "    text-align: center;\n",
        "    margin: 30px auto;\n",
        "    background: linear-gradient(135deg, #1f0036, #2c003e);\n",
        "    padding: 25px;\n",
        "    border-radius: 20px;\n",
        "    box-shadow: 0 0 25px #ff00cc44;\n",
        "    max-width: 700px;\n",
        "\">\n",
        "  <img src=\"data:image/png;base64,{encoded_image}\" style=\"\n",
        "    max-width: 90%;\n",
        "    border-radius: 12px;\n",
        "    box-shadow: 0 0 20px #00ccff;\n",
        "  \"/>\n",
        "  <p style=\"\n",
        "    font-family: 'Trebuchet MS', sans-serif;\n",
        "    font-size: 20px;\n",
        "    color: #66ccff;\n",
        "    margin-top: 15px;\n",
        "  \">🚀 <b>Chapter Title:</b> YouTube’s Viral Pulse</p>\n",
        "  <p style=\"\n",
        "    color: #bbbbbb;\n",
        "    font-size: 16px;\n",
        "    margin: 5px;\n",
        "  \">✨ A Data-Driven Exploration of Content Power, Performance & Pulse.</p>\n",
        "</div>\n",
        "\"\"\"\n",
        "\n",
        "from IPython.display import display, HTML\n",
        "display(HTML(html))\n"
      ]
    },
    {
      "cell_type": "markdown",
      "metadata": {
        "id": "-1thh6CQ3brJ"
      },
      "source": [
        "## 🎥🌫️ Artistic Mini-Documentary with Smooth Fades  "
      ]
    },
    {
      "cell_type": "code",
      "execution_count": null,
      "metadata": {
        "colab": {
          "base_uri": "https://localhost:8080/"
        },
        "id": "SgKi9fkNc4uF",
        "outputId": "4fa3159b-f561-423f-815c-c9845b4ff385"
      },
      "outputs": [],
      "source": [
        "import numpy as np\n",
        "import matplotlib.pyplot as plt\n",
        "from matplotlib.backends.backend_agg import FigureCanvasAgg as FigureCanvas\n",
        "from moviepy.editor import VideoClip, AudioFileClip\n",
        "\n",
        "#setting up the animation duration and audio path\n",
        "animation_duration = 5  #Seconds\n",
        "audio_path = \"narration.mp3\"  #shall be saved\n",
        "\n",
        "#Defining the animated frame function\n",
        "def make_frame(t):\n",
        "    fig, ax = plt.subplots(figsize=(6, 4), dpi=100)\n",
        "\n",
        "    # --- Fade-in and fade-out setup ---\n",
        "    fade_duration = 1.0  #Seconds\n",
        "    if t < fade_duration:\n",
        "        fade_alpha = t / fade_duration\n",
        "    elif t > animation_duration - fade_duration:\n",
        "        fade_alpha = (animation_duration - t) / fade_duration\n",
        "    else:\n",
        "        fade_alpha = 1.0\n",
        "\n",
        "    # --- Animation growth ---\n",
        "    progress = min(t / animation_duration, 1)\n",
        "    value = progress * 100\n",
        "    pulse = 0.2 + 0.1 * np.sin(2 * np.pi * t)\n",
        "\n",
        "    # --- Glow Bar ---\n",
        "    ax.barh([''], [value + pulse], color = (1, 0, 0.8, 0.12 * fade_alpha), height = 0.8, zorder = 0)\n",
        "    ax.barh([''], [value], color = (1, 0, 0.8, fade_alpha), height = 0.6, zorder = 1)\n",
        "\n",
        "    # --- Label ---\n",
        "    ax.text(value + 2, 0, f\"{value:.1f}%\", va = 'center', ha = 'left',\n",
        "            fontsize = 14 + 3 * (1 - fade_alpha),  #Shrink text on fade\n",
        "            color = (1, 1, 1, fade_alpha), fontweight = 'bold')\n",
        "\n",
        "    # --- Title ---\n",
        "    ax.set_title(\"Viral Views Over Time\", fontsize = 16, color = (1, 1, 1, fade_alpha), pad = 20)\n",
        "\n",
        "    # --- Axes cleanup ---\n",
        "    ax.set_xlim(0, 110)\n",
        "    ax.set_ylim(-0.5, 0.5)\n",
        "    ax.set_yticks([])\n",
        "    ax.set_xticks([])\n",
        "    ax.set_facecolor((0.1, 0, 0.2, fade_alpha))     #Fade background\n",
        "    fig.patch.set_facecolor((0.1, 0, 0.2, fade_alpha))\n",
        "\n",
        "    for spine in ax.spines.values():\n",
        "        spine.set_visible(False)\n",
        "\n",
        "    # --- Render as image ---\n",
        "    canvas = FigureCanvas(fig)\n",
        "    canvas.draw()\n",
        "    buf, (w, h) = canvas.print_to_buffer()\n",
        "    image = np.frombuffer(buf, dtype=np.uint8).reshape((h, w, 4))\n",
        "    plt.close(fig)\n",
        "    return image[:, :, :3]\n",
        "\n",
        "\n",
        "    #Animating bar growth\n",
        "    progress = min(t / animation_duration, 1)\n",
        "    value = progress * 100\n",
        "\n",
        "    #Glow effect\n",
        "    pulse = 0.2 + 0.1 * np.sin(2 * np.pi * t)\n",
        "\n",
        "    #Drawing glow and bar\n",
        "    ax.barh([''], [value + pulse], color = (1, 0, 0.8, 0.15 * alpha), height = 0.8, zorder  = 0)\n",
        "    ax.barh([''], [value], color = (1, 0, 0.8, alpha), height  = 0.6, zorder = 1)\n",
        "\n",
        "    #Labels\n",
        "    ax.text(value + 2, 0, f\"{value:.1f}%\", va = 'center', ha = 'left',\n",
        "            fontsize = 14, color = (1, 1, 1, alpha), fontweight = 'bold')\n",
        "\n",
        "    #Title and cleanup\n",
        "    ax.set_title(\"🔥 Viral Views Over Time 🔥\", fontsize = 16, color = (1, 1, 1, alpha), pad = 20)\n",
        "    ax.set_xlim(0, 110)\n",
        "    ax.set_ylim(-0.5, 0.5)\n",
        "    ax.set_yticks([])\n",
        "    ax.set_xticks([])\n",
        "    ax.set_facecolor((0.1, 0, 0.2, alpha))\n",
        "    fig.patch.set_facecolor((0.1, 0, 0.2, alpha))\n",
        "    for spine in ax.spines.values():\n",
        "        spine.set_visible(False)\n",
        "\n",
        "    #Render to image\n",
        "    canvas = FigureCanvas(fig)\n",
        "    canvas.draw()\n",
        "    buf, (w, h) = canvas.print_to_buffer()\n",
        "    image = np.frombuffer(buf, dtype=np.uint8).reshape((h, w, 4))\n",
        "    plt.close(fig)\n",
        "\n",
        "    return image[:, :, :3]\n",
        "\n",
        "#Generating the video with audio\n",
        "animation = VideoClip(make_frame, duration=animation_duration)\n",
        "animation = animation.set_audio(AudioFileClip(audio_path))\n",
        "animation.write_videofile(\"mini_doc.mp4\", fps=24)\n"
      ]
    },
    {
      "cell_type": "code",
      "execution_count": null,
      "metadata": {
        "colab": {
          "base_uri": "https://localhost:8080/",
          "height": 421
        },
        "id": "kfgkLfQrdFnQ",
        "outputId": "a30e03c2-5faf-4e23-973a-8303349a4c03"
      },
      "outputs": [],
      "source": [
        "from IPython.display import Video\n",
        "Video(\"mini_doc.mp4\", embed=True)\n"
      ]
    },
    {
      "cell_type": "markdown",
      "metadata": {
        "id": "46PEkbWpqMVP"
      },
      "source": [
        "***A Little Bit of Summary since this project is officially over!***"
      ]
    },
    {
      "cell_type": "markdown",
      "metadata": {
        "id": "19u3SfydqJhN"
      },
      "source": [
        "Project Wrap-Up: Streaming Stories — YouTube & Netflix Deep Dive\n",
        "Wow, what a journey! This project took us through the fascinating world of YouTube and Netflix data — exploring what makes videos go viral, which shows dominate across countries, and how streaming trends change over time.\n",
        "\n",
        "What we uncovered:\n",
        "For YouTube, we dug into the most popular categories, tracked views and engagement, and even created a narrated mini documentary to bring the data to life.\n",
        "\n",
        "On the Netflix side, we analyzed release patterns, country-wise trends, and used cool animations and charts to tell the story visually.\n",
        "\n",
        "The goal? To turn raw numbers into stories that anyone can enjoy and understand — blending data with a little bit of art and creativity.\n",
        "\n",
        "Thanks so much for sticking with me through this project! 🙏 I hope you found it insightful and maybe even a little fun. If you have questions, ideas, or just want to chat about data, I’m always here.\n",
        "\n",
        "Here’s to many more data adventures ahead! 🚀✨"
      ]
    }
  ],
  "metadata": {
    "colab": {
      "provenance": []
    },
    "kernelspec": {
      "display_name": "Python 3",
      "name": "python3"
    },
    "language_info": {
      "name": "python"
    }
  },
  "nbformat": 4,
  "nbformat_minor": 0
}
