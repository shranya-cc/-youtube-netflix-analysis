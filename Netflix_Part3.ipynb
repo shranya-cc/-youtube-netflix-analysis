{
 "cells": [
  {
   "cell_type": "markdown",
   "metadata": {
    "id": "eoqroj2onVzb"
   },
   "source": [
    "Netflix And YouTube Analysis, Last Part <3"
   ]
  },
  {
   "cell_type": "markdown",
   "metadata": {
    "id": "0E1xOligoSmd"
   },
   "source": [
    "1. ***Netflix Content Universe: An Animated Dashboard Exploration***"
   ]
  },
  {
   "cell_type": "markdown",
   "metadata": {
    "id": "WPF0Oyorofyl"
   },
   "source": [
    "Uploading Datasets"
   ]
  },
  {
   "cell_type": "code",
   "execution_count": null,
   "metadata": {
    "colab": {
     "base_uri": "https://localhost:8080/",
     "height": 74
    },
    "id": "lH0j051zVeQ_",
    "outputId": "f9c757fa-b47d-42f5-e88b-eb252ad0c3a7"
   },
   "outputs": [],
   "source": [
    "from google.colab import files\n",
    "uploaded = files.upload()"
   ]
  },
  {
   "cell_type": "code",
   "execution_count": null,
   "metadata": {
    "colab": {
     "base_uri": "https://localhost:8080/",
     "height": 769
    },
    "id": "oQNfHwhGn3_5",
    "outputId": "34d9ca1b-2c66-46cc-d9c4-0eccd15cf8ed"
   },
   "outputs": [],
   "source": [
    "import pandas as pd\n",
    "\n",
    "netflix_df = pd.read_csv('netflix_titles.csv')\n",
    "\n",
    "print(f'Dataset Shape: {netflix_df.shape}')\n",
    "print('\\nColumns:\\n', netflix_df.columns)\n",
    "netflix_df.head()"
   ]
  },
  {
   "cell_type": "markdown",
   "metadata": {
    "id": "KxNMSvi1olbT"
   },
   "source": [
    "Basic Cleaning And KPI (Key Performance Indicator) Calculations"
   ]
  },
  {
   "cell_type": "code",
   "execution_count": null,
   "metadata": {
    "colab": {
     "base_uri": "https://localhost:8080/"
    },
    "id": "BssYVriRoPAJ",
    "outputId": "8336b797-f0f4-485a-fc42-2fb86ee66373"
   },
   "outputs": [],
   "source": [
    "import pandas as pd\n",
    "\n",
    "#Converting 'date_added' to datetime\n",
    "netflix_df['date_added'] = pd.to_datetime(netflix_df['date_added'], errors = 'coerce')\n",
    "\n",
    "\n",
    "#Extracting year and month added for time-based analysis\n",
    "netflix_df['year_added'] = netflix_df['date_added'].dt.year\n",
    "netflix_df['month_added'] = netflix_df['date_added'].dt.month\n",
    "\n",
    "#Cleaning duration column\n",
    "#Duration is like '90 min' for movies or '3 Seasons' for TV shows\n",
    "def extract_duration(val):\n",
    "  if pd.isna(val):\n",
    "    return None\n",
    "  if 'Season' in val:\n",
    "    return int(val.split()[0]) #number of seasons\n",
    "  else:\n",
    "      return int(val.split()[0]) #number of minutes\n",
    "\n",
    "netflix_df['duration_num'] = netflix_df['duration'].apply(extract_duration)\n",
    "\n",
    "#KPIs\n",
    "total_titles = netflix_df.shape[0]\n",
    "total_countries = netflix_df['country'].nunique()\n",
    "total_genres = netflix_df['listed_in'].nunique()\n",
    "total_types = netflix_df['type'].nunique()\n",
    "avg_movie_duration = netflix_df[netflix_df['type'] == 'Movie']['duration_num'].mean()\n",
    "avg_tv_seasons = netflix_df[netflix_df['type'] == 'TV Show']['duration_num'].mean()\n",
    "\n",
    "#Displaying KPI(Key Performance Indicator/s)\n",
    "\n",
    "print(f'Total Titles: {total_titles}')\n",
    "print(f'Unique Counties: {total_countries}')\n",
    "print(f'Unique Genres: {total_genres}')\n",
    "print(f'Unique Types: {total_types}')\n",
    "print(f'Average Movie Duration(min): {avg_movie_duration:.2f}')\n",
    "print(f'Average TV Show Seasons: {avg_tv_seasons:.2f}')"
   ]
  },
  {
   "cell_type": "markdown",
   "metadata": {
    "id": "3VIeM8qdxAli"
   },
   "source": [
    "Creating KPI cards with Plotly"
   ]
  },
  {
   "cell_type": "code",
   "execution_count": null,
   "metadata": {
    "colab": {
     "base_uri": "https://localhost:8080/",
     "height": 417
    },
    "id": "dtX0ZW6jsW0r",
    "outputId": "e8f6d97f-23bf-4971-e63f-613b0a9b3491"
   },
   "outputs": [],
   "source": [
    "import plotly.graph_objects as go\n",
    "from plotly.subplots import make_subplots\n",
    "\n",
    "#Creating subplots with 3 columns to place KPI cards side by side\n",
    "fig = make_subplots(\n",
    "    rows = 2, cols = 3,\n",
    "    specs = [[{'type':'indicator'}, {'type':'indicator'}, {'type':'indicator'}],\n",
    "             [{'type':'indicator'}, {'type':'indicator'}, None]],\n",
    "    subplot_titles = ('Total Titles', 'Unique Countries', 'Unique Genres',\n",
    "                      'Content Types', 'Average Movie Duration (min)')\n",
    "\n",
    ")\n",
    "#Total Titles\n",
    "fig.add_trace(go.Indicator(\n",
    "    mode = 'number',\n",
    "    value = total_titles,\n",
    "    title = {'text': 'Total Titles'},\n",
    "    number = {'font': {'size': 30, 'color': 'darkblue'}}\n",
    "), row = 1, col = 1)\n",
    "\n",
    "#Unique Countries\n",
    "fig.add_trace(go.Indicator(\n",
    "    mode = 'number',\n",
    "    value = total_countries,\n",
    "    title = {'text': 'Unique Coutries'},\n",
    "    number = {'font': {'size': 30, 'color': 'darkgreen'}}\n",
    "), row = 1, col = 2)\n",
    "\n",
    "#Unique Genres\n",
    "fig.add_trace(go.Indicator(\n",
    "    mode = 'number',\n",
    "    value = total_genres,\n",
    "    title = {'text': 'Total Genres'},\n",
    "    number = {'font': {'size': 30, 'color': 'darkred'}}\n",
    "), row = 1, col = 3)\n",
    "\n",
    "#Content Types\n",
    "fig.add_trace(go.Indicator(\n",
    "    mode = 'number',\n",
    "    value = total_types,\n",
    "    title = {'text': 'Content Type'},\n",
    "    number = {'font': {'size': 30, 'color': 'purple'}}\n",
    "), row = 2, col = 1)\n",
    "\n",
    "#Average Movie Duration\n",
    "fig.add_trace(go.Indicator(\n",
    "    mode = 'number',\n",
    "    value = round(avg_movie_duration, 2),\n",
    "    title = {'text': 'Avg Movie Duration (min)'},\n",
    "    number = {'font': {'size': 30, 'color': 'darkorange'}}\n",
    "), row = 2, col = 2)\n",
    "\n",
    "fig.update_layout(\n",
    "    height = 400,\n",
    "    showlegend = False,\n",
    "    margin = dict(t = 50, b = 50, l = 50, r = 50),\n",
    "    title_text = 'Netflix Key Performance Indicator (KPI) Overview',\n",
    "    title_x = 0.5\n",
    "\n",
    ")\n",
    "\n",
    "fig.show()\n"
   ]
  },
  {
   "cell_type": "markdown",
   "metadata": {
    "id": "JjocbjUOFYyU"
   },
   "source": [
    "Added the Bar Chart Race"
   ]
  },
  {
   "cell_type": "code",
   "execution_count": null,
   "metadata": {
    "colab": {
     "base_uri": "https://localhost:8080/"
    },
    "id": "ktyg1IxxB4Z1",
    "outputId": "ff1e464c-5505-4da5-bd9a-cc0e17834691"
   },
   "outputs": [],
   "source": [
    "import pandas as pd\n",
    "import plotly.express as px\n",
    "\n",
    "#Filtering only valid year entries\n",
    "df = netflix_df.dropna(subset = ['date_added', 'listed_in']).copy()\n",
    "\n",
    "#Extracting year from 'date_added'\n",
    "df['year_added'] = pd.to_datetime(df['date_added']).dt.year\n",
    "\n",
    "#Creating 'genre_list by splitting 'listed_in'\n",
    "df['genre_list'] = df['listed_in'].apply(lambda x: [i.strip() for i in x.split(',')])\n",
    "\n",
    "#Extracting the first genre only to simply race\n",
    "df['primary_genre'] = df['genre_list'].apply(lambda x: x[0] if isinstance(x, list) and len(x) > 0 else 'Unknown')\n",
    "\n",
    "#Counting how many titles per genre per year\n",
    "genre_yearly = df.groupby(['year_added','primary_genre']).size().reset_index(name = 'count')\n",
    "\n",
    "#Sorting for better chart clarity\n",
    "genre_yearly = genre_yearly.sort_values(by = 'year_added')\n",
    "\n",
    "#Preview\n",
    "print(genre_yearly.head())"
   ]
  },
  {
   "cell_type": "code",
   "execution_count": null,
   "metadata": {
    "colab": {
     "base_uri": "https://localhost:8080/",
     "height": 617
    },
    "id": "Z3MAFrmMJxmZ",
    "outputId": "a65ca1a8-0b77-4cb1-f518-7aa3fc410f93"
   },
   "outputs": [],
   "source": [
    "import plotly.express as px\n",
    "\n",
    "fig_bar = px.bar(\n",
    "    genre_yearly,\n",
    "    x = 'count',\n",
    "    y = 'primary_genre',\n",
    "    color = 'primary_genre',\n",
    "    orientation = 'h',\n",
    "    animation_frame = 'year_added',\n",
    "    range_x = [0, genre_yearly['count'].max() + 50],\n",
    "    title = 'Netflix Genre Evolution (Bar Chart Race)',\n",
    "    labels = {'primary_genre': 'Genre', 'count': 'Number of Titles'},\n",
    "    template = 'plotly_dark',\n",
    "    height = 600\n",
    ")\n",
    "\n",
    "fig_bar.update_layout(showlegend = False)\n",
    "fig_bar.show()\n"
   ]
  },
  {
   "cell_type": "markdown",
   "metadata": {
    "id": "iMmU2dezNd5A"
   },
   "source": [
    "Dashboard Creation"
   ]
  },
  {
   "cell_type": "code",
   "execution_count": null,
   "metadata": {
    "colab": {
     "base_uri": "https://localhost:8080/",
     "height": 317
    },
    "id": "fBE2GxVDQqnI",
    "outputId": "bd536d62-f781-4fd1-d9e2-1cd67ed94ef4"
   },
   "outputs": [],
   "source": [
    "import plotly.graph_objects as go\n",
    "\n",
    "#Grouping data\n",
    "titles_per_year = df.groupby('year_added').size().reset_index(name='total_titles')\n",
    "\n",
    "#Creating initial trace (first year)\n",
    "initial_trace = go.Indicator(\n",
    "    mode = \"number+delta\",\n",
    "    value = titles_per_year['total_titles'].iloc[0],\n",
    "    delta = {'reference': 0, 'relative': True, 'position': \"right\",\n",
    "           'increasing': {'color': 'green'}, 'decreasing': {'color': 'red'}},\n",
    "    title = {\"text\": f\"<b>Total Titles Released</b><br><span style='font-size:16px;color:gray'>Year: {titles_per_year['year_added'].iloc[0]}</span>\"},\n",
    "    number = {'font': {'size': 70, 'color': 'white'}},\n",
    "    domain = {'x': [0, 1], 'y': [0, 1]}\n",
    ")\n",
    "\n",
    "#Creating frames\n",
    "frames = []\n",
    "for i in range(1, len(titles_per_year)):\n",
    "    year = titles_per_year['year_added'].iloc[i]\n",
    "    count = titles_per_year['total_titles'].iloc[i]\n",
    "    ref = titles_per_year['total_titles'].iloc[i - 1]\n",
    "\n",
    "    frame = go.Frame(\n",
    "        data = [go.Indicator(\n",
    "            mode = \"number+delta\",\n",
    "            value = count,\n",
    "            delta = {'reference': ref, 'relative': True, 'position': \"right\",\n",
    "                   'increasing': {'color': 'green'}, 'decreasing': {'color': 'red'}},\n",
    "            title = {\"text\": f\"<b>Total Titles Released</b><br><span style='font-size:16px;color:gray'>Year: {year}</span>\"},\n",
    "            number = {'font': {'size': 70, 'color': 'white'}},\n",
    "            domain = {'x': [0, 1], 'y': [0, 1]}\n",
    "        )],\n",
    "        name = str(year)\n",
    "    )\n",
    "    frames.append(frame)\n",
    "\n",
    "#Steps for slider\n",
    "steps = []\n",
    "for i, year in enumerate(titles_per_year['year_added']):\n",
    "    steps.append(dict(\n",
    "        method = \"animate\",\n",
    "        args = [[str(year)],\n",
    "              {\"frame\": {\"duration\": 1000, \"redraw\": True},\n",
    "               \"mode\": \"immediate\"}],\n",
    "        label = str(year)\n",
    "    ))\n",
    "\n",
    "#Now constructing the figure\n",
    "kpi_fig = go.Figure(\n",
    "    data = [initial_trace],\n",
    "    frames = frames,\n",
    "    layout = go.Layout(\n",
    "        template = 'plotly_dark',\n",
    "        height = 300,\n",
    "        margin = dict(t = 100, b = 0, l = 0, r = 0),\n",
    "        updatemenus =[dict(\n",
    "            type =\"buttons\",\n",
    "            showactive =False,\n",
    "            buttons =[\n",
    "                dict(label= \"Play\",\n",
    "                     method = \"animate\",\n",
    "                     args = [None, {\"frame\": {\"duration\": 1000, \"redraw\": True},\n",
    "                                  \"fromcurrent\": True, \"transition\": {\"duration\": 300}}]),\n",
    "                dict(label = \"Pause\",\n",
    "                     method = \"animate\",\n",
    "                     args = [[None], {\"frame\": {\"duration\": 0, \"redraw\": False},\n",
    "                                    \"mode\": \"immediate\",\n",
    "                                    \"transition\": {\"duration\": 0}}])\n",
    "            ],\n",
    "            direction = \"left\",\n",
    "            pad = {\"r\": 10, \"t\": 70},\n",
    "            x = 0.1,\n",
    "            y = 0,\n",
    "            xanchor = \"right\",\n",
    "            yanchor = \"top\"\n",
    "        )],\n",
    "        sliders = [dict(\n",
    "            active = 0,\n",
    "            currentvalue = {\"prefix\": \"Year: \", \"font\": {\"size\": 20}},\n",
    "            pad = {\"t\": 50},\n",
    "            steps = steps,\n",
    "            x = 0.1,\n",
    "            y = 0,\n",
    "            len = 0.8,\n",
    "            font = {\"size\": 16}\n",
    "        )]\n",
    "    )\n",
    ")\n",
    "\n",
    "kpi_fig.show()\n"
   ]
  },
  {
   "cell_type": "markdown",
   "metadata": {
    "id": "V9J4hyuTOwen"
   },
   "source": [
    "*Adding Insights*"
   ]
  },
  {
   "cell_type": "markdown",
   "metadata": {
    "id": "z0hezB2gxy8t"
   },
   "source": [
    "Over the years, Netflix’s content universe has evolved from predominantly U.S.-centric productions to a globally diverse portfolio. With a significant increase in content originating from countries like South Korea, India, Spain, and Germany, Netflix is clearly investing in regionally tailored stories. This strategic expansion not only caters to local audiences but also fuels global hits (e.g., Squid Game, Money Heist), showcasing Netflix’s ability to universalize regional narratives. The genre mix is also broadening—with documentaries, anime, reality shows, and international dramas contributing to a richer, more inclusive content landscape."
   ]
  },
  {
   "cell_type": "markdown",
   "metadata": {
    "id": "FJ4x6xHORWy2"
   },
   "source": [
    "2. ***Inside Netflix :- A Deep Dive Through Animated Dashboards and Genre Dynamics***"
   ]
  },
  {
   "cell_type": "code",
   "execution_count": null,
   "metadata": {
    "colab": {
     "base_uri": "https://localhost:8080/"
    },
    "id": "UP1yx-tcbnJj",
    "outputId": "e1176806-2dba-4d43-9a2c-f14d687797e2"
   },
   "outputs": [],
   "source": [
    "print(netflix_df.columns)\n"
   ]
  },
  {
   "cell_type": "markdown",
   "metadata": {
    "id": "r1F3zKQuB9n8"
   },
   "source": [
    "Animated the chart"
   ]
  },
  {
   "cell_type": "code",
   "execution_count": null,
   "metadata": {
    "colab": {
     "base_uri": "https://localhost:8080/",
     "height": 637
    },
    "id": "aaxZhMhkvytZ",
    "outputId": "ccb94a69-674a-46b4-dd5b-2c38797c512e"
   },
   "outputs": [],
   "source": [
    "import pandas as pd\n",
    "import plotly.graph_objects as go\n",
    "import plotly.express as px\n",
    "\n",
    "# Copy and prepare data (adjust column names if different)\n",
    "df = netflix_df.copy()\n",
    "\n",
    "# Convert 'listed_in' string to list of genres\n",
    "df['genre_list'] = df['listed_in'].str.split(', ')\n",
    "\n",
    "# Ensure 'year_added' is numeric (extract year if datetime)\n",
    "if not pd.api.types.is_numeric_dtype(df['year_added']):\n",
    "    df['year_added'] = pd.to_datetime(df['year_added'], errors='coerce').dt.year\n",
    "\n",
    "# Drop rows missing critical data\n",
    "df = df.dropna(subset=['year_added', 'genre_list'])\n",
    "\n",
    "# Extract first genre only for simplicity\n",
    "df['primary_genre'] = df['genre_list'].apply(lambda x: x[0] if isinstance(x, list) and len(x) > 0 else 'Unknown')\n",
    "\n",
    "# Group by year and genre to count titles\n",
    "data = df.groupby(['year_added', 'primary_genre']).size().reset_index(name='count')\n",
    "\n",
    "# Get sorted unique years and genres\n",
    "years = sorted(data['year_added'].unique())\n",
    "genres = sorted(data['primary_genre'].unique())\n",
    "\n",
    "# Create a color palette for genres\n",
    "color_map = px.colors.qualitative.Set2\n",
    "colors = {genre: color_map[i % len(color_map)] for i, genre in enumerate(genres)}\n",
    "\n",
    "# Create initial traces for the first year\n",
    "initial_year = years[0]\n",
    "fig = go.Figure()\n",
    "\n",
    "for genre in genres:\n",
    "    y_vals = data[(data['primary_genre'] == genre) & (data['year_added'] == initial_year)]['count']\n",
    "    y = y_vals.values[0] if not y_vals.empty else 0\n",
    "    fig.add_trace(go.Scatter(\n",
    "        x = [initial_year],\n",
    "        y = [y],\n",
    "        mode = 'lines+markers',\n",
    "        name = genre,\n",
    "        line = dict(color = colors[genre], width = 3),\n",
    "        marker = dict(size=6)\n",
    "    ))\n",
    "\n",
    "# Create animation frames for each year\n",
    "frames = []\n",
    "for year in years:\n",
    "    frame_data = []\n",
    "    for genre in genres:\n",
    "        y_vals = data[(data['primary_genre'] == genre) & (data['year_added'] == year)]['count']\n",
    "        y = y_vals.values[0] if not y_vals.empty else 0\n",
    "        frame_data.append(go.Scatter(\n",
    "            x = [year],\n",
    "            y = [y],\n",
    "            mode = 'lines+markers',\n",
    "            line = dict(color = colors[genre], width = 3),\n",
    "            marker = dict(size = 6)\n",
    "        ))\n",
    "    frames.append(go.Frame(data = frame_data, name = str(year)))\n",
    "\n",
    "fig.frames = frames\n",
    "\n",
    "# Update layout with dark theme and better spacing for buttons\n",
    "fig.update_layout(\n",
    "    title = dict(text = 'Netflix Genre Trends Over the Years', font = dict(color = 'white')),\n",
    "    width = 1100,\n",
    "    height = 600,\n",
    "    paper_bgcolor = '#111111',\n",
    "    plot_bgcolor = '#222222',\n",
    "    xaxis = dict(\n",
    "        title = 'Year',\n",
    "        titlefont = dict(color = 'white'),\n",
    "        tickfont = dict(color = 'lightgray'),\n",
    "        linecolor = 'lightgray',\n",
    "        gridcolor = 'gray',\n",
    "        range = [min(years), max(years)],\n",
    "        dtick = 2,\n",
    "        tickangle = 45,\n",
    "        tickvals = years[::2],\n",
    "        ticktext = [str(y)[-2:] for y in years[::2]],\n",
    "    ),\n",
    "    yaxis = dict(\n",
    "        title = 'Number of Titles',\n",
    "        titlefont = dict(color = 'white'),\n",
    "        tickfont = dict(color = 'lightgray'),\n",
    "        linecolor = 'lightgray',\n",
    "        gridcolor = 'gray',\n",
    "        range = [0, data['count'].max() + 10]\n",
    "    ),\n",
    "    legend = dict(font = dict(color = 'white')),\n",
    "    updatemenus = [dict(\n",
    "        type = 'buttons',\n",
    "        showactive = False,\n",
    "        y = 1.05,          # moved buttons down so no overlap with title\n",
    "        x = 0.1,\n",
    "        xanchor = 'left',\n",
    "        yanchor = 'top',\n",
    "        buttons = [\n",
    "            dict(label = 'Play',\n",
    "                 method = 'animate',\n",
    "                 args = [None, dict(frame = dict(duration = 700, redraw = True), fromcurrent = True)]),\n",
    "            dict(label = 'Pause',\n",
    "                 method = 'animate',\n",
    "                 args = [[None], dict(frame = dict(duration = 0, redraw = False), mode = 'immediate')])\n",
    "        ]\n",
    "    )]\n",
    ")\n",
    "\n",
    "# Add slider for better control\n",
    "sliders = [dict(\n",
    "    active = 0,\n",
    "    y = -0.1,\n",
    "    x = 0.1,\n",
    "    len = 0.9,\n",
    "    currentvalue = dict(font = dict(color = 'white'), prefix = 'Year: ', visible = True, xanchor = 'right'),\n",
    "    steps=[dict(method = 'animate',\n",
    "                args = [[str(year)], dict(mode = 'immediate', frame = dict(duration = 700, redraw = True), transition = dict(duration = 300))],\n",
    "                label = str(year)) for year in years]\n",
    ")]\n",
    "\n",
    "fig.update_layout(sliders=sliders)\n",
    "\n",
    "fig.show()\n"
   ]
  },
  {
   "cell_type": "markdown",
   "metadata": {
    "id": "P9JsHYaWCCyM"
   },
   "source": [
    "Created the dashboard"
   ]
  },
  {
   "cell_type": "code",
   "execution_count": null,
   "metadata": {
    "colab": {
     "base_uri": "https://localhost:8080/",
     "height": 517
    },
    "id": "28uKV68ZBy1R",
    "outputId": "8b7a5bcd-9fbe-4135-f1f0-03178feab21f"
   },
   "outputs": [],
   "source": [
    "import pandas as pd\n",
    "import plotly.express as px\n",
    "\n",
    "# Sample Netflix-like genre-year data (replace this with your real data)\n",
    "data = {\n",
    "    'year_added': [2020, 2020, 2021, 2021, 2022, 2022, 2023, 2023],\n",
    "    'genre': ['Drama', 'Comedy', 'Drama', 'Comedy', 'Drama', 'Comedy', 'Drama', 'Comedy'],\n",
    "    'count': [100, 80, 120, 90, 130, 95, 125, 85]\n",
    "}\n",
    "\n",
    "df = pd.DataFrame(data)\n",
    "\n",
    "fig = px.bar(df,\n",
    "             x = 'count',\n",
    "             y = 'genre',\n",
    "             color = 'genre',\n",
    "             animation_frame = 'year_added',\n",
    "             orientation = 'h',\n",
    "             title = 'Animated Netflix Genre Trends Over Years',\n",
    "             color_discrete_sequence = px.colors.qualitative.Set2)\n",
    "\n",
    "fig.update_layout(\n",
    "    xaxis_title = 'Number of Titles',\n",
    "    yaxis_title = 'Genre',\n",
    "    paper_bgcolor = '#111',\n",
    "    plot_bgcolor = '#222',\n",
    "    font = dict(color = 'white'),\n",
    "    height = 500,\n",
    "    transition = {'duration': 800}\n",
    ")\n",
    "\n",
    "fig.show()\n"
   ]
  },
  {
   "cell_type": "markdown",
   "metadata": {
    "id": "O82Hp9fGxJRJ"
   },
   "source": [
    "*Adding insights*"
   ]
  },
  {
   "cell_type": "markdown",
   "metadata": {
    "id": "VEliVMF-xTK4"
   },
   "source": [
    "1. Dominance of Drama Genre\n",
    "The Drama genre consistently stays at the top across all years.\n",
    "\n",
    "This indicates that Netflix heavily invests in emotionally engaging and storyline-rich content, likely due to strong viewer retention and critical acclaim.\n",
    "\n",
    "2. Steady Popularity of Comedy\n",
    "Comedy maintains a stable position, often ranking second.\n",
    "\n",
    "Lighter genres like comedy continue to attract global audiences, especially during times of stress (e.g., post-2020 pandemic surge in demand).\n",
    "\n",
    "3. Narrowing Gap Between Top Genres\n",
    "The gap between Drama and other genres slightly reduces after 2021, suggesting Netflix is trying to diversify its content portfolio.\n",
    "\n",
    "Genres like Thriller, Action, and Romance begin to show consistent growth patterns.\n",
    "\n",
    "4. Rise and Fall Patterns\n",
    "Some genres see spikes in certain years — possibly tied to global events or successful titles (e.g., Korean drama boom post Squid Game).\n",
    "\n",
    "You can observe how quickly viewer interests shift over just a couple of years.\n",
    "\n",
    "5. Platform Strategy Reflection\n",
    "Netflix’s strategic push to localize content is visible — lesser-known genres see small surges, which could reflect regional content (e.g., documentaries, anime, reality TV).\n",
    "\n",
    "The animation reveals the global experimentation and risk-taking nature of Netflix's content strategy.\n",
    "\n"
   ]
  },
  {
   "cell_type": "markdown",
   "metadata": {
    "id": "Df0JtDnnyoDZ"
   },
   "source": [
    "3. ***Visualizing Netflix: A Story of Global Content, Genres, and Trends***"
   ]
  },
  {
   "cell_type": "markdown",
   "metadata": {
    "id": "96hscgz8VeOK"
   },
   "source": [
    "*Creating the chart*"
   ]
  },
  {
   "cell_type": "code",
   "execution_count": null,
   "metadata": {
    "colab": {
     "base_uri": "https://localhost:8080/",
     "height": 74
    },
    "id": "ZdPVMJO16h8a",
    "outputId": "b5a5a2cb-c738-42d5-b194-24530c5f10f3"
   },
   "outputs": [],
   "source": [
    "from google.colab import files\n",
    "uploaded = files.upload()"
   ]
  },
  {
   "cell_type": "code",
   "execution_count": null,
   "metadata": {
    "colab": {
     "base_uri": "https://localhost:8080/",
     "height": 660
    },
    "id": "rI7_yKP97wtK",
    "outputId": "5966621d-6e4e-41e6-a80a-813805276be5"
   },
   "outputs": [],
   "source": [
    "import pandas as pd\n",
    "\n",
    "# Replace with your actual file path\n",
    "netflix_df = pd.read_csv('netflix_titles.csv')\n",
    "\n",
    "# Preview to confirm it's loaded correctly\n",
    "netflix_df.head()\n"
   ]
  },
  {
   "cell_type": "code",
   "execution_count": null,
   "metadata": {
    "id": "1___U1mz6zC4"
   },
   "outputs": [],
   "source": [
    "import pandas as pd\n",
    "\n",
    "netflix_df['release_year'] = pd.to_datetime(netflix_df['date_added'].str.strip(), errors = 'coerce')\n",
    "\n",
    "netflix_df['genre'] = netflix_df['listed_in'].str.split(',')\n",
    "netflix_exploded = netflix_df.explode('genre')\n",
    "\n",
    "genre_trend = netflix_exploded.groupby(['release_year', 'genre']).size().reset_index(name='count')\n",
    "\n",
    "stream_df = genre_trend.pivot(index = 'release_year', columns = 'genre', values = 'count').fillna(0)"
   ]
  },
  {
   "cell_type": "code",
   "execution_count": null,
   "metadata": {
    "colab": {
     "base_uri": "https://localhost:8080/",
     "height": 617
    },
    "id": "AfXJsxyn8X2n",
    "outputId": "e0b7f036-7004-4962-d22b-c34301923674"
   },
   "outputs": [],
   "source": [
    "import plotly.graph_objects as go\n",
    "\n",
    "fig = go.Figure()\n",
    "\n",
    "base = [0] * len(stream_df)\n",
    "\n",
    "for genre in stream_df.columns:\n",
    "   fig.add_trace(go.Scatter(\n",
    "       x = stream_df.index,\n",
    "       y = base,\n",
    "       mode = 'lines',\n",
    "       line = dict(width = 0),\n",
    "       showlegend = False\n",
    "   ))\n",
    "\n",
    "   fig.add_trace(go.Scatter(\n",
    "       x = stream_df.index,\n",
    "       y = base + stream_df[genre].values,\n",
    "       mode = 'lines',\n",
    "       line = dict(width = 0.5),\n",
    "       fill = 'tonexty',\n",
    "       name = genre\n",
    "   ))\n",
    "\n",
    "   base += stream_df[genre].values\n",
    "\n",
    "\n",
    "   fig.update_layout(\n",
    "      title = 'Netflix Genre Stream Over Time',\n",
    "      xaxis_title = 'Year',\n",
    "      yaxis_title = 'Number of Titles',\n",
    "      template = 'plotly_dark',\n",
    "      showlegend = True,\n",
    "      height = 600\n",
    "  )\n",
    "\n",
    "fig.show()"
   ]
  },
  {
   "cell_type": "markdown",
   "metadata": {
    "id": "a2aH3LXXVlgo"
   },
   "source": [
    "*Animating the chart*"
   ]
  },
  {
   "cell_type": "code",
   "execution_count": null,
   "metadata": {
    "colab": {
     "background_save": true
    },
    "id": "TcGS03BmE7k8",
    "outputId": "37eb0ae4-c3e7-4c7c-85f4-62a5a4374932"
   },
   "outputs": [],
   "source": [
    "import plotly.graph_objects as go\n",
    "\n",
    "#Filtering the top 3 genres\n",
    "top_genres = stream_df.sum().sort_values(ascending = False).head(3).index\n",
    "stream_df_top = stream_df[top_genres]\n",
    "stream_df_reset = stream_df_top.reset_index()\n",
    "\n",
    "#Creating the frames\n",
    "frames = []\n",
    "for i in range(1, len(stream_df_reset), 3):  #frames are being limited for clarity\n",
    "    frame = go.Frame(\n",
    "        data=[\n",
    "            go.Scatter(\n",
    "                x = stream_df_reset['release_year'][:i+1],\n",
    "                y = stream_df_reset[genre][:i+1],\n",
    "                mode = 'lines',\n",
    "                stackgroup = 'one'\n",
    "            )\n",
    "            for genre in top_genres\n",
    "        ],\n",
    "        name = str(stream_df_reset['release_year'][i])\n",
    "    )\n",
    "    frames.append(frame)\n",
    "\n",
    "#Creating the initial figure\n",
    "fig = go.Figure(\n",
    "    data=[\n",
    "        go.Scatter(\n",
    "            x = stream_df_reset['release_year'],\n",
    "            y = stream_df_reset[genre],\n",
    "            mode = 'lines',\n",
    "            stackgroup = 'one',\n",
    "            name = genre\n",
    "        )\n",
    "        for genre in top_genres\n",
    "    ],\n",
    "    frames = frames\n",
    ")\n",
    "\n",
    "#Updated about pause, play and silder\n",
    "fig.update_layout(\n",
    "    title = 'Netflix Genre Growth Over Time (Top 3 Genres)',\n",
    "    xaxis_title = 'Year',\n",
    "    yaxis_title = 'Number of Titles',\n",
    "    template = 'plotly_dark',\n",
    "    updatemenus = [dict(\n",
    "        type = 'buttons',\n",
    "        showactive = True,\n",
    "        buttons = [\n",
    "            dict(\n",
    "                label = Play',\n",
    "                method = 'animate',\n",
    "                args = [None, dict(frame = dict(duration = 500, redraw = True), fromcurrent = True, mode = 'immediate')]\n",
    "            ),\n",
    "            dict(\n",
    "                label = 'Pause',\n",
    "                method = 'animate',\n",
    "                args = [[None], dict(frame = dict(duration = 0, redraw = False), mode = 'immediate')]\n",
    "            )\n",
    "        ],\n",
    "        direction = 'left',\n",
    "        pad = {'r': 10, 't': 10},\n",
    "        x = 0.1,\n",
    "        y = 1.1\n",
    "    )],\n",
    "    sliders = [dict(\n",
    "        steps = [dict(method = 'animate', args = [[f.name]], label = f.name) for f in frames],\n",
    "        transition = dict(duration = 0),\n",
    "        x = 0, y = 0,\n",
    "        currentvalue = dict(prefix = \"Year: \")\n",
    "    )]\n",
    ")\n",
    "\n",
    "fig.show()\n"
   ]
  },
  {
   "cell_type": "markdown",
   "metadata": {
    "id": "ryBHa08bUy1h"
   },
   "source": [
    "*Adding Dashboard*"
   ]
  },
  {
   "cell_type": "code",
   "execution_count": null,
   "metadata": {
    "colab": {
     "base_uri": "https://localhost:8080/",
     "height": 74
    },
    "id": "vvxOo1rqH-nq",
    "outputId": "9a707bb3-a5d4-4985-874e-12228a70e9b0"
   },
   "outputs": [],
   "source": [
    "from google.colab import files\n",
    "uploaded = files.upload()"
   ]
  },
  {
   "cell_type": "code",
   "execution_count": null,
   "metadata": {
    "id": "2kzSspehridn"
   },
   "outputs": [],
   "source": [
    "import pandas as pd\n",
    "\n",
    "netflix_df = pd.read_csv('netflix_titles.csv')"
   ]
  },
  {
   "cell_type": "code",
   "execution_count": null,
   "metadata": {
    "colab": {
     "base_uri": "https://localhost:8080/",
     "height": 542
    },
    "id": "wIi7BFkySg3_",
    "outputId": "1dbf2de7-4e6b-4068-f9d4-1809e85d15b9"
   },
   "outputs": [],
   "source": [
    "import plotly.graph_objects as go\n",
    "import pandas as pd\n",
    "\n",
    "#sample data\n",
    "years = [2015, 2016, 2017, 2018, 2019]\n",
    "data = {\n",
    "    'Drama': [10, 15, 20, 25, 30],\n",
    "    'Comedy': [5, 10, 15, 10, 5],\n",
    "    'Action': [2, 4, 6, 8, 10]\n",
    "}\n",
    "df = pd.DataFrame(data, index=years)\n",
    "top_genres = df.columns.tolist()\n",
    "\n",
    "#Intial Data\n",
    "initial_data = [\n",
    "    go.Scatter(\n",
    "        x = [years[0]],\n",
    "        y = [df.loc[years[0], genre]],\n",
    "        mode = 'lines',\n",
    "        stackgroup = 'one',\n",
    "        name = genre\n",
    "    ) for genre in top_genres\n",
    "]\n",
    "\n",
    "#Frames are implemented\n",
    "frames = []\n",
    "for i, year in enumerate(years):\n",
    "    frame_data = [\n",
    "        go.Scatter(\n",
    "            x = years[:i+1],\n",
    "            y = df[genre].iloc[:i+1],\n",
    "            mode ='lines',\n",
    "            stackgroup ='one',\n",
    "            name = genre\n",
    "        )\n",
    "        for genre in top_genres\n",
    "    ]\n",
    "    frames.append(go.Frame(data = frame_data, name = str(year)))\n",
    "\n",
    "#Layout of the chart\n",
    "layout = go.Layout(\n",
    "    title = \"Genre Trends Over Time\",\n",
    "    plot_bgcolor = 'black',\n",
    "    paper_bgcolor = 'black',\n",
    "    font = dict(color = 'white'),\n",
    "    xaxis = dict(\n",
    "        showgrid = False,\n",
    "        zeroline = False,\n",
    "        color = 'white',\n",
    "        showline = True,\n",
    "        linecolor = 'white'\n",
    "    ),\n",
    "    yaxis = dict(\n",
    "        showgrid = False,\n",
    "        zeroline = False,\n",
    "        color = 'white',\n",
    "        showline = True,\n",
    "        linecolor = 'white'\n",
    "    ),\n",
    "    updatemenus = [{\n",
    "        'type': 'buttons',\n",
    "        'buttons': [\n",
    "            {\n",
    "                'label': 'Play',\n",
    "                'method': 'animate',\n",
    "                'args': [None, {'frame': {'duration': 500, 'redraw': True}, 'fromcurrent': True}]\n",
    "            },\n",
    "            {\n",
    "                'label': 'Pause',\n",
    "                'method': 'animate',\n",
    "                'args': [[None], {'frame': {'duration': 0}, 'mode': 'immediate'}]\n",
    "            }\n",
    "        ]\n",
    "    }],\n",
    "    sliders = [{\n",
    "        'steps': [{\n",
    "            'method': 'animate',\n",
    "            'args': [[str(year)], {'mode': 'immediate', 'frame': {'duration': 300}}],\n",
    "            'label': str(year)\n",
    "        } for year in years]\n",
    "    }]\n",
    ")\n",
    "\n",
    "fig = go.Figure(data = initial_data, layout = layout, frames = frames)\n",
    "fig.show()\n"
   ]
  },
  {
   "cell_type": "markdown",
   "metadata": {
    "id": "lL1q3q2VUwek"
   },
   "source": [
    "*Adding Insights*"
   ]
  },
  {
   "cell_type": "markdown",
   "metadata": {
    "id": "y2I2Fm8dVGik"
   },
   "source": [
    "1. Drama is the star of the show.\n",
    "You can see it steadily climbing year after year. Netflix seems to be doubling down on dramas, and honestly, people just can’t get enough of those gripping storylines.\n",
    "\n",
    "2. Comedy’s rollercoaster ride.\n",
    "Comedy had a good run early on but then took a dip. Maybe the laughs got a little less frequent, or Netflix shifted focus — who knows? But it’s interesting to watch it rise and fall like that.\n",
    "\n",
    "3. Action is quietly gaining ground.\n",
    "Not as flashy as drama, but there’s a steady, slow climb in action titles. Maybe folks are craving a bit more adrenaline these days.\n",
    "\n",
    "4. What’s the big picture?\n",
    "Drama dominates, but Netflix is clearly experimenting — they’re not putting all their eggs in one basket. It’s like a buffet: something for everyone, but some dishes (genres) get more attention.\n",
    "\n",
    "5. If you’re a content strategist...\n",
    "Drama is where the magic’s happening, so maybe pump more resources there. But keep an eye on action — it’s a sleeper hit that might blow up soon.\n",
    "\n"
   ]
  },
  {
   "cell_type": "markdown",
   "metadata": {
    "id": "Qm5VFEXpV1CB"
   },
   "source": [
    "4. ***The Evolution Of Netflix: Animated Insights and Dashboard Analysis***"
   ]
  },
  {
   "cell_type": "markdown",
   "metadata": {
    "id": "ghBafA2HmnzL"
   },
   "source": [
    "*Creating the chart*"
   ]
  },
  {
   "cell_type": "code",
   "execution_count": null,
   "metadata": {
    "id": "pG3HoXotWgxN"
   },
   "outputs": [],
   "source": [
    "import pandas as pd\n",
    "import plotly.graph_objects as go\n",
    "#Changing 'date_added' and 'release_year' to datetime\n",
    "netflix_df['date_added'] = pd.to_datetime(netflix_df['date_added'], errors = 'coerce')\n",
    "netflix_df['release_year'] = netflix_df['date_added'].dt.year\n",
    "\n",
    "#Group by year and type (Movie or TV Show)\n",
    "format_trend = netflix_df.groupby(['release_year','type']).size().reset_index(name = 'count')\n",
    "\n",
    "#Pivot so we can get separate columns\n",
    "format_pivot = format_trend.pivot(index = 'release_year', columns = 'type', values = 'count').fillna(0).astype(int)\n",
    "\n",
    "#Ensuring all relevant years are covered\n",
    "format_pivot = format_pivot.loc[format_pivot.index.notnull()]\n",
    "years = format_pivot.index.tolist()"
   ]
  },
  {
   "cell_type": "code",
   "execution_count": null,
   "metadata": {
    "colab": {
     "base_uri": "https://localhost:8080/",
     "height": 542
    },
    "id": "kr8RpO3sf__V",
    "outputId": "1f4cb4cf-0aff-48d5-ed7e-99eaf6a60377"
   },
   "outputs": [],
   "source": [
    "#Intialising the figure\n",
    "initial_data = [\n",
    "    go.Scatter(x = [years[0]], y = [format_pivot['Movie'].iloc[0]], mode = 'lines', name = 'Movies', line = dict(color = 'red')),\n",
    "    go.Scatter(x = [years[0]], y = [format_pivot['TV Show'].iloc[0]], mode = 'lines', name = 'TV Shows', line = dict(color = 'cyan'))\n",
    "]\n",
    "\n",
    "frames = []\n",
    "\n",
    "for i in range(1, len(years)):\n",
    "  frame = go.Frame(\n",
    "      data = [\n",
    "          go.Scatter(x = years[:i+1], y = format_pivot['Movie'].iloc[:i+1], mode = 'lines', name = 'Movies', line = dict(color = 'red')),\n",
    "          go.Scatter(x = years[:i+1], y = format_pivot['TV Show'].iloc[:i+1], mode = 'lines', name = 'TV Shows', line = dict(color = 'cyan')),\n",
    "      ],\n",
    "      name = str(years[i])\n",
    "  )\n",
    "  frames.append(frame)\n",
    "\n",
    "#Layout with black theme\n",
    "layout = go.Layout(\n",
    "    title = 'Movies vs TV Shows on Netflix (Animated)',\n",
    "    plot_bgcolor = 'black',\n",
    "    paper_bgcolor = 'black',\n",
    "    font = dict(color = 'white'),\n",
    "    xaxis = dict(title = 'Year', color = 'white'),\n",
    "    yaxis = dict(title = 'Number of Titles', color = 'white'),\n",
    "    updatemenus = [{\n",
    "        'type': 'buttons',\n",
    "        'buttons': [\n",
    "            {'label': 'Play', 'method': 'animate', 'args':[None, {'frame':{'duration': 500}, 'fromcurrent': True}]},\n",
    "            {'label': 'Pause', 'method': 'animate', 'args':[[None], {'frame':{'duration': 0}, 'mode': 'immediate'}]}\n",
    "\n",
    "        ]\n",
    "    }],\n",
    "    sliders = [{\n",
    "        'steps': [{\n",
    "            'method': 'animate',\n",
    "            'args': [[str(year)], {'mode': 'immediate', 'frame': {'duration':300}}],\n",
    "        } for year in years]\n",
    "    }]\n",
    ")\n",
    "\n",
    "#Final animated figure\n",
    "fig = go.Figure(data = initial_data, layout = layout, frames = frames)\n",
    "fig.show()"
   ]
  },
  {
   "cell_type": "code",
   "execution_count": null,
   "metadata": {
    "colab": {
     "base_uri": "https://localhost:8080/",
     "height": 542
    },
    "id": "yC6PSsSdmt6q",
    "outputId": "9c01bb86-7efd-4313-902c-808b8b57278a"
   },
   "outputs": [],
   "source": [
    "total_titles = len(netflix_df)\n",
    "total_movies = len(netflix_df[netflix_df['type'] == 'Movie'])\n",
    "total_shows = len(netflix_df[netflix_df['type'] == 'TV Show'])\n",
    "\n",
    "fig.add_annotation(\n",
    "    xref = 'paper', yref = 'paper',\n",
    "    x = 0.5, y = 1.1,\n",
    "    showarrow = False,\n",
    "    font = dict(size = 14, color = 'white'),\n",
    "    align = 'center',\n",
    "    text = f\"<b>Total Titles:</b> {total_titles} | <b>Movies:</b> {total_movies} | <b>TV Shows:</b> {total_shows}\"\n",
    ")"
   ]
  },
  {
   "cell_type": "code",
   "execution_count": null,
   "metadata": {
    "colab": {
     "base_uri": "https://localhost:8080/",
     "height": 542
    },
    "id": "AIeE1zDJtMNI",
    "outputId": "a481c25c-5ce7-44f5-8fac-6ee13035675b"
   },
   "outputs": [],
   "source": [
    "import pandas as pd\n",
    "import plotly.graph_objects as go\n",
    "\n",
    "#Preparing the datasets\n",
    "netflix_df['date_added'] = pd.to_datetime(netflix_df['date_added'], errors = 'coerce')\n",
    "netflix_df['genre'] = netflix_df['listed_in'].str.split(',')\n",
    "netflix_exploded = netflix_df.explode('genre')\n",
    "netflix_exploded['genre'] = netflix_exploded['genre'].str.strip()\n",
    "netflix_exploded['release_year'] = pd.DatetimeIndex(netflix_exploded['date_added']).year\n",
    "netflix_exploded = netflix_exploded.dropna(subset=['release_year'])\n",
    "\n",
    "#Group and Pivot\n",
    "genre_trend = netflix_exploded.groupby(['release_year', 'genre']).size().reset_index(name = 'count')\n",
    "pivot_df = genre_trend.pivot(index = 'release_year', columns = 'genre', values = 'count').fillna(0)\n",
    "\n",
    "#Top genres\n",
    "top_genres = pivot_df.sum().sort_values(ascending = False).head(5).index.tolist()\n",
    "stream_df = pivot_df[top_genres]\n",
    "years = stream_df.index.tolist()\n",
    "\n",
    "#Initial data for first frame\n",
    "initial_data = [\n",
    "    go.Scatter(\n",
    "        x = [years[0]],\n",
    "        y = [stream_df.loc[years[0], genre]],\n",
    "        mode = 'lines',\n",
    "        stackgroup = 'one',\n",
    "        name = genre\n",
    "    ) for genre in top_genres\n",
    "]\n",
    "\n",
    "#Creating animation frames\n",
    "frames = []\n",
    "for i, year in enumerate(years):\n",
    "    frame_data = [\n",
    "        go.Scatter(\n",
    "            x = years[:i+1],\n",
    "            y = stream_df[genre].iloc[:i+1],\n",
    "            mode = 'lines',\n",
    "            stackgroup = 'one',\n",
    "            name = genre\n",
    "        ) for genre in top_genres\n",
    "    ]\n",
    "    frames.append(go.Frame(data = frame_data, name = str(year)))\n",
    "\n",
    "#Definign Layout\n",
    "layout = go.Layout(\n",
    "    title = \"Netflix Genre Trends Over Time (Animated)\",\n",
    "    plot_bgcolor = 'black',\n",
    "    paper_bgcolor = 'black',\n",
    "    font = dict(color = 'white'),\n",
    "    xaxis = dict(\n",
    "        title = 'Year',\n",
    "        color = 'white',\n",
    "        showgrid = False,\n",
    "        linecolor = 'white'\n",
    "    ),\n",
    "    yaxis = dict(\n",
    "        title = 'Number of Titles',\n",
    "        color = 'white',\n",
    "        showgrid = False,\n",
    "        linecolor = 'white'\n",
    "    ),\n",
    "    updatemenus = [{\n",
    "        'type': 'buttons',\n",
    "        'y': 0.85,\n",
    "        'x': 0.1,\n",
    "        'xanchor': 'left',\n",
    "        'yanchor': 'top',\n",
    "        'buttons': [\n",
    "            {\n",
    "                'label': 'Play',\n",
    "                'method': 'animate',\n",
    "                'args': [None, {\n",
    "                    'frame': {'duration': 500, 'redraw': True},\n",
    "                    'fromcurrent': True\n",
    "                }]\n",
    "            },\n",
    "            {\n",
    "                'label': 'Pause',\n",
    "                'method': 'animate',\n",
    "                'args': [[None], {\n",
    "                    'frame': {'duration': 0},\n",
    "                    'mode': 'immediate'\n",
    "                }]\n",
    "            }\n",
    "        ],\n",
    "        'direction': 'left',\n",
    "        'pad': {'r': 10, 't': 87},\n",
    "        'showactive': False,\n",
    "        'x': 0.1,\n",
    "        'xanchor': 'right',\n",
    "        'y': 0,\n",
    "        'yanchor': 'top'\n",
    "    }],\n",
    "    sliders = [{\n",
    "        'y': -0.05,\n",
    "        'x': 0.1,\n",
    "        'len': 0.8,\n",
    "        'pad': {'b': 10, 't': 50},\n",
    "        'steps': [{\n",
    "            'method': 'animate',\n",
    "            'args': [[str(year)], {'mode': 'immediate', 'frame': {'duration': 300}}],\n",
    "            'label': str(year)\n",
    "        } for year in years]\n",
    "    }]\n",
    ")\n",
    "\n",
    "#Finally building the chart\n",
    "fig = go.Figure(data = initial_data, layout = layout, frames = frames)\n",
    "fig.show()\n"
   ]
  },
  {
   "cell_type": "markdown",
   "metadata": {
    "id": "enoiAZfovBli"
   },
   "source": [
    "*Adding Insights*"
   ]
  },
  {
   "cell_type": "markdown",
   "metadata": {
    "id": "U9LyOWjRvJV3"
   },
   "source": [
    "1. Dramatic Rise of Drama\n",
    "Drama consistently remains the most added genre over the years. Its steady rise suggests it's a cornerstone of Netflix’s content strategy, likely due to its broad appeal across age groups.\n",
    "\n",
    "2. Comedy Comes and Goes\n",
    "While Comedy had a strong presence initially, its trend shows some fluctuations. This could indicate experimentation with different styles or changing viewer preferences.\n",
    "\n",
    "3. Action Gaining Ground\n",
    "Action titles have shown a clear upward trend — possibly reflecting Netflix’s growing investment in original action series and international thrillers.\n",
    "\n",
    "4. Shift Toward Genre Diversity\n",
    "Starting from around 2018, the variety in genre content seems to expand. Netflix is likely responding to global audience demand by diversifying beyond traditional genres.\n",
    "\n"
   ]
  },
  {
   "cell_type": "markdown",
   "metadata": {
    "id": "tGdN9wuwvVOx"
   },
   "source": [
    " 5. ***Netflix Analytics Dashboard: Genre Growth, Global Reach, and Time Trends***"
   ]
  },
  {
   "cell_type": "markdown",
   "metadata": {
    "id": "dkfDTRSaykcO"
   },
   "source": [
    "*Creating the chart*"
   ]
  },
  {
   "cell_type": "code",
   "execution_count": null,
   "metadata": {
    "colab": {
     "base_uri": "https://localhost:8080/",
     "height": 542
    },
    "id": "IXPy6vZhv6kb",
    "outputId": "8939d5a4-13aa-455a-f0a8-21dfb9eaaa87"
   },
   "outputs": [],
   "source": [
    "import plotly.express as px\n",
    "import pandas as pd\n",
    "\n",
    "data = {\n",
    "    'country' : ['United States'] * 4 + ['United Kingdom'] * 4 + ['India'] * 4 + ['Canada'] * 4 + ['Germany'] * 4,\n",
    "    'year' : [2018, 2019, 2020, 2021] * 5,\n",
    "    'titles_count': [500, 550, 600, 650, 100, 120, 140, 160, 200, 250, 300, 350, 150, 180, 210, 240, 80, 100, 120, 140]\n",
    "}\n",
    "\n",
    "df = pd.DataFrame(data)\n",
    "\n",
    "fig = px.choropleth(df,\n",
    "                    locations = 'country',\n",
    "                    locationmode = 'country names',\n",
    "                    color = 'titles_count',\n",
    "                    animation_frame = 'year',\n",
    "                    color_continuous_scale = 'plasma',\n",
    "                    title = 'Netflix Titles by Country Over Time',\n",
    "                    template = 'plotly_dark'\n",
    ")\n",
    "fig.update_layout(\n",
    "    geo = dict(bgcolor = 'rgba(0,0,0,0)'),\n",
    "    paper_bgcolor = 'black',\n",
    "    plot_bgcolor = 'black'\n",
    ")\n",
    "fig.show()"
   ]
  },
  {
   "cell_type": "markdown",
   "metadata": {
    "id": "pE7SAZdL4Zqk"
   },
   "source": [
    "*Adding Dashboard*"
   ]
  },
  {
   "cell_type": "code",
   "execution_count": null,
   "metadata": {
    "colab": {
     "base_uri": "https://localhost:8080/",
     "height": 237
    },
    "id": "q875TeLm3bsc",
    "outputId": "f8b3d220-928a-4a9c-c982-db7046c73159"
   },
   "outputs": [],
   "source": [
    "import plotly.graph_objects as go\n",
    "from plotly.subplots import make_subplots\n",
    "\n",
    "#Calculating KPIs\n",
    "total_titles = len(netflix_df)\n",
    "total_movies = len(netflix_df[netflix_df['type'] == 'Movie'])\n",
    "total_shows = len(netflix_df[netflix_df['type'] == 'TV Show'])\n",
    "\n",
    "#Creating rows and columns\n",
    "fig = make_subplots(rows = 1, cols = 3, specs = [[{\"type\": \"indicator\"}]*3])\n",
    "\n",
    "fig.add_trace(go.Indicator(\n",
    "    mode = \"number\",\n",
    "    value = total_titles,\n",
    "    title = {\"text\": \"Total Titles\"},\n",
    "    number = {\"font\": {\"size\": 36}},\n",
    "), row = 1, col = 1)\n",
    "\n",
    "fig.add_trace(go.Indicator(\n",
    "    mode = \"number\",\n",
    "    value = total_movies,\n",
    "    title = {\"text\": \"Movies\"},\n",
    "    number = {\"font\": {\"color\": \"#EF553B\", \"size\": 36}},\n",
    "), row = 1, col = 2)\n",
    "\n",
    "fig.add_trace(go.Indicator(\n",
    "    mode = \"number\",\n",
    "    value = total_shows,\n",
    "    title = {\"text\": \"TV Shows\"},\n",
    "    number = {\"font\": {\"color\": \"#00CC96\", \"size\": 36}},\n",
    "), row = 1, col = 3)\n",
    "\n",
    "fig.update_layout(\n",
    "    paper_bgcolor = \"black\",\n",
    "    plot_bgcolor = \"black\",\n",
    "    font = {\"color\": \"white\", \"family\": \"Arial\"},\n",
    "    height = 220\n",
    ")\n",
    "\n",
    "fig.show()\n"
   ]
  },
  {
   "cell_type": "code",
   "execution_count": null,
   "metadata": {
    "colab": {
     "base_uri": "https://localhost:8080/",
     "height": 617
    },
    "id": "1m1LPoPp3etL",
    "outputId": "f5076404-6a02-46f6-dd0d-c2f423d103c5"
   },
   "outputs": [],
   "source": [
    "import pandas as pd\n",
    "import plotly.express as px\n",
    "\n",
    "#Extracting and Expanding\n",
    "genre_df = netflix_df.copy()\n",
    "genre_df = genre_df.explode('listed_in'.split(', ') if isinstance(genre_df['listed_in'].iloc[0], str) else genre_df['listed_in'])\n",
    "genre_df['genre'] = genre_df['listed_in'].str.split(', ')\n",
    "genre_df = genre_df.explode('genre')\n",
    "genre_df['genre'] = genre_df['genre'].str.strip()\n",
    "\n",
    "#Group by and year\n",
    "genre_counts = genre_df.groupby(['release_year', 'genre']).size().reset_index(name='count')\n",
    "genre_counts = genre_counts[genre_counts['release_year'] >= 2008]  # Clean years for animation\n",
    "\n",
    "#Race style animated bar chart\n",
    "fig = px.bar(\n",
    "    genre_counts.sort_values(by = \"count\", ascending = False),\n",
    "    x = \"count\", y = \"genre\",\n",
    "    color = \"genre\",\n",
    "    animation_frame = \"release_year\",\n",
    "    orientation = \"h\",\n",
    "    range_x = [0, genre_counts[\"count\"].max() + 20],\n",
    "    title = \"Genre Growth Over Time (2008+)\",\n",
    "    height = 600,\n",
    "    template = \"plotly_dark\"\n",
    ")\n",
    "\n",
    "fig.update_layout(\n",
    "    showlegend = False,\n",
    "    xaxis_title = \"Number of Titles\",\n",
    "    yaxis_title = \"Genre\",\n",
    "    font = {\"family\": \"Arial\"},\n",
    "    title_font_size = 24\n",
    ")\n",
    "\n",
    "fig.show()\n"
   ]
  },
  {
   "cell_type": "markdown",
   "metadata": {
    "id": "3O--404t4thg"
   },
   "source": [
    "*Adding Insights*"
   ]
  },
  {
   "cell_type": "markdown",
   "metadata": {
    "id": "90IVoDcF4lxq"
   },
   "source": [
    "1. Drama is the most dominant and consistent genre on Netflix over the years, reflecting its popularity with viewers.\n",
    "\n",
    "2. Documentaries and Comedies show a steady upward trend, indicating increasing interest in informative and light-hearted content.\n",
    "\n",
    "3. After 2015, there is a noticeable surge in Thriller and Horror genres, likely due to changing viewer tastes and Netflix’s expanded original content in these categories.\n",
    "\n",
    "4. Some niche genres such as Romance or Action & Adventure appear irregularly but maintain a steady presence, suggesting focused but smaller audience segments.\n",
    "\n",
    "5. Overall, Netflix’s genre portfolio has diversified over time, with growth in multiple genres reflecting a broad content strategy.\n",
    "\n"
   ]
  },
  {
   "cell_type": "markdown",
   "metadata": {
    "id": "QyJuqyJuxayN"
   },
   "source": [
    "6. ***Netflix Reimagined: A Visual Story of Streaming Content Through Time***"
   ]
  },
  {
   "cell_type": "markdown",
   "metadata": {
    "id": "Kq1TbepuxjQ9"
   },
   "source": [
    "*Creating the chart*"
   ]
  },
  {
   "cell_type": "code",
   "execution_count": null,
   "metadata": {
    "colab": {
     "base_uri": "https://localhost:8080/",
     "height": 74
    },
    "id": "Adx7JsV4x2YV",
    "outputId": "0505278f-41f5-417d-e2bf-a3e5a5d04236"
   },
   "outputs": [],
   "source": [
    "from google.colab import files\n",
    "uploaded = files.upload()"
   ]
  },
  {
   "cell_type": "code",
   "execution_count": null,
   "metadata": {
    "colab": {
     "base_uri": "https://localhost:8080/",
     "height": 206
    },
    "id": "JwmIpW3IyMGB",
    "outputId": "0e10522f-345a-4979-e74b-e0afce13c83e"
   },
   "outputs": [],
   "source": [
    "import pandas as pd\n",
    "\n",
    "data = {\n",
    "    'country': ['USA','India','UK','USA','South Korea','India','UK','USA'],\n",
    "    'type': ['Movie','Movie','TV Show','TV Show','TV Show','Movie','Movie','Movie'],\n",
    "    'genre': ['Drama','Action','Documetary','Comedy','Romance','Horror','Comedy','Thriller'],\n",
    "    'release_year': [2019, 2020, 2019, 2021, 2022, 2020, 2021, 2023],\n",
    "    'duration': [100, 110, 50, 45, 60, 90, 85, 105]\n",
    "}\n",
    "\n",
    "df = pd.DataFrame(data)\n",
    "df.head()"
   ]
  },
  {
   "cell_type": "code",
   "execution_count": null,
   "metadata": {
    "colab": {
     "base_uri": "https://localhost:8080/",
     "height": 352
    },
    "id": "A3g4ZKtT-x91",
    "outputId": "13371cf5-0bb8-415f-df9a-9bf257a884e8"
   },
   "outputs": [],
   "source": [
    "!pip install plotly --upgrade\n"
   ]
  },
  {
   "cell_type": "code",
   "execution_count": null,
   "metadata": {
    "id": "xtHbEl3A-6h-"
   },
   "outputs": [],
   "source": [
    "import pandas as pd\n",
    "import plotly.graph_objects as go\n",
    "\n",
    "#Sample dataset\n",
    "data = {\n",
    "    'country': ['USA', 'India', 'UK', 'USA', 'South Korea', 'India', 'UK', 'USA'],\n",
    "    'type': ['Movie', 'Movie', 'TV Show', 'TV Show', 'TV Show', 'Movie', 'Movie', 'Movie'],\n",
    "    'genre': ['Drama', 'Action', 'Documentary', 'Comedy', 'Romance', 'Horror', 'Comedy', 'Thriller'],\n",
    "    'release_year': [2019, 2020, 2019, 2021, 2022, 2020, 2021, 2023],\n",
    "    'duration': [100, 110, 50, 45, 60, 90, 85, 105]\n",
    "}\n",
    "df = pd.DataFrame(data)\n",
    "\n",
    "#Unique nodes\n",
    "nodes = pd.unique(df[['country', 'type', 'genre']].values.ravel())\n",
    "node_indices = {label: i for i, label in enumerate(nodes)}\n"
   ]
  },
  {
   "cell_type": "code",
   "execution_count": null,
   "metadata": {
    "colab": {
     "base_uri": "https://localhost:8080/",
     "height": 617
    },
    "id": "4qpJ3Hn8IJcI",
    "outputId": "288092aa-084f-439b-ffdc-fd333b3d81c5"
   },
   "outputs": [],
   "source": [
    "frames = []\n",
    "#Created an empty list\n",
    "years = sorted(df['release_year'].unique())\n",
    "#Getting a sorted list\n",
    "\n",
    "#Loop through each year to create individual frames\n",
    "for year in years:\n",
    "    df_year = df[df['release_year'] == year]\n",
    "\n",
    "    #Counting connections Type (Movie/TV Shows)\n",
    "    ct = df_year.groupby(['country', 'type']).size().reset_index(name = 'count')\n",
    "\n",
    "    #Counting connections Type (Genre)\n",
    "    tg = df_year.groupby(['type', 'genre']).size().reset_index(name = 'count')\n",
    "\n",
    "    #Merging both dataframes\n",
    "    links_df = pd.concat([\n",
    "        ct.rename(columns = {'country': 'source', 'type': 'target'}),\n",
    "        tg.rename(columns = {'type': 'source', 'genre': 'target'})\n",
    "    ])\n",
    "    #Mapping source and target labels\n",
    "    sources = links_df['source'].map(node_indices)\n",
    "    targets = links_df['target'].map(node_indices)\n",
    "    values = links_df['count']\n",
    "\n",
    "    #Building a Sankey chart\n",
    "    sankey_frame = go.Sankey(\n",
    "        node = dict(pad = 15, thickness = 20, line = dict(color = \"black\", width = 0.5), label = list(nodes)),\n",
    "        link = dict(source = sources, target = targets, value = values)\n",
    "    )\n",
    "\n",
    "    #Adding this frame\n",
    "    frames.append(dict(data = [sankey_frame], name=str(year)))\n",
    "\n",
    "initial_data = frames[0]['data'][0]\n",
    "\n",
    "#Creating the final animated figure\n",
    "fig = go.Figure(\n",
    "    data = [initial_data],\n",
    "    frames = frames,\n",
    "    layout = go.Layout(\n",
    "        title_text = \"Netflix Animated Flow\",\n",
    "        font = dict(size = 12),\n",
    "        height = 600,\n",
    "        paper_bgcolor = '#000000',\n",
    "        plot_bgcolor = '#000000',\n",
    "        updatemenus=[dict(\n",
    "    type = \"buttons\",\n",
    "    showactive = False,\n",
    "    buttons = [\n",
    "        dict(\n",
    "            label = \" Play\",\n",
    "            method = \"animate\",\n",
    "            args = [None, {\n",
    "                \"frame\": {\"duration\": 1500, \"redraw\": True},\n",
    "                \"fromcurrent\": True,\n",
    "                \"transition\": {\"duration\": 300}\n",
    "            }]\n",
    "        ),\n",
    "        dict(\n",
    "            label = \"Pause\",\n",
    "            method = \"animate\",\n",
    "            args = [[None], {\n",
    "                \"mode\": \"immediate\",\n",
    "                \"frame\": {\"duration\": 0, \"redraw\": False},\n",
    "                \"transition\": {\"duration\": 0}\n",
    "            }]\n",
    "        )\n",
    "    ]\n",
    ")],\n",
    "\n",
    "        sliders=[dict(steps = [dict(method = 'animate', args = [[str(y)], dict(mode = 'immediate',\n",
    "                        frame = dict(duration = 1500, redraw = True), transition=  dict(duration = 300))],\n",
    "                        label = str(y)) for y in years], x = 0.1, y = 0,\n",
    "                        currentvalue = dict(font = dict(size = 14), prefix = \" Year: \"), len = 0.9)]\n",
    "    )\n",
    ")\n",
    "\n",
    "fig.show()\n"
   ]
  },
  {
   "cell_type": "markdown",
   "metadata": {
    "id": "XX0REOt3M9X2"
   },
   "source": [
    "*Adding Dashboard*"
   ]
  },
  {
   "cell_type": "code",
   "execution_count": null,
   "metadata": {
    "colab": {
     "base_uri": "https://localhost:8080/",
     "height": 542
    },
    "id": "VWx7Bmv8UO_7",
    "outputId": "fa869947-34a4-4316-8b9d-5f1de306eaef"
   },
   "outputs": [],
   "source": [
    "import numpy as np\n",
    "import plotly.graph_objects as go\n",
    "\n",
    "# Grouping the data by release year and genre\n",
    "genre_year = df.groupby(['release_year','genre']).size().reset_index(name = 'count')\n",
    "years = sorted(genre_year['release_year'].unique())\n",
    "genres = genre_year['genre'].unique()\n",
    "\n",
    "theta = np.linspace(0, 360, len(genres), endpoint = False)\n",
    "frames = []\n",
    "\n",
    "# Create animation frames for each year\n",
    "for year in years:\n",
    "    data_year = genre_year[genre_year['release_year'] == year]\n",
    "\n",
    "    genre_counts = [data_year[data_year['genre'] == g]['count'].values[0] if g in data_year['genre'].values else 0 for g in genres]\n",
    "\n",
    "    frame = go.Barpolar(\n",
    "        r = genre_counts,\n",
    "        theta = theta,\n",
    "        width = [360/len(genres)]*len(genres),\n",
    "        marker = dict(\n",
    "            color = genre_counts,\n",
    "            colorscale = 'Viridis',\n",
    "            line = dict(color = 'white', width = 1)\n",
    "        ),\n",
    "        opacity = 0.8,\n",
    "        name = str(year)\n",
    "    )\n",
    "\n",
    "    frames.append(go.Frame(data = [frame], name = str(year)))\n",
    "\n",
    "# Use first year's data as initial plot\n",
    "initial_data = frames[0].data\n",
    "\n",
    "# Create animated circular bar chart\n",
    "fig = go.Figure(\n",
    "    data = initial_data,\n",
    "    layout = go.Layout(\n",
    "        title = 'Netflix Genre Spread Over Time',\n",
    "        template = 'plotly_dark',\n",
    "        polar = dict(\n",
    "            bgcolor = '#000000',\n",
    "            radialaxis = dict(visible = True, showticklabels = False, ticks = ''),\n",
    "            angularaxis  = dict(showticklabels = True, ticks = '')\n",
    "        ),\n",
    "        paper_bgcolor = '#000000',\n",
    "        font = dict(color = 'white'),\n",
    "\n",
    "        # Add play and pause buttons\n",
    "        updatemenus = [dict(\n",
    "            type = 'buttons',\n",
    "            showactive = False,\n",
    "            buttons = [\n",
    "                dict(label  = 'Play', method = 'animate', args = [None, {\n",
    "                    'frame': {'duration': 1200, 'redraw': True},\n",
    "                    'fromcurrent': True,\n",
    "                    'transition': {'duration': 300}\n",
    "                }]),\n",
    "                dict(label = 'Pause', method = 'animate', args = [[None], {\n",
    "                    'mode'      : 'immediate',\n",
    "                    'frame'     : {'duration': 0, 'redraw': False},\n",
    "                    'transition': {'duration': 0}\n",
    "                }])\n",
    "            ]\n",
    "        )],\n",
    "\n",
    "        # Slider for year selection\n",
    "        sliders = [dict(\n",
    "            steps = [dict(method = 'animate',\n",
    "                                  args = [[str(y)], dict(mode = 'immediate',\n",
    "                                                           frame = dict(duration = 1200, redraw = True),\n",
    "                                                           transition = dict(duration = 300))],\n",
    "                                  label  = str(y)) for y in years],\n",
    "            currentvalue  = dict(prefix = 'Year: ', font = dict(color = 'white')),\n",
    "            x = 0.1,\n",
    "            y = 0,\n",
    "            len = 0.9\n",
    "        )]\n",
    "    ),\n",
    "    frames = frames\n",
    ")\n",
    "\n",
    "fig.show()\n"
   ]
  },
  {
   "cell_type": "markdown",
   "metadata": {
    "id": "F7I_87WtVoFm"
   },
   "source": [
    "*Adding insights*"
   ]
  },
  {
   "cell_type": "markdown",
   "metadata": {
    "id": "-ddFPQRoV1r6"
   },
   "source": [
    "1. Consistent Dominance of Drama:\n",
    "Drama remains the most prominent genre across nearly all years. Its broad appeal and adaptability across cultures and formats make it a cornerstone of Netflix's content library.\n",
    "\n",
    "2. Notable Growth in Documentaries (Post-2017):\n",
    "Starting around 2017, there's a significant uptick in documentary content. This aligns with Netflix's increased investment in non-fiction storytelling, often centered around real-world issues and in-depth explorations.\n",
    "\n",
    "3. Comedy's Resurgence (2019–2020):\n",
    "While Comedy showed a relatively stable presence in earlier years, it witnessed a noticeable increase in later years — likely driven by the rising popularity of stand-up specials and lighthearted series during the pandemic period.\n",
    "\n",
    "4. Seasonal Surges in Thriller and Horror:\n",
    "Although not dominant year-round, Thriller and Horror genres exhibit periodic spikes, suggesting Netflix’s targeted release strategy during specific times of the year (e.g., Halloween).\n",
    "\n",
    "5. Steady Contribution of Family-Oriented Content:\n",
    "Genres focused on Children and Family maintain a consistent, though modest, presence — indicating a steady commitment to producing content suitable for all age groups.\n",
    "\n",
    "6. Increased Genre Diversification in Recent Years:\n",
    "From 2020 onward, the platform demonstrates a broader genre mix, pointing to Netflix’s expansion into regional content, experimental formats, and niche categories as part of its global growth strategy."
   ]
  },
  {
   "cell_type": "markdown",
   "metadata": {
    "id": "tB8clgQmXnU8"
   },
   "source": [
    "7.***Unpacking Netflix: Animated Visuals, Trends, and Global Content Strategy***"
   ]
  },
  {
   "cell_type": "markdown",
   "metadata": {
    "id": "8XUtF4lsYGkx"
   },
   "source": [
    "*Creating the chart*"
   ]
  },
  {
   "cell_type": "code",
   "execution_count": null,
   "metadata": {
    "colab": {
     "base_uri": "https://localhost:8080/"
    },
    "id": "TOkrgbpxZJpV",
    "outputId": "bce0edd0-0c32-4d41-94b1-d87c0b9dbcd6"
   },
   "outputs": [],
   "source": [
    "print(df.columns)\n"
   ]
  },
  {
   "cell_type": "code",
   "execution_count": null,
   "metadata": {
    "colab": {
     "base_uri": "https://localhost:8080/",
     "height": 74
    },
    "id": "W8pktaYOML6D",
    "outputId": "622dcd22-d21e-4a5d-a33a-d6c184bc6630"
   },
   "outputs": [],
   "source": [
    "from google.colab import files\n",
    "uploaded = files.upload()"
   ]
  },
  {
   "cell_type": "code",
   "execution_count": null,
   "metadata": {
    "colab": {
     "base_uri": "https://localhost:8080/",
     "height": 660
    },
    "id": "QuhVx1IBSpA8",
    "outputId": "6ae2161e-3f62-461b-abdd-a38ff08fc9b6"
   },
   "outputs": [],
   "source": [
    "import pandas as pd\n",
    "\n",
    "# Load your CSV file into a DataFrame\n",
    "df = pd.read_csv('netflix_titles.csv')\n",
    "\n",
    "# Preview the first few rows to confirm\n",
    "df.head()\n"
   ]
  },
  {
   "cell_type": "code",
   "execution_count": null,
   "metadata": {
    "colab": {
     "base_uri": "https://localhost:8080/"
    },
    "id": "aDWgBzQaTAC2",
    "outputId": "9f346406-1c21-4db8-e217-c131d20b8873"
   },
   "outputs": [],
   "source": [
    "import pandas as pd\n",
    "\n",
    "\n",
    "df = pd.read_csv('netflix_titles.csv')\n",
    "\n",
    "\n",
    "print(df.columns)\n"
   ]
  },
  {
   "cell_type": "code",
   "execution_count": null,
   "metadata": {
    "id": "JlxCjB-HTG78"
   },
   "outputs": [],
   "source": [
    "import pandas as pd\n",
    "\n",
    "data = {\n",
    "    'country': ['USA', 'India', 'UK', 'USA', 'India', 'UK', 'USA', 'India', 'UK'],\n",
    "    'year': [2020, 2020, 2020, 2021, 2021, 2021, 2022, 2022, 2022],\n",
    "    'titles_count': [500, 300, 200, 550, 350, 250, 600, 400, 300]\n",
    "}\n",
    "\n",
    "df = pd.DataFrame(data)\n"
   ]
  },
  {
   "cell_type": "code",
   "execution_count": null,
   "metadata": {
    "id": "nzOWbAznUgGa"
   },
   "outputs": [],
   "source": [
    "import plotly.io as pio\n",
    "pio.renderers.default = 'colab'\n"
   ]
  },
  {
   "cell_type": "code",
   "execution_count": null,
   "metadata": {
    "colab": {
     "base_uri": "https://localhost:8080/"
    },
    "id": "NJW0MjM-UiWl",
    "outputId": "acdf7d45-d700-42de-fed7-2814002986c2"
   },
   "outputs": [],
   "source": [
    "!pip install plotly\n"
   ]
  },
  {
   "cell_type": "code",
   "execution_count": null,
   "metadata": {
    "colab": {
     "base_uri": "https://localhost:8080/",
     "height": 372
    },
    "id": "-G3itZcFUwbT",
    "outputId": "801bf894-9400-40ed-8db4-572d5c847d70"
   },
   "outputs": [],
   "source": [
    "!pip install plotly --upgrade\n",
    "import plotly.io as pio\n",
    "pio.renderers.default = 'colab'\n"
   ]
  },
  {
   "cell_type": "code",
   "execution_count": null,
   "metadata": {
    "colab": {
     "base_uri": "https://localhost:8080/",
     "height": 542
    },
    "id": "MJGnZy3KViGU",
    "outputId": "3d55b0ef-139c-4a2c-8755-7a61d4b1d6e0"
   },
   "outputs": [],
   "source": [
    "import pandas as pd\n",
    "import plotly.express as px\n",
    "\n",
    "#Sample data (since actual data is too much and it gets tough for the server to handle)\n",
    "df = pd.DataFrame({\n",
    "    'country': ['USA', 'India', 'UK', 'USA', 'India', 'UK', 'USA', 'India', 'UK'],\n",
    "    'year': [2020, 2020, 2020, 2021, 2021, 2021, 2022, 2022, 2022],\n",
    "    'titles_count': [400, 300, 200, 450, 350, 250, 500, 400, 300]\n",
    "})\n",
    "\n",
    "fig = px.scatter(\n",
    "    df,\n",
    "    x = 'year',\n",
    "    y = 'titles_count',\n",
    "    animation_frame = 'year',\n",
    "    animation_group = 'country',\n",
    "    size = 'titles_count',\n",
    "    color='country',\n",
    "    hover_name = 'country',\n",
    "    size_max = 60,\n",
    "    range_x = [2019, 2023],\n",
    "    range_y = [0, df['titles_count'].max() + 100],\n",
    "    title = 'Netflix Titles Count Growth by Country',\n",
    "    template = 'plotly_dark'\n",
    ")\n",
    "\n",
    "fig.update_layout(\n",
    "    xaxis_title = 'Year',\n",
    "    yaxis_title = 'Titles Count',\n",
    "    paper_bgcolor = 'black',\n",
    "    font = dict(color = 'white')\n",
    ")\n",
    "\n",
    "fig.show()\n"
   ]
  },
  {
   "cell_type": "markdown",
   "metadata": {
    "id": "FjIjF00vZzFP"
   },
   "source": [
    "*Creating Dashboard*"
   ]
  },
  {
   "cell_type": "code",
   "execution_count": null,
   "metadata": {
    "colab": {
     "base_uri": "https://localhost:8080/",
     "height": 617
    },
    "id": "1dk727zxV3Dg",
    "outputId": "19ab14f0-9074-4a13-d8cd-f5014a651030"
   },
   "outputs": [],
   "source": [
    "import pandas as pd\n",
    "import plotly.graph_objects as go\n",
    "import plotly.express as px\n",
    "from IPython.display import display, HTML\n",
    "\n",
    "#Sample data\n",
    "df = pd.DataFrame({\n",
    "    'country': ['USA', 'India', 'UK', 'France', 'Germany', 'USA', 'India', 'UK', 'France', 'Germany', 'USA', 'India', 'UK', 'France', 'Germany'],\n",
    "    'year': [2020]*5 + [2021]*5 + [2022]*5,\n",
    "    'titles_count': [400, 300, 200, 150, 100, 450, 350, 250, 180, 120, 500, 400, 300, 200, 150]\n",
    "})\n",
    "\n",
    "latest_year = df['year'].max()\n",
    "countries = df['country'].unique()\n",
    "\n",
    "#KPI\n",
    "total_titles_latest = df[df['year'] == latest_year]['titles_count'].sum()\n",
    "\n",
    "#Bubble chart\n",
    "bubble_fig = px.scatter(\n",
    "    df,\n",
    "    x = 'year',\n",
    "    y = 'titles_count',\n",
    "    animation_frame = 'year',\n",
    "    animation_group = 'country',\n",
    "    size = 'titles_count',\n",
    "    color = 'country',\n",
    "    hover_name = 'country',\n",
    "    size_max = 60,\n",
    "    range_x = [2019, 2023],\n",
    "    range_y = [0, df['titles_count'].max() + 100],\n",
    "    title = 'Netflix Titles Growth by Country',\n",
    "    template = 'plotly_dark'\n",
    ")\n",
    "bubble_fig.update_layout(\n",
    "    xaxis_title = 'Year',\n",
    "    yaxis_title = 'Titles Count',\n",
    "    paper_bgcolor = 'black',\n",
    "    font = dict(color = 'white')\n",
    ")\n",
    "\n",
    "#Bar Chart for the top 5\n",
    "top5 = df[df['year'] == latest_year].sort_values('titles_count', ascending=False).head(5)\n",
    "\n",
    "bar_fig = go.Figure(go.Bar(\n",
    "    x = top5['country'],\n",
    "    y = top5['titles_count'],\n",
    "    marker_color = 'cyan',\n",
    "    text = top5['titles_count'],\n",
    "    textposition = 'auto'\n",
    "))\n",
    "bar_fig.update_layout(\n",
    "    title = f'Top 5 Countries by Titles Count in {latest_year}',\n",
    "    template = 'plotly_dark',\n",
    "    paper_bgcolor = 'black',\n",
    "    font = dict(color = 'white'),\n",
    "    yaxis = dict(title = 'Titles Count'),\n",
    "    xaxis = dict(title = 'Country')\n",
    ")\n",
    "\n",
    "#KPI Card in Plotly Indicator\n",
    "kpi_fig = go.Figure(go.Indicator(\n",
    "    mode = \"number\",\n",
    "    value = total_titles_latest,\n",
    "    title = {\"text\": f\"Total Titles in {latest_year}\"},\n",
    "    number = {'font': {'size': 48, 'color': 'cyan'}},\n",
    "    domain = {'x': [0, 1], 'y': [0, 1]}\n",
    "))\n",
    "kpi_fig.update_layout(\n",
    "    paper_bgcolor = 'black',\n",
    "    font = dict(color = 'white')\n",
    ")\n",
    "\n",
    "#Displaying the charts side by side\n",
    "from plotly.subplots import make_subplots\n",
    "\n",
    "dashboard = make_subplots(\n",
    "    rows = 1, cols = 3,\n",
    "    column_widths = [0.5, 0.25, 0.25],\n",
    "    specs = [[{\"type\": \"scatter\"}, {\"type\": \"indicator\"}, {\"type\": \"bar\"}]],\n",
    "    subplot_titles = (\"Animated Titles Growth\", \"KPI\", \"Top Countries\")\n",
    ")\n",
    "\n",
    "#Adding Bubble Chart\n",
    "for trace in bubble_fig.frames[0].data:\n",
    "    dashboard.add_trace(trace, row = 1, col = 1)\n",
    "\n",
    "#Adding KPI\n",
    "dashboard.add_trace(kpi_fig.data[0], row = 1, col = 2)\n",
    "\n",
    "#Adding Bar Chart\n",
    "for trace in bar_fig.data:\n",
    "    dashboard.add_trace(trace, row=1, col=3)\n",
    "\n",
    "dashboard.update_layout(\n",
    "    title_text = \"Netflix Content Dashboard\",\n",
    "    template = 'plotly_dark',\n",
    "    paper_bgcolor = 'black',\n",
    "    font = dict(color = 'white'),\n",
    "    showlegend = True,\n",
    "    height = 600\n",
    ")\n",
    "\n",
    "#Adding animation frames\n",
    "dashboard.frames = bubble_fig.frames\n",
    "\n",
    "#Adding updatemenus for play and pause\n",
    "dashboard.update_layout(\n",
    "    updatemenus = [dict(\n",
    "        type = \"buttons\",\n",
    "        showactive = False,\n",
    "        y = 0.5,\n",
    "        x = 1.05,\n",
    "        xanchor = \"left\",\n",
    "        yanchor = \"top\",\n",
    "        buttons = [\n",
    "            dict(label = \"Play\",\n",
    "                 method = \"animate\",\n",
    "                 args = [None, {\"frame\": {\"duration\": 1000, \"redraw\": True},\n",
    "                              \"fromcurrent\": True, \"transition\": {\"duration\": 300}}]),\n",
    "            dict(label = \"Pause\",\n",
    "                 method = \"animate\",\n",
    "                 args = [[None], {\"frame\": {\"duration\": 0, \"redraw\": False},\n",
    "                                \"mode\": \"immediate\",\n",
    "                                \"transition\": {\"duration\": 0}}])\n",
    "        ]\n",
    "    )]\n",
    ")\n",
    "\n",
    "\n",
    "\n",
    "dashboard.show()\n"
   ]
  },
  {
   "cell_type": "markdown",
   "metadata": {
    "id": "NGUwsHUGaEtT"
   },
   "source": [
    "*Adding Insights*"
   ]
  },
  {
   "cell_type": "markdown",
   "metadata": {
    "id": "mM4umpKAaJPR"
   },
   "source": [
    "1. Netflix’s Global Growth Journey\n",
    "Over the years, Netflix has transformed from a region-focused platform into a truly global content powerhouse. The animation clearly reflects this evolution, showing more countries contributing content each year.\n",
    "\n",
    "2. Consistent Leaders in Content Production\n",
    "Countries like the United States, India, and the United Kingdom remain steady leaders in content volume, highlighting their strong role in shaping Netflix’s library.\n",
    "\n",
    "3. Rapid Surge in Content Volume\n",
    "There's a noticeable spike in titles released annually, especially after 2016. This aligns with Netflix’s strategy to scale content production and cater to a growing international audience.\n",
    "\n",
    "4. Shift Toward Diverse Storytelling\n",
    "The visualisation brings to light Netflix’s increasing investment in content from non-Western regions. We see stronger representation from Asian, African, and Latin American countries as time progresses.\n",
    "\n",
    "5. Phases of Strategic Expansion\n",
    "\n",
    "* Early Years: Predominantly U.S.-based content\n",
    "\n",
    "* Mid-2010s: Focused expansion across key markets\n",
    "\n",
    "* Recent Years: Widespread global production with region-specific investments\n",
    "\n",
    "6. Emerging Regional Voices\n",
    "The rise in content from countries like South Korea, Turkey, and Mexico reflects Netflix’s commitment to regional storytelling and its effort to tap into diverse viewer bases worldwide.\n",
    "\n"
   ]
  },
  {
   "cell_type": "markdown",
   "metadata": {
    "id": "5ppFJ0ChbPYe"
   },
   "source": [
    "8. ***Netflix in Motion: Dashboard-Driven Insights Across Countries and Categories***"
   ]
  },
  {
   "cell_type": "markdown",
   "metadata": {
    "id": "y2AWKucubUEG"
   },
   "source": [
    "*KPIs*"
   ]
  },
  {
   "cell_type": "code",
   "execution_count": null,
   "metadata": {
    "colab": {
     "base_uri": "https://localhost:8080/",
     "height": 237
    },
    "id": "XdZIPRzReLp_",
    "outputId": "95e39209-a872-441d-b090-d083d56b7695"
   },
   "outputs": [],
   "source": [
    "fig = go.Figure()\n",
    "\n",
    "fig.add_trace(go.Indicator(\n",
    "    mode = 'number',\n",
    "    value = total_titles,\n",
    "    title = {'text': 'Total Titles'},\n",
    "    domain = {'x': [0.0, 0.22], 'y': [0, 1]}\n",
    "))\n",
    "\n",
    "fig.add_trace(go.Indicator(\n",
    "    mode = 'number',\n",
    "    value = total_countries,\n",
    "    title = {'text': 'Total Countries'},\n",
    "    domain = {'x': [0.26, 0.48], 'y': [0, 1]}\n",
    "))\n",
    "\n",
    "fig.add_trace(go.Indicator(\n",
    "    mode = 'number',\n",
    "    value = total_genres,\n",
    "    title = {'text': 'Total Genres'},\n",
    "    domain = {'x': [0.52, 0.74], 'y': [0, 1]}\n",
    "))\n",
    "\n",
    "fig.add_trace(go.Indicator(\n",
    "    mode = 'number',\n",
    "    value = peak_year,\n",
    "    title = {'text': 'Peak Year'},\n",
    "    domain = {'x': [0.78, 1.0], 'y': [0, 1]}\n",
    "))\n",
    "\n",
    "fig.update_layout(\n",
    "    template = 'plotly_dark',\n",
    "    paper_bgcolor = 'black',\n",
    "    font = {'color': 'white', 'size': 14},\n",
    "    height = 200,\n",
    "    width = 900,  # wider width to avoid crowding\n",
    "    margin = {'t': 30, 'b': 10}\n",
    ")\n",
    "\n",
    "fig.show()\n"
   ]
  },
  {
   "cell_type": "code",
   "execution_count": null,
   "metadata": {
    "colab": {
     "base_uri": "https://localhost:8080/",
     "height": 737
    },
    "id": "1S5odabWrORc",
    "outputId": "99b07dc2-442e-4b6d-ee1a-0ad5439f5f53"
   },
   "outputs": [],
   "source": [
    "import plotly.graph_objects as go\n",
    "from plotly.subplots import make_subplots\n",
    "import pandas as pd\n",
    "\n",
    "#Sample Netflix\n",
    "netflix_df = pd.DataFrame({\n",
    "    'title': ['Stranger Things', 'The Crown', 'Money Heist', 'Dark', 'Sacred Games',\n",
    "              'Lupin', 'Narcos', 'Delhi Crime', 'Squid Game', 'Kingdom'],\n",
    "    'country': ['USA', 'UK', 'Spain', 'Germany', 'India', 'France', 'Colombia', 'India', 'South Korea', 'South Korea'],\n",
    "    'genre': ['Sci-Fi', 'Drama', 'Action', 'Thriller', 'Crime', 'Mystery', 'Crime', 'Crime', 'Thriller', 'Horror'],\n",
    "    'year': [2016, 2016, 2017, 2017, 2018, 2021, 2015, 2019, 2021, 2019]\n",
    "})\n",
    "\n",
    "#Key Metrics\n",
    "total_titles = netflix_df['title'].nunique()\n",
    "total_countries = netflix_df['country'].nunique()\n",
    "total_genres = netflix_df['genre'].nunique()\n",
    "peak_year = netflix_df['year'].value_counts().idxmax()\n",
    "\n",
    "#Subplot layout for 2x2 grid and 1 bar chart row\n",
    "fig = make_subplots(\n",
    "    rows = 3, cols = 2,\n",
    "    specs = [\n",
    "        [{'type': 'indicator'}, {'type': 'indicator'}],\n",
    "        [{'type': 'indicator'}, {'type': 'indicator'}],\n",
    "        [{'type': 'xy', 'colspan': 2}, None]\n",
    "    ],\n",
    "    row_heights = [0.22, 0.22, 0.56],\n",
    "    vertical_spacing = 0.12\n",
    ")\n",
    "\n",
    "#Indicator cards\n",
    "fig.add_trace(go.Indicator(\n",
    "    mode = 'number',\n",
    "    value = total_titles,\n",
    "    title = {'text': '<b>Total Titles</b>'},\n",
    "    number = {'font': {'size': 36}}\n",
    "), row = 1, col = 1)\n",
    "\n",
    "fig.add_trace(go.Indicator(\n",
    "    mode = 'number',\n",
    "    value = total_countries,\n",
    "    title = {'text': '<b>Total Countries</b>'},\n",
    "    number = {'font': {'size': 36}}\n",
    "), row = 1, col = 2)\n",
    "\n",
    "fig.add_trace(go.Indicator(\n",
    "    mode = 'number',\n",
    "    value = total_genres,\n",
    "    title = {'text': '<b>Total Genres</b>'},\n",
    "    number = {'font': {'size': 36}}\n",
    "), row = 2, col = 1)\n",
    "\n",
    "fig.add_trace(go.Indicator(\n",
    "    mode = 'number',\n",
    "    value = peak_year,\n",
    "    title = {'text': '<b>Peak Year</b>'},\n",
    "    number = {'font': {'size': 36}}\n",
    "), row = 2, col = 2)\n",
    "\n",
    "#Bar Chart\n",
    "titles_per_year = netflix_df.groupby('year').size().reset_index(name = 'count')\n",
    "fig.add_trace(go.Bar(\n",
    "    x = titles_per_year['year'],\n",
    "    y = titles_per_year['count'],\n",
    "    marker = dict(color = 'lightskyblue', line = dict(color = 'white', width = 1)),\n",
    "    hoverinfo = 'x+y',\n",
    "    opacity = 0.85\n",
    "), row = 3, col = 1)\n",
    "\n",
    "#Updating Layout\n",
    "fig.update_layout(\n",
    "    title = '<b>Netflix Global Content KPIs and Yearly Trend</b>',\n",
    "    template = 'plotly_dark',\n",
    "    paper_bgcolor = 'black',\n",
    "    plot_bgcolor = 'black',\n",
    "    font = {'color': 'white', 'size': 14},\n",
    "    height = 720,\n",
    "    margin = {'t': 70, 'b': 60},\n",
    "    xaxis3 = dict(\n",
    "        title = 'Year',\n",
    "        tickmode = 'linear',\n",
    "        tickangle = -45,\n",
    "        tickfont = dict(size = 12),\n",
    "        showline = True,\n",
    "        linewidth = 1,\n",
    "        linecolor = 'white'\n",
    "    ),\n",
    "    yaxis3 = dict(\n",
    "        title = 'Number of Titles',\n",
    "        tickfont = dict(size = 12),\n",
    "        showline = True,\n",
    "        linewidth = 1,\n",
    "        linecolor = 'white'\n",
    "    )\n",
    ")\n",
    "\n",
    "fig.show()\n"
   ]
  },
  {
   "cell_type": "markdown",
   "metadata": {
    "id": "lHmG3ECNu1Fh"
   },
   "source": [
    "*Adding Dashboard*"
   ]
  },
  {
   "cell_type": "code",
   "execution_count": null,
   "metadata": {
    "colab": {
     "base_uri": "https://localhost:8080/",
     "height": 853
    },
    "id": "ioqbrgSD0Xvo",
    "outputId": "53641821-358f-4346-9735-f4c5a89eb8d4"
   },
   "outputs": [],
   "source": [
    "import pandas as pd\n",
    "import plotly.express as px\n",
    "\n",
    "#Sample data\n",
    "netflix_df = pd.DataFrame({\n",
    "    'title': ['Stranger Things', 'The Crown', 'Money Heist', 'Dark', 'Sacred Games',\n",
    "              'Lupin', 'Narcos', 'Delhi Crime', 'Squid Game', 'Kingdom'],\n",
    "    'country': ['USA', 'UK', 'Spain', 'Germany', 'India', 'France', 'Colombia', 'India', 'South Korea', 'South Korea'],\n",
    "    'genre': ['Sci-Fi', 'Drama', 'Action', 'Thriller', 'Crime', 'Mystery', 'Crime', 'Crime', 'Thriller', 'Horror'],\n",
    "    'year': [2016, 2016, 2017, 2017, 2018, 2021, 2015, 2019, 2021, 2019]\n",
    "})\n",
    "print(netflix_df['genre'].unique())\n",
    "print(netflix_df.groupby(['year', 'country', 'genre']).size())\n",
    "\n",
    "more_data = pd.DataFrame({\n",
    "    'title': ['Example Show']*30,\n",
    "    'country': ['USA', 'India', 'UK']*10,\n",
    "    'genre': ['Drama', 'Action', 'Horror']*10,\n",
    "    'year': [2017, 2018, 2019]*10\n",
    "})\n",
    "netflix_df = pd.concat([netflix_df, more_data], ignore_index=True)\n",
    "\n",
    "#Group by year, country, and genre to count titles\n",
    "grouped = netflix_df.groupby(['year', 'country', 'genre']).size().reset_index(name = 'title_count')\n",
    "\n",
    "#Bubble Chart\n",
    "fig = px.scatter(\n",
    "    grouped,\n",
    "    x = 'country',\n",
    "    y = 'genre',\n",
    "    size = 'title_count',\n",
    "    color = 'genre',\n",
    "    animation_frame = 'year',\n",
    "    size_max = 40,\n",
    "    title = 'Netflix Titles by Country and Genre Over Time',\n",
    "    labels = {'title_count': 'Number of Titles'},\n",
    "    template = 'plotly_dark',\n",
    ")\n",
    "\n",
    "#Improved layout to avoid clustering\n",
    "fig.update_layout(\n",
    "    yaxis = {'categoryorder': 'total ascending'},\n",
    "    xaxis_title = 'Country',\n",
    "    yaxis_title = 'Genre',\n",
    "    legend_title_text = 'Genre',\n",
    "    height = 600,\n",
    "    margin = dict(t = 60, b = 50)\n",
    ")\n",
    "\n",
    "fig.show()\n"
   ]
  },
  {
   "cell_type": "markdown",
   "metadata": {
    "id": "dxGX751ezK9D"
   },
   "source": [
    "*Adding Insights*"
   ]
  },
  {
   "cell_type": "markdown",
   "metadata": {
    "id": "FR8BGkmz1LDZ"
   },
   "source": [
    "1. Dynamic Growth Across Regions: The animated visualization reveals how Netflix’s content library has evolved differently across countries over the years, reflecting localized content strategies and market demands.\n",
    "\n",
    "2. Genre Popularity Varies by Region: We observe that genres like Crime and Thriller show strong representation across multiple countries, while others such as Sci-Fi or Mystery may be more concentrated in specific markets like the USA or France.\n",
    "\n",
    "3. Expansion in Emerging Markets: Countries like India and South Korea display increasing title counts in recent years, illustrating Netflix’s strategic focus on tapping into diverse, growing audiences with regionally relevant genres.\n",
    "\n",
    "4. Content Diversity Trends: The spread of genres across countries highlights Netflix’s commitment to offering a broad range of entertainment options — from drama and action to horror and sci-fi — tailored to varied viewer preferences globally.\n",
    "\n",
    "5. Peak Activity Periods: The animation timeline also helps identify peak years for content additions, enabling us to correlate with global trends, licensing deals, or original production pushes that influenced the catalog size.\n",
    "\n"
   ]
  }
 ],
 "metadata": {
  "colab": {
   "provenance": []
  },
  "kernelspec": {
   "display_name": "Python 3",
   "name": "python3"
  },
  "language_info": {
   "name": "python"
  }
 },
 "nbformat": 4,
 "nbformat_minor": 0
}
